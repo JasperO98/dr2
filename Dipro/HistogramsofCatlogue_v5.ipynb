{
 "cells": [
  {
   "cell_type": "code",
   "execution_count": 1,
   "metadata": {},
   "outputs": [],
   "source": [
    "import matplotlib.pyplot as plt\n",
    "import seaborn as sns\n",
    "import pandas as pd\n",
    "import numpy as np\n",
    "import json\n",
    "import multiprocessing\n",
    "from seaborn_qqplot import qqplot\n",
    "from scipy.stats import lognorm, norm\n",
    "import math\n",
    "import warnings\n",
    "warnings.filterwarnings(\"ignore\")"
   ]
  },
  {
   "cell_type": "markdown",
   "metadata": {},
   "source": [
    "### For the final version of the plots go down. "
   ]
  },
  {
   "cell_type": "code",
   "execution_count": 2,
   "metadata": {},
   "outputs": [],
   "source": [
    "\n",
    "df = pd.read_csv(\"catalogue_v5.csv\", header=None)\n",
    "df.columns = header = [\"label\", \"total_pixels\", \"x_pixels\", \"y_pixels\",\n",
    "              \"integrated_intensity\", \"brightest_pixel\", \"brightest_pixel_x\", \"brightest_pixel_y\",\n",
    "              \"brightest_pixel_RA\", \"brightest_pixel_DEC\", \"center_of_mass_x\", \"center_of_mass_y\",\n",
    "              \"center_of_mass_RA\", \"center_of_mass_DEC\", \"center_of_gaus_fit_x\", \"center_of_gaus_fit_y\",\n",
    "              \"center_of_gaus_fit_RA\", \"center_of_gaus_fit_DEC\", \"fit_x_axis\", \"fit_y_axis\", \"fit_theta\",\n",
    "              \"deconv_x\", \"deconv_y\", \"integrated_intensity_fit\", \"ratio_residual\"\n",
    "             ]"
   ]
  },
  {
   "cell_type": "code",
   "execution_count": 3,
   "metadata": {},
   "outputs": [
    {
     "data": {
      "text/plain": [
       "(2291395, 25)"
      ]
     },
     "execution_count": 3,
     "metadata": {},
     "output_type": "execute_result"
    }
   ],
   "source": [
    "df.shape"
   ]
  },
  {
   "cell_type": "code",
   "execution_count": null,
   "metadata": {},
   "outputs": [
    {
     "name": "stdout",
     "output_type": "stream",
     "text": [
      "1\n"
     ]
    }
   ],
   "source": [
    "val1=0\n",
    "val2=0\n",
    "for i in list(df.index):\n",
    "    if i%250000 == 1:\n",
    "        print(i)\n",
    "    if(df.deconv_x[i]>0) or (df.deconv_y[i]>0):\n",
    "        val1 +=1\n",
    "    if (df.deconv_x[i]>0) or (df.deconv_y[i]>0):\n",
    "        val2 +=1\n",
    "print(val1,val2)"
   ]
  },
  {
   "cell_type": "code",
   "execution_count": null,
   "metadata": {},
   "outputs": [],
   "source": [
    "sum(df.ratio_residual>10**(-0.7))"
   ]
  },
  {
   "cell_type": "markdown",
   "metadata": {},
   "source": [
    "Removing NaN's from the data."
   ]
  },
  {
   "cell_type": "code",
   "execution_count": null,
   "metadata": {},
   "outputs": [],
   "source": [
    "df.dropna(inplace=True)\n",
    "df.shape"
   ]
  },
  {
   "cell_type": "code",
   "execution_count": null,
   "metadata": {},
   "outputs": [],
   "source": [
    "sum(df.ratio_residual>10**(-0.7))"
   ]
  },
  {
   "cell_type": "code",
   "execution_count": null,
   "metadata": {},
   "outputs": [],
   "source": [
    "val1=0\n",
    "val2=0\n",
    "for i in list(df.index):\n",
    "    if(df.deconv_x[i]>0) or (df.deconv_y[i]>0):\n",
    "        val1 +=1\n",
    "    if (df.deconv_x[i]>0) or (df.deconv_y[i]>0):\n",
    "        val2 +=1\n",
    "print(val1,val2)"
   ]
  },
  {
   "cell_type": "markdown",
   "metadata": {},
   "source": [
    "## First lets just check what changes (if any) need to be made for each plot."
   ]
  },
  {
   "cell_type": "code",
   "execution_count": 4,
   "metadata": {},
   "outputs": [
    {
     "data": {
      "text/html": [
       "<div>\n",
       "<style scoped>\n",
       "    .dataframe tbody tr th:only-of-type {\n",
       "        vertical-align: middle;\n",
       "    }\n",
       "\n",
       "    .dataframe tbody tr th {\n",
       "        vertical-align: top;\n",
       "    }\n",
       "\n",
       "    .dataframe thead th {\n",
       "        text-align: right;\n",
       "    }\n",
       "</style>\n",
       "<table border=\"1\" class=\"dataframe\">\n",
       "  <thead>\n",
       "    <tr style=\"text-align: right;\">\n",
       "      <th></th>\n",
       "      <th>label</th>\n",
       "      <th>total_pixels</th>\n",
       "      <th>x_pixels</th>\n",
       "      <th>y_pixels</th>\n",
       "      <th>integrated_intensity</th>\n",
       "      <th>brightest_pixel</th>\n",
       "      <th>brightest_pixel_x</th>\n",
       "      <th>brightest_pixel_y</th>\n",
       "      <th>brightest_pixel_RA</th>\n",
       "      <th>brightest_pixel_DEC</th>\n",
       "      <th>...</th>\n",
       "      <th>center_of_gaus_fit_y</th>\n",
       "      <th>center_of_gaus_fit_RA</th>\n",
       "      <th>center_of_gaus_fit_DEC</th>\n",
       "      <th>fit_x_axis</th>\n",
       "      <th>fit_y_axis</th>\n",
       "      <th>fit_theta</th>\n",
       "      <th>deconv_x</th>\n",
       "      <th>deconv_y</th>\n",
       "      <th>integrated_intensity_fit</th>\n",
       "      <th>ratio_residual</th>\n",
       "    </tr>\n",
       "  </thead>\n",
       "  <tbody>\n",
       "    <tr>\n",
       "      <th>0</th>\n",
       "      <td>P191+55_0</td>\n",
       "      <td>43</td>\n",
       "      <td>7</td>\n",
       "      <td>7</td>\n",
       "      <td>0.961113</td>\n",
       "      <td>0.001262</td>\n",
       "      <td>4195</td>\n",
       "      <td>13</td>\n",
       "      <td>191.526076</td>\n",
       "      <td>53.102602</td>\n",
       "      <td>...</td>\n",
       "      <td>13.168076</td>\n",
       "      <td>191.526239</td>\n",
       "      <td>53.102672</td>\n",
       "      <td>1.719762</td>\n",
       "      <td>1.896624</td>\n",
       "      <td>-0.532125</td>\n",
       "      <td>0.632697</td>\n",
       "      <td>1.986707</td>\n",
       "      <td>0.971715</td>\n",
       "      <td>0.020838</td>\n",
       "    </tr>\n",
       "    <tr>\n",
       "      <th>1</th>\n",
       "      <td>P191+55_1</td>\n",
       "      <td>20</td>\n",
       "      <td>7</td>\n",
       "      <td>5</td>\n",
       "      <td>0.326739</td>\n",
       "      <td>0.000757</td>\n",
       "      <td>4605</td>\n",
       "      <td>27</td>\n",
       "      <td>191.241494</td>\n",
       "      <td>53.108014</td>\n",
       "      <td>...</td>\n",
       "      <td>27.736198</td>\n",
       "      <td>191.241573</td>\n",
       "      <td>53.108321</td>\n",
       "      <td>1.519698</td>\n",
       "      <td>1.080085</td>\n",
       "      <td>0.057949</td>\n",
       "      <td>0.000000</td>\n",
       "      <td>0.000000</td>\n",
       "      <td>0.330021</td>\n",
       "      <td>0.193748</td>\n",
       "    </tr>\n",
       "    <tr>\n",
       "      <th>2</th>\n",
       "      <td>P191+55_2</td>\n",
       "      <td>45</td>\n",
       "      <td>8</td>\n",
       "      <td>7</td>\n",
       "      <td>0.745168</td>\n",
       "      <td>0.000793</td>\n",
       "      <td>3745</td>\n",
       "      <td>32</td>\n",
       "      <td>191.838427</td>\n",
       "      <td>53.110190</td>\n",
       "      <td>...</td>\n",
       "      <td>32.225611</td>\n",
       "      <td>191.838256</td>\n",
       "      <td>53.110285</td>\n",
       "      <td>2.200380</td>\n",
       "      <td>1.810050</td>\n",
       "      <td>-0.030505</td>\n",
       "      <td>3.293620</td>\n",
       "      <td>1.472263</td>\n",
       "      <td>0.761026</td>\n",
       "      <td>0.051991</td>\n",
       "    </tr>\n",
       "    <tr>\n",
       "      <th>3</th>\n",
       "      <td>P191+55_3</td>\n",
       "      <td>43</td>\n",
       "      <td>10</td>\n",
       "      <td>7</td>\n",
       "      <td>0.702810</td>\n",
       "      <td>0.000809</td>\n",
       "      <td>3775</td>\n",
       "      <td>33</td>\n",
       "      <td>191.817606</td>\n",
       "      <td>53.110655</td>\n",
       "      <td>...</td>\n",
       "      <td>33.203413</td>\n",
       "      <td>191.817539</td>\n",
       "      <td>53.110740</td>\n",
       "      <td>1.720535</td>\n",
       "      <td>2.116901</td>\n",
       "      <td>0.055498</td>\n",
       "      <td>0.644249</td>\n",
       "      <td>2.974800</td>\n",
       "      <td>0.705155</td>\n",
       "      <td>0.082425</td>\n",
       "    </tr>\n",
       "    <tr>\n",
       "      <th>4</th>\n",
       "      <td>P191+55_4</td>\n",
       "      <td>74</td>\n",
       "      <td>14</td>\n",
       "      <td>9</td>\n",
       "      <td>1.104583</td>\n",
       "      <td>0.000829</td>\n",
       "      <td>4346</td>\n",
       "      <td>35</td>\n",
       "      <td>191.421253</td>\n",
       "      <td>53.111697</td>\n",
       "      <td>...</td>\n",
       "      <td>34.681486</td>\n",
       "      <td>191.421128</td>\n",
       "      <td>53.111564</td>\n",
       "      <td>3.113873</td>\n",
       "      <td>2.061817</td>\n",
       "      <td>-0.772092</td>\n",
       "      <td>6.145499</td>\n",
       "      <td>2.751915</td>\n",
       "      <td>1.080358</td>\n",
       "      <td>0.161090</td>\n",
       "    </tr>\n",
       "  </tbody>\n",
       "</table>\n",
       "<p>5 rows × 25 columns</p>\n",
       "</div>"
      ],
      "text/plain": [
       "       label  total_pixels  x_pixels  y_pixels  integrated_intensity  \\\n",
       "0  P191+55_0            43         7         7              0.961113   \n",
       "1  P191+55_1            20         7         5              0.326739   \n",
       "2  P191+55_2            45         8         7              0.745168   \n",
       "3  P191+55_3            43        10         7              0.702810   \n",
       "4  P191+55_4            74        14         9              1.104583   \n",
       "\n",
       "   brightest_pixel  brightest_pixel_x  brightest_pixel_y  brightest_pixel_RA  \\\n",
       "0         0.001262               4195                 13          191.526076   \n",
       "1         0.000757               4605                 27          191.241494   \n",
       "2         0.000793               3745                 32          191.838427   \n",
       "3         0.000809               3775                 33          191.817606   \n",
       "4         0.000829               4346                 35          191.421253   \n",
       "\n",
       "   brightest_pixel_DEC  ...  center_of_gaus_fit_y  center_of_gaus_fit_RA  \\\n",
       "0            53.102602  ...             13.168076             191.526239   \n",
       "1            53.108014  ...             27.736198             191.241573   \n",
       "2            53.110190  ...             32.225611             191.838256   \n",
       "3            53.110655  ...             33.203413             191.817539   \n",
       "4            53.111697  ...             34.681486             191.421128   \n",
       "\n",
       "   center_of_gaus_fit_DEC  fit_x_axis  fit_y_axis  fit_theta  deconv_x  \\\n",
       "0               53.102672    1.719762    1.896624  -0.532125  0.632697   \n",
       "1               53.108321    1.519698    1.080085   0.057949  0.000000   \n",
       "2               53.110285    2.200380    1.810050  -0.030505  3.293620   \n",
       "3               53.110740    1.720535    2.116901   0.055498  0.644249   \n",
       "4               53.111564    3.113873    2.061817  -0.772092  6.145499   \n",
       "\n",
       "   deconv_y  integrated_intensity_fit  ratio_residual  \n",
       "0  1.986707                  0.971715        0.020838  \n",
       "1  0.000000                  0.330021        0.193748  \n",
       "2  1.472263                  0.761026        0.051991  \n",
       "3  2.974800                  0.705155        0.082425  \n",
       "4  2.751915                  1.080358        0.161090  \n",
       "\n",
       "[5 rows x 25 columns]"
      ]
     },
     "execution_count": 4,
     "metadata": {},
     "output_type": "execute_result"
    }
   ],
   "source": [
    "df.head()"
   ]
  },
  {
   "cell_type": "code",
   "execution_count": 6,
   "metadata": {},
   "outputs": [],
   "source": [
    "Filenames = df[\"label\"].str.split(\"_\", n = 1, expand = True) \n",
    "df['filename'] =Filenames[0] "
   ]
  },
  {
   "cell_type": "code",
   "execution_count": null,
   "metadata": {},
   "outputs": [],
   "source": [
    "df.describe()"
   ]
  },
  {
   "cell_type": "code",
   "execution_count": null,
   "metadata": {},
   "outputs": [],
   "source": [
    "#df['label'].groupby(['filename']).agg(['count'])\n",
    "sns.distplot(df.groupby(['filename']).size())"
   ]
  },
  {
   "cell_type": "code",
   "execution_count": null,
   "metadata": {},
   "outputs": [],
   "source": [
    "sns.distplot(df.groupby(['filename'])[['total_pixels']].sum())"
   ]
  },
  {
   "cell_type": "code",
   "execution_count": null,
   "metadata": {},
   "outputs": [],
   "source": [
    "data_for_hist = ['filename','total_pixels', 'integrated_intensity', 'brightest_pixel', 'fit_x_axis', 'fit_y_axis', 'deconv_x', 'deconv_y', 'integrated_intensity_fit', 'ratio_residual']\n",
    "data = df[data_for_hist]\n",
    "#sns.pairplot(data)"
   ]
  },
  {
   "cell_type": "code",
   "execution_count": null,
   "metadata": {},
   "outputs": [],
   "source": []
  },
  {
   "cell_type": "code",
   "execution_count": null,
   "metadata": {},
   "outputs": [],
   "source": [
    "plt.hist(df.total_pixels)\n",
    "plt.title('Histogram plot of Total Pixels')\n",
    "\n",
    "plt.xlabel('Total Number Pixels')\n",
    "plt.ylabel('Counts')"
   ]
  },
  {
   "cell_type": "code",
   "execution_count": null,
   "metadata": {},
   "outputs": [],
   "source": [
    "max(df.total_pixels), min(df.total_pixels)"
   ]
  },
  {
   "cell_type": "code",
   "execution_count": null,
   "metadata": {},
   "outputs": [],
   "source": [
    "np.quantile(df.total_pixels, 0.9999)"
   ]
  },
  {
   "cell_type": "code",
   "execution_count": null,
   "metadata": {},
   "outputs": [],
   "source": [
    "sns.distplot(df.total_pixels)\n",
    "plt.title('Histogram plot of Total Pixels')\n",
    "\n",
    "plt.xlabel('Total Number Pixels')\n",
    "plt.ylabel('Counts')"
   ]
  },
  {
   "cell_type": "code",
   "execution_count": null,
   "metadata": {},
   "outputs": [],
   "source": [
    "## Discarding the last .01% of the largest total pixels value\n",
    "sns.distplot(df[df.total_pixels<np.quantile(df.total_pixels, 0.9999)].total_pixels)\n",
    "\n",
    "print(max(df[df.total_pixels<np.quantile(df.total_pixels, 0.9999)].total_pixels))\n",
    "plt.title('Histogram plot of Total Pixels')\n",
    "\n",
    "plt.xlabel('Total Number Pixels')\n",
    "plt.ylabel('Counts')"
   ]
  },
  {
   "cell_type": "markdown",
   "metadata": {},
   "source": [
    "The cutoff of 99.99% seems quite reasonable. However we can do without this cutoff."
   ]
  },
  {
   "cell_type": "code",
   "execution_count": null,
   "metadata": {},
   "outputs": [],
   "source": [
    "#df.loc[df.total_pixels == 0, 'total_pixels'] = min(df.loc[df.total_pixels > 0].total_pixels)/1000\n",
    "sns.distplot(np.log10(df.total_pixels))\n",
    "plt.title('Histogram plot of Total Pixels LOGSCALE')\n",
    "\n",
    "plt.xlabel('Total Number Pixels')\n",
    "plt.ylabel('Counts')"
   ]
  },
  {
   "cell_type": "code",
   "execution_count": null,
   "metadata": {},
   "outputs": [],
   "source": [
    "sns.distplot(df.integrated_intensity)\n",
    "plt.title('Histogram plot of Integrated Intensity')\n",
    "\n",
    "plt.xlabel('Integrated Intensity')\n",
    "plt.ylabel('Counts')\n"
   ]
  },
  {
   "cell_type": "code",
   "execution_count": null,
   "metadata": {},
   "outputs": [],
   "source": [
    "max(df.integrated_intensity), min(df.integrated_intensity), np.quantile(df.integrated_intensity, 0.99995)"
   ]
  },
  {
   "cell_type": "code",
   "execution_count": null,
   "metadata": {},
   "outputs": [],
   "source": [
    "sns.distplot(df[df.integrated_intensity<np.quantile(df.integrated_intensity, 0.999)].integrated_intensity)\n",
    "plt.title('Histogram plot of Integrated Intensity')\n",
    "\n",
    "plt.xlabel('Integrated Intensity')\n",
    "plt.ylabel('Counts')\n",
    "## However, a cutoff for this may not be required"
   ]
  },
  {
   "cell_type": "code",
   "execution_count": null,
   "metadata": {},
   "outputs": [],
   "source": [
    "sns.distplot(np.log10(df.integrated_intensity))\n",
    "plt.title('Histogram plot of Integrated Intensity LOGSCALE')\n",
    "\n",
    "plt.xlabel('Integrated Intensity')\n",
    "plt.ylabel('Counts')\n"
   ]
  },
  {
   "cell_type": "code",
   "execution_count": null,
   "metadata": {},
   "outputs": [],
   "source": [
    "sns.distplot(df.brightest_pixel)\n",
    "plt.title('Histogram plot of Brightest Pixel')\n",
    "\n",
    "plt.xlabel('Brightest Pixel')\n",
    "plt.ylabel('Counts')\n"
   ]
  },
  {
   "cell_type": "code",
   "execution_count": null,
   "metadata": {},
   "outputs": [],
   "source": [
    "sns.distplot(np.log10(df.brightest_pixel))\n",
    "plt.title('Histogram plot of Brightest Pixel LOGSCALE')\n",
    "\n",
    "plt.xlabel('Brightest Pixel')\n",
    "plt.ylabel('Counts')\n"
   ]
  },
  {
   "cell_type": "markdown",
   "metadata": {},
   "source": [
    "For the brightest pixel also, nothing needs to be done."
   ]
  },
  {
   "cell_type": "code",
   "execution_count": null,
   "metadata": {},
   "outputs": [],
   "source": [
    "sns.distplot(df.fit_x_axis)\n",
    "plt.title('Histogram plot of Fit X axis')\n",
    "\n",
    "plt.xlabel('Fit X Axis')\n",
    "plt.ylabel('Counts')"
   ]
  },
  {
   "cell_type": "code",
   "execution_count": null,
   "metadata": {},
   "outputs": [],
   "source": [
    "df.loc[df.fit_x_axis==0.0, 'fit_x_axis'] =1.0e-8  ## Some values are 0 implying log (0) = inf. So it replaced by a finite value 1000 times less than the minimum value"
   ]
  },
  {
   "cell_type": "code",
   "execution_count": null,
   "metadata": {},
   "outputs": [],
   "source": [
    "sns.distplot(np.log10(df.fit_x_axis))\n",
    "plt.title('Histogram plot of Fit X axis LOGSCALE')\n",
    "\n",
    "plt.xlabel('Fit X Axis')\n",
    "plt.ylabel('Counts')"
   ]
  },
  {
   "cell_type": "markdown",
   "metadata": {},
   "source": [
    "For the fit_x_axis also, nothing needs to be done."
   ]
  },
  {
   "cell_type": "code",
   "execution_count": null,
   "metadata": {},
   "outputs": [],
   "source": [
    "sns.distplot(df.fit_y_axis)\n",
    "plt.title('Histogram plot of Fit Y axis')\n",
    "\n",
    "plt.xlabel('Fit Y Axis')\n",
    "plt.ylabel('Counts')"
   ]
  },
  {
   "cell_type": "code",
   "execution_count": null,
   "metadata": {},
   "outputs": [],
   "source": [
    "df.loc[df.fit_y_axis==0.0, 'fit_y_axis'] =1.0e-8 \n",
    "sns.distplot(np.log10(df.fit_y_axis))\n",
    "plt.title('Histogram plot of Fit Y axis LOGSCALE')\n",
    "\n",
    "plt.xlabel('Fit Y Axis')\n",
    "plt.ylabel('Counts')"
   ]
  },
  {
   "cell_type": "markdown",
   "metadata": {},
   "source": [
    "For the fit_y_axis also, nothing needs to be done."
   ]
  },
  {
   "cell_type": "code",
   "execution_count": null,
   "metadata": {},
   "outputs": [],
   "source": [
    "sns.distplot(df.deconv_x)\n",
    "plt.title('Histogram plot of Deconv X')\n",
    "\n",
    "plt.xlabel('Deconv X Axis')\n",
    "plt.ylabel('Counts')"
   ]
  },
  {
   "cell_type": "code",
   "execution_count": null,
   "metadata": {},
   "outputs": [],
   "source": [
    "df.loc[df.deconv_x == 0, 'deconv_x'] = min(df[df.deconv_x > 0].deconv_x)* 1e-5\n"
   ]
  },
  {
   "cell_type": "code",
   "execution_count": null,
   "metadata": {},
   "outputs": [],
   "source": [
    "sns.distplot(np.log10(df.deconv_x))\n",
    "plt.title('Histogram plot of Deconv X LOGSCALE')\n",
    "\n",
    "plt.xlabel('Deconv X Axis')\n",
    "plt.ylabel('Counts')"
   ]
  },
  {
   "cell_type": "code",
   "execution_count": null,
   "metadata": {},
   "outputs": [],
   "source": [
    "sns.distplot(df.deconv_y)\n",
    "plt.title('Histogram plot of Deconv y')\n",
    "\n",
    "plt.xlabel('Deconv y Axis')\n",
    "plt.ylabel('Counts')"
   ]
  },
  {
   "cell_type": "code",
   "execution_count": null,
   "metadata": {},
   "outputs": [],
   "source": [
    "df.loc[df.deconv_y == 0, 'deconv_y'] = min(df[df.deconv_y > 0].deconv_y)* 1e-5\n",
    "sns.distplot(np.log10(df.deconv_y))\n",
    "plt.title('Histogram plot of Deconv y LOGSCALE')\n",
    "\n",
    "plt.xlabel('Deconv y Axis')\n",
    "plt.ylabel('Counts')"
   ]
  },
  {
   "cell_type": "code",
   "execution_count": null,
   "metadata": {},
   "outputs": [],
   "source": [
    "sns.distplot(df.integrated_intensity_fit)\n",
    "plt.title('Histogram plot of Integrated Intensity')\n",
    "plt.xlabel('Integrated Intensity Fit ')\n",
    "plt.ylabel('Counts')"
   ]
  },
  {
   "cell_type": "code",
   "execution_count": null,
   "metadata": {},
   "outputs": [],
   "source": [
    "max(df.integrated_intensity_fit),min(df.integrated_intensity_fit),np.quantile(df.integrated_intensity_fit,0.99)"
   ]
  },
  {
   "cell_type": "markdown",
   "metadata": {},
   "source": [
    "The minimum is negetive which will cause problems. So we may try shifting it by the minimum amount. However this will render the value which is minimum to zero. So lets shift is by the minimum amount + the difference between the smallest and the second smallest values."
   ]
  },
  {
   "cell_type": "code",
   "execution_count": null,
   "metadata": {},
   "outputs": [],
   "source": [
    "smallest, second_smallest = min(df.integrated_intensity_fit), min(df[df.integrated_intensity_fit> min(df.integrated_intensity_fit)].integrated_intensity_fit)\n",
    "smallest, second_smallest"
   ]
  },
  {
   "cell_type": "code",
   "execution_count": null,
   "metadata": {},
   "outputs": [],
   "source": [
    "shift = abs(smallest)+abs(smallest - second_smallest)\n",
    "shift"
   ]
  },
  {
   "cell_type": "code",
   "execution_count": null,
   "metadata": {},
   "outputs": [],
   "source": [
    "#df.loc[df.integrated_intensity_fit == 0, 'integrated_intensity_fit'] = min(df.loc[df.integrated_intensity_fit > 0].integrated_intensity_fit)/1000\n",
    "sns.distplot(np.log10(df.integrated_intensity_fit+ shift))\n",
    "plt.title('Histogram plot of Integrated Intensity Fit LOGSCALE')\n",
    "plt.xlabel('Integrated Intensity Fit ')\n",
    "plt.ylabel('Counts')"
   ]
  },
  {
   "cell_type": "markdown",
   "metadata": {},
   "source": [
    "Also, another way to deal with this is to simply remove the ones with negetive intensity fit"
   ]
  },
  {
   "cell_type": "code",
   "execution_count": null,
   "metadata": {},
   "outputs": [],
   "source": [
    "sns.distplot(np.log10(df[df.integrated_intensity_fit>0].integrated_intensity_fit))\n",
    "plt.title('Histogram plot of Integrated Intensity Fit LOGSCALE')\n",
    "plt.xlabel('Integrated Intensity Fit ')\n",
    "plt.ylabel('Counts')"
   ]
  },
  {
   "cell_type": "code",
   "execution_count": null,
   "metadata": {},
   "outputs": [],
   "source": [
    "sns.distplot(df.ratio_residual)\n",
    "plt.title('Histogram plot of Ratio Residual')\n",
    "\n",
    "plt.xlabel('Ratio Residual')\n",
    "plt.ylabel('Counts')"
   ]
  },
  {
   "cell_type": "code",
   "execution_count": null,
   "metadata": {},
   "outputs": [],
   "source": [
    "df.loc[df.ratio_residual == 0, 'ratio_residual'] = min(df.loc[df.ratio_residual > 0].ratio_residual)*1e-5\n",
    "\n",
    "sns.distplot(np.log10(df.ratio_residual))\n",
    "plt.title('Histogram plot of Ratio Residual LOGSCALE')\n",
    "\n",
    "plt.xlabel('Ratio Residual')\n",
    "plt.ylabel('Counts')"
   ]
  },
  {
   "cell_type": "markdown",
   "metadata": {},
   "source": [
    "For the Ratio Residual nothing needs to be done."
   ]
  },
  {
   "cell_type": "code",
   "execution_count": null,
   "metadata": {},
   "outputs": [],
   "source": [
    "data.head()"
   ]
  },
  {
   "cell_type": "markdown",
   "metadata": {},
   "source": [
    "## Final Plots:\n",
    "\n",
    "<a id='Final Plots'></a>\n",
    "\n",
    "Cleaning the data according to what we just saw:\n",
    "1. Remove total pixels which have values greater than 99.99% of the data ie. cutoff = 6339 - $\\textit{this is ommited for now}$\n",
    "2. Shift the integrated Intensity fit values by the minimum+difference between \n",
    "3. For the deconv_x and deconv_y we replace the 0 values with the minimum multiplied by 1e-5\n",
    "4. Also for the Ratio Residuals, the minimum value 0 is to be replaced by the minimum(non -zero) multiplied by 1e-5"
   ]
  },
  {
   "cell_type": "code",
   "execution_count": null,
   "metadata": {},
   "outputs": [],
   "source": [
    "#data = data[data.total_pixels<np.quantile(data.total_pixels, 0.9999)]\n",
    "data.integrated_intensity_fit += shift\n",
    "data.loc[data.deconv_x == 0, 'deconv_x'] = min(data[data.deconv_x > 0].deconv_x)* 1e-5\n",
    "data.loc[data.deconv_y == 0, 'deconv_y'] = min(data[data.deconv_y > 0].deconv_y)* 1e-5\n",
    "data.loc[data.ratio_residual == 0, 'ratio_residual'] = min(data.loc[data.ratio_residual > 0].ratio_residual)*1e-5\n",
    "data.loc[data.fit_x_axis == 0, 'fit_x_axis'] = min(data[data.fit_x_axis > 0].fit_x_axis)* 1e-5\n",
    "data.loc[data.fit_y_axis == 0, 'fit_y_axis'] = min(data[data.fit_y_axis > 0].fit_y_axis)* 1e-5\n"
   ]
  },
  {
   "cell_type": "code",
   "execution_count": null,
   "metadata": {},
   "outputs": [],
   "source": [
    "def fairplot(x, xlab=\"x\", ylab=\"y\", main= \"Histogram\", bins1=None, bins2=None, hist=[True,True], kde=[False,False], \n",
    "             fit1=None, fit2 = None, rug=[False,False], color1=None, color2 =None, vertical=[False,False], \n",
    "             label1=None, label2=None, norm_hist=[False,False], dpi= 100, figsize = (7, 3.5), label_size=(20,18),\n",
    "             xlim1=None, xlim2=None, ylim1=None, ylim2=None, yscale = ['linear', 'linear'], scale_base=None):\n",
    "    \n",
    "    f, (ax1,ax2) = plt.subplots(1, 2, figsize=figsize, sharex=False, dpi =dpi)\n",
    "    sns.distplot(x, bins=bins1, hist=hist[0], kde=kde[0], fit=fit1, rug=rug[0], color=color1, vertical=vertical[0], \n",
    "                 label=label1,norm_hist=norm_hist[0], ax=ax1)\n",
    "    sns.distplot(np.log10(x), bins=bins2,  hist=hist[1], kde=kde[1], fit=fit2, rug=rug[1], color=color2, vertical=vertical[1], \n",
    "                 label=label2, norm_hist=norm_hist[1], ax=ax2)\n",
    "    ax1.set_xlabel(xlab, fontsize=label_size[1])\n",
    "    ax1.set_ylabel(ylab, fontsize=label_size[1])\n",
    "    ax1.set_title('Histogram', pad=7, fontsize = label_size[0])\n",
    "    if xlim1 != None:\n",
    "        ax1.set(xlim=xlim1)\n",
    "    if ylim1 !=None:\n",
    "        ax1.set(ylim=ylim1)\n",
    "    ax2.set_xlabel('Log $_{10}$'+xlab, fontsize = label_size[1])\n",
    "    ax2.set_ylabel(ylab,fontsize = label_size[1])\n",
    "    ax2.set_title('Histogram in LogScale', pad=7, fontsize = label_size[0])\n",
    "    if xlim2 != None:\n",
    "        ax2.set(xlim=xlim2)\n",
    "    if ylim1 !=None:\n",
    "        ax2.set(ylim=ylim2)\n",
    "    if yscale[0]=='log':\n",
    "        ax1.set_yscale(yscale[0], basey=scale_base)\n",
    "    else:\n",
    "        ax1.set_yscale(yscale[0])\n",
    "    if yscale[1]=='log':\n",
    "        ax2.set_yscale(yscale[1], basey=scale_base)\n",
    "    else:\n",
    "        ax2.set_yscale(yscale[1])\n",
    "    f.suptitle(main, fontsize=12, y=1.05)\n",
    "    f.tight_layout() \n",
    "    \n",
    "    return(f)"
   ]
  },
  {
   "cell_type": "code",
   "execution_count": null,
   "metadata": {},
   "outputs": [],
   "source": [
    "dpi_set =600\n",
    "ls = (18,14)"
   ]
  },
  {
   "cell_type": "code",
   "execution_count": null,
   "metadata": {},
   "outputs": [],
   "source": [
    "fig_intgrtdInt = fairplot(data.integrated_intensity, main = \"Plot of Integrated Intensity\",xlab = \"Integrated Intensity\", \n",
    "                          ylab = \"Counts\", kde=[False,False],dpi=dpi_set, label_size = ls)\n",
    "\n",
    "plt.savefig('IntegratedIntensity.png')"
   ]
  },
  {
   "cell_type": "code",
   "execution_count": null,
   "metadata": {},
   "outputs": [],
   "source": [
    "fig_intgrtdIntLog = fairplot(data.integrated_intensity, main = \"Plot of Integrated Intensity\",xlab = \"Integrated Intensity\", \n",
    "                          ylab = \"Counts\", kde=[False,False],dpi=dpi_set, yscale = ['log','log'], scale_base = 10,\n",
    "                             label_size = ls)\n",
    "\n",
    "plt.savefig('IntegratedIntensity_Log.png')"
   ]
  },
  {
   "cell_type": "code",
   "execution_count": null,
   "metadata": {},
   "outputs": [],
   "source": [
    "fig_IntgrtdIntFit = fairplot(data.integrated_intensity_fit, main = \"Plot of the fit of Integrated Intensity\", \n",
    "                             xlab = \"Integrated Intensity fit\", ylab = \"Counts\", kde=[False,False], dpi=dpi_set,\n",
    "                             label_size = ls)\n",
    "\n",
    "plt.savefig('IntegratedIntensityFit.png')"
   ]
  },
  {
   "cell_type": "code",
   "execution_count": null,
   "metadata": {},
   "outputs": [],
   "source": [
    "fig_IntgrtdIntFitLog = fairplot(data.integrated_intensity_fit, main = \"Plot of the fit of Integrated Intensity\", \n",
    "                             xlab = \"Integrated Intensity fit\", ylab = \"Counts\", kde=[False,False], dpi=dpi_set,\n",
    "                            yscale = ['log','log'], scale_base = 10, label_size = ls)\n",
    "\n",
    "plt.savefig('IntegratedIntensityFit_Log.png')"
   ]
  },
  {
   "cell_type": "code",
   "execution_count": null,
   "metadata": {},
   "outputs": [],
   "source": [
    "fig_totpxls = fairplot(data.total_pixels, main = \"Plot of Total Pixel area of source\",xlab = \"Total Pixels\", ylab = \"Counts\", \n",
    "                     kde=[False,False],dpi=dpi_set, label_size = ls)\n",
    "plt.savefig('TotalPixels.png')"
   ]
  },
  {
   "cell_type": "code",
   "execution_count": null,
   "metadata": {},
   "outputs": [],
   "source": [
    "fig_totpxlsLog = fairplot(data.total_pixels, main = \"Plot of Total Pixel area of source\",xlab = \"Total Pixels\", ylab = \"Counts\", \n",
    "                     kde=[False,False],dpi=dpi_set,  yscale = ['log','log'], scale_base = 10, label_size = ls)\n",
    "plt.savefig('TotalPixels_Log.png')"
   ]
  },
  {
   "cell_type": "code",
   "execution_count": null,
   "metadata": {},
   "outputs": [],
   "source": [
    "fig_brightestpxl = fairplot(data.brightest_pixel, main = \"Plot of Brightest Pixel\",xlab = \"Brightest Pixel Intensity\", ylab = \"Counts\", \n",
    "                     kde=[False,False],dpi=dpi_set, label_size = ls)\n",
    "plt.savefig('BrightestPixels.png')"
   ]
  },
  {
   "cell_type": "code",
   "execution_count": null,
   "metadata": {},
   "outputs": [],
   "source": [
    "## Changed the y axis for the plots to Log scale\n",
    "fig_brightestpxlLog = fairplot(data.brightest_pixel, main = \"Plot of Brightest Pixel\",xlab = \"Brightest Pixel Intensity\", ylab = \"Counts\", \n",
    "                     kde=[False,False],dpi=dpi_set, yscale = ['log','log'], scale_base = 10, label_size = ls)\n",
    "plt.savefig('BrightestPixels_Log.png')"
   ]
  },
  {
   "cell_type": "code",
   "execution_count": null,
   "metadata": {},
   "outputs": [],
   "source": [
    "fig_xaxis = fairplot(data.fit_x_axis, main = \"Plot of X axis fit\",xlab = \"Fit x axis\", ylab = \"Counts\", \n",
    "                     kde=[False,False],dpi=dpi_set, yscale=['linear','linear'], label_size = ls)\n",
    "\n",
    "plt.savefig('Fit_Xaxis.png')"
   ]
  },
  {
   "cell_type": "code",
   "execution_count": null,
   "metadata": {},
   "outputs": [],
   "source": [
    "## Changed the y axis for the plots to Log scale\n",
    "fig_xaxisLog = fairplot(data.fit_x_axis, main = \"Plot of X axis fit\",xlab = \"Fit x axis\", ylab = \"Counts\", \n",
    "                     kde=[False,False],dpi=dpi_set, yscale = ['log','log'], scale_base = 10, label_size = ls)\n",
    "plt.savefig('Fit_Xaxis_Log.png')"
   ]
  },
  {
   "cell_type": "code",
   "execution_count": null,
   "metadata": {},
   "outputs": [],
   "source": [
    "fig_yaxis = fairplot(data.fit_y_axis, main = \"Plot of Y axis fit\", \n",
    "                             xlab = \"Fit y axis\", ylab = \"Counts\", dpi=dpi_set, kde=[False,False], label_size = ls)\n",
    "plt.savefig('Fit_Yaxis.png')"
   ]
  },
  {
   "cell_type": "code",
   "execution_count": null,
   "metadata": {},
   "outputs": [],
   "source": [
    "fig_yaxisLog = fairplot(data.fit_y_axis, main = \"Plot of Y axis fit\", kde=[False,False], label_size = ls,\n",
    "                             xlab = \"Fit y axis\", ylab = \"Counts\", dpi=dpi_set, yscale = ['log','log'], scale_base = 10)\n",
    "plt.savefig('Fit_Yaxis_Log.png')"
   ]
  },
  {
   "cell_type": "code",
   "execution_count": null,
   "metadata": {},
   "outputs": [],
   "source": [
    "fig_Deconvx = fairplot(data.deconv_x, main = \"Plot of Deconv x\", kde=[False,False], label_size = ls,\n",
    "                             xlab = \"Deconv x\", ylab = \"Counts\", dpi=dpi_set)\n",
    "plt.savefig('Deconv_X.png')"
   ]
  },
  {
   "cell_type": "code",
   "execution_count": null,
   "metadata": {},
   "outputs": [],
   "source": [
    "fig_DeconvxLog = fairplot(data.deconv_x, main = \"Plot of Deconv x\", kde=[False,False], label_size = ls,\n",
    "                             xlab = \"Deconv x\", ylab = \"Counts\", dpi=dpi_set, yscale = ['log','log'], scale_base = 10)\n",
    "plt.savefig('Deconv_X_Log.png')"
   ]
  },
  {
   "cell_type": "code",
   "execution_count": null,
   "metadata": {},
   "outputs": [],
   "source": [
    "fig_Deconvy = fairplot(data.deconv_y, main = \"Plot of Deconv y\", kde=[False,False], label_size = ls,\n",
    "                             xlab = \"Deconv y\", ylab = \"Counts\", dpi=dpi_set)\n",
    "plt.savefig('Deconv_Y.png')"
   ]
  },
  {
   "cell_type": "code",
   "execution_count": null,
   "metadata": {},
   "outputs": [],
   "source": [
    "fig_DeconvyLog = fairplot(data.deconv_y, main = \"Plot of Deconv y\", kde=[False,False], label_size = ls,\n",
    "                             xlab = \"Deconv y\", ylab = \"Counts\", dpi=dpi_set, yscale = ['log','log'], scale_base = 10)\n",
    "plt.savefig('Deconv_Y_Log.png')"
   ]
  },
  {
   "cell_type": "code",
   "execution_count": null,
   "metadata": {},
   "outputs": [],
   "source": [
    "fig_RatioResidual = fairplot(data.ratio_residual, main = \"Plot of Ratio Residuals\", xlab = \"Ratio Residual\", ylab = \"Counts\", \n",
    "                       kde=[False,False], dpi=dpi_set, label_size = ls, bins1 = 100, bins2 = 100)\n",
    "plt.savefig('RatioResidual.png')"
   ]
  },
  {
   "cell_type": "code",
   "execution_count": null,
   "metadata": {},
   "outputs": [],
   "source": []
  },
  {
   "cell_type": "code",
   "execution_count": null,
   "metadata": {},
   "outputs": [],
   "source": [
    "fig_RatioResidualLog = fairplot(data.ratio_residual, main = \"Plot of Ratio Residuals\", xlab = \"Ratio Residual\", ylab = \"Counts\", \n",
    "                       kde=[False,False], dpi=dpi_set, yscale = ['log','log'], scale_base = 10, label_size = ls)\n",
    "plt.savefig('RatioResidual_Log.png')"
   ]
  },
  {
   "cell_type": "code",
   "execution_count": null,
   "metadata": {},
   "outputs": [],
   "source": [
    "## Fitting the Ratio Residuals plot with a lognormal function and that of the log with a normal function.\n",
    "fig_RatioResidualfit = fairplot(data.ratio_residual, main = \"Plot of Ratio Residuals\", xlab = \"Ratio Residual\", ylab = \"Density\", \n",
    "                     kde= [False,False], fit1 =lognorm, fit2=norm, dpi=dpi_set, label_size = ls)\n",
    "plt.savefig('RatioResidual_Fit_Lognorm_norm.png')"
   ]
  },
  {
   "cell_type": "code",
   "execution_count": null,
   "metadata": {},
   "outputs": [],
   "source": [
    "fig_Files = fairplot(data.groupby(['filename']).size(), main = \"Plot of number of sources per file\", \n",
    "                     xlab = \"Number of sources/file\", ylab = \"Counts\", kde=[False,False], dpi=dpi_set, label_size = ls)\n",
    "plt.savefig('Sourcesperfile.png')"
   ]
  },
  {
   "cell_type": "code",
   "execution_count": null,
   "metadata": {},
   "outputs": [],
   "source": [
    "fig_Files = fairplot(data.groupby(['filename'])[['total_pixels']].sum(), main = \"Plot of total pixels from all files  per file\", \n",
    "                     xlab = \"Total pixels from all sources/file\", ylab = \"Counts\", kde=[False,False], dpi=dpi_set,\n",
    "                     label_size = (16,10))\n",
    "plt.savefig('TotalPixelsperfile.png')\n"
   ]
  },
  {
   "cell_type": "code",
   "execution_count": null,
   "metadata": {},
   "outputs": [],
   "source": [
    "sns.set(font_scale=1.6) \n",
    "sns_plot = sns.pairplot(data[['total_pixels','integrated_intensity','integrated_intensity_fit', 'ratio_residual']], size = 3.5)\n",
    "sns_plot.savefig(\"Pairplot.png\")"
   ]
  },
  {
   "cell_type": "code",
   "execution_count": null,
   "metadata": {},
   "outputs": [],
   "source": [
    "data.describe()"
   ]
  },
  {
   "cell_type": "code",
   "execution_count": null,
   "metadata": {},
   "outputs": [],
   "source": [
    "sns.set(font_scale=1.6) \n",
    "sns_plot = sns.pairplot(data[['fit_x_axis','fit_y_axis','deconv_x', 'deconv_y','ratio_residual']], size = 3.5)\n",
    "sns_plot.savefig(\"Pairplot_2.png\")"
   ]
  },
  {
   "cell_type": "code",
   "execution_count": null,
   "metadata": {},
   "outputs": [],
   "source": [
    "#sns.set(font_scale=1.6) \n",
    "#sns_plot = sns.pairplot(data)\n",
    "#sns_plot.savefig(\"Pairplot_all.png\")"
   ]
  },
  {
   "cell_type": "code",
   "execution_count": null,
   "metadata": {},
   "outputs": [],
   "source": [
    "#sns_plot = sns.pairplot(data, hue = \"filename\")\n",
    "#sns_plot.savefig(\"Pairplot_all_filecolored.png\")"
   ]
  },
  {
   "cell_type": "code",
   "execution_count": null,
   "metadata": {},
   "outputs": [],
   "source": [
    "corr = data.corr()\n",
    "mask = np.triu(np.ones_like(corr, dtype=np.bool))\n",
    "sns.set(font_scale=1.6) \n",
    "# Set up the matplotlib figure\n",
    "f, ax = plt.subplots(figsize=(11, 9))\n",
    "\n",
    "# Generate a custom diverging colormap\n",
    "cmap = sns.diverging_palette(210, 10, as_cmap=True)\n",
    "\n",
    "# Draw the heatmap with the mask and correct aspect ratio\n",
    "sns.heatmap(corr, mask=mask, cmap=cmap, vmax=.3, center=0,\n",
    "            square=True, linewidths=.5, cbar_kws={\"shrink\": .5})\n",
    "plt.xticks(rotation=60, ha='right')\n",
    "plt.tight_layout()\n",
    "f.savefig(\"Correlation_data.png\")"
   ]
  },
  {
   "cell_type": "code",
   "execution_count": null,
   "metadata": {},
   "outputs": [],
   "source": [
    "corr = df.corr()\n",
    "mask = np.triu(np.ones_like(corr, dtype=np.bool))\n",
    "sns.set(font_scale=1.6) \n",
    "# Set up the matplotlib figure\n",
    "f, ax = plt.subplots(figsize=(11, 9))\n",
    "\n",
    "# Generate a custom diverging colormap\n",
    "cmap = sns.diverging_palette(210, 10, as_cmap=True)\n",
    "\n",
    "# Draw the heatmap with the mask and correct aspect ratio\n",
    "sns.heatmap(corr, mask=mask, cmap=cmap, vmax=.3, center=0,\n",
    "            square=True, linewidths=.5, cbar_kws={\"shrink\": .75})\n",
    "plt.xticks(rotation=60, ha='right')\n",
    "plt.tight_layout()\n",
    "f.savefig(\"Correlation_data_all.png\")"
   ]
  },
  {
   "cell_type": "code",
   "execution_count": null,
   "metadata": {},
   "outputs": [],
   "source": [
    "f, ax = plt.subplots(figsize =(8,5))\n",
    "ax.scatter(df.integrated_intensity_fit- df.integrated_intensity, df.ratio_residual)\n",
    "\n",
    "ax.set_xlabel(\"Difference : Integrated Intensity fit - Integrated Intensity\")\n",
    "ax.set_ylabel(\"Ratio residual\")\n",
    "plt.tight_layout()\n",
    "f.savefig(\"Difference.png\")"
   ]
  },
  {
   "cell_type": "code",
   "execution_count": null,
   "metadata": {},
   "outputs": [],
   "source": [
    "fig, ax = plt.subplots()\n",
    "#sns.distplot(data.integrated_intensity, ax = ax, bins = 10)\n",
    "#sns.distplot(data.integrated_intensity_fit - shift, ax = ax, bins=10)\n",
    "#ax.set_xscale('log', basex=10)\n",
    "#ax.set_yscale('log', basey=10)\n",
    "#sns.pairplot(data, vars= ['integrated_intensity_fit', 'integrated_intensity'] )\n",
    "ax.scatter(data.integrated_intensity_fit - shift, data.integrated_intensity)"
   ]
  },
  {
   "cell_type": "code",
   "execution_count": null,
   "metadata": {},
   "outputs": [],
   "source": [
    "df_ = pd.read_csv('MOSAICs_DICT.csv')\n",
    "azm =df[['total_pixels','integrated_intensity', 'integrated_intensity_fit', 'ratio_residual', 'filename']]\n",
    "azm = azm.groupby(['filename']).sum().reset_index()\n",
    "azm = (pd.merge(azm, df_, left_on='filename', right_on='File'))\n",
    "azm = azm.drop(columns= ['File', 'Unnamed: 0'])\n",
    "azm['Background'] = (azm.Counts_NonZero-azm.total_pixels)\n",
    "azm['Threshold'] = (azm.Counts_NonZero/azm.total_pixels)"
   ]
  },
  {
   "cell_type": "code",
   "execution_count": null,
   "metadata": {},
   "outputs": [],
   "source": [
    "f, ax = plt.subplots()\n",
    "sns.distplot(np.log10(azm.Background), kde=False, ax=ax)\n",
    "\n",
    "ax.set_xlabel(\"Difference : Nonzero_values(Mosaic) - total_pixels\")\n",
    "ax.set_ylabel(\"Counts\")\n",
    "#ax.set_xscale('log', basex=10)\n",
    "#plt.tight_layout()\n",
    "f.savefig(\"Background.png\")"
   ]
  },
  {
   "cell_type": "code",
   "execution_count": null,
   "metadata": {},
   "outputs": [],
   "source": [
    "f, ax = plt.subplots()\n",
    "sns.distplot(np.log10(azm.Threshold), kde=False, ax=ax)\n",
    "\n",
    "ax.set_xlabel(\"Difference : Nonzero_values(Mosaic)/total_pixels\")\n",
    "ax.set_ylabel(\"Counts\")\n",
    "#ax.set_xscale('log', basex=10)\n",
    "#plt.tight_layout()\n",
    "f.savefig(\"NoiseThreshold.png\")"
   ]
  },
  {
   "cell_type": "code",
   "execution_count": null,
   "metadata": {},
   "outputs": [],
   "source": [
    "azm.loc[azm['Background'].idxmax()]"
   ]
  },
  {
   "cell_type": "code",
   "execution_count": null,
   "metadata": {},
   "outputs": [],
   "source": [
    "azm.nlargest(3, 'Background')"
   ]
  },
  {
   "cell_type": "code",
   "execution_count": 5,
   "metadata": {},
   "outputs": [
    {
     "ename": "NameError",
     "evalue": "name 'data' is not defined",
     "output_type": "error",
     "traceback": [
      "\u001b[0;31m---------------------------------------------------------------------------\u001b[0m",
      "\u001b[0;31mNameError\u001b[0m                                 Traceback (most recent call last)",
      "\u001b[0;32m<ipython-input-5-3039e5c17cdf>\u001b[0m in \u001b[0;36m<module>\u001b[0;34m\u001b[0m\n\u001b[0;32m----> 1\u001b[0;31m \u001b[0mqqplot\u001b[0m\u001b[0;34m(\u001b[0m\u001b[0mdata\u001b[0m\u001b[0;34m,\u001b[0m \u001b[0mx\u001b[0m\u001b[0;34m=\u001b[0m\u001b[0;34m\"ratio_residuals\"\u001b[0m\u001b[0;34m,\u001b[0m \u001b[0my\u001b[0m\u001b[0;34m=\u001b[0m\u001b[0mnorm\u001b[0m\u001b[0;34m,\u001b[0m \u001b[0mheight\u001b[0m \u001b[0;34m=\u001b[0m \u001b[0;36m4\u001b[0m\u001b[0;34m,\u001b[0m \u001b[0maspect\u001b[0m \u001b[0;34m=\u001b[0m \u001b[0;36m1.5\u001b[0m\u001b[0;34m,\u001b[0m \u001b[0mdisplay_kws\u001b[0m\u001b[0;34m=\u001b[0m\u001b[0;34m{\u001b[0m\u001b[0;34m\"identity\"\u001b[0m\u001b[0;34m:\u001b[0m\u001b[0;32mFalse\u001b[0m\u001b[0;34m,\u001b[0m\u001b[0;34m\"fit\"\u001b[0m\u001b[0;34m:\u001b[0m\u001b[0;32mTrue\u001b[0m\u001b[0;34m,\u001b[0m\u001b[0;34m\"reg\"\u001b[0m\u001b[0;34m:\u001b[0m\u001b[0;32mTrue\u001b[0m\u001b[0;34m,\u001b[0m\u001b[0;34m\"ci\"\u001b[0m\u001b[0;34m:\u001b[0m\u001b[0;36m0.025\u001b[0m\u001b[0;34m}\u001b[0m\u001b[0;34m)\u001b[0m\u001b[0;34m\u001b[0m\u001b[0;34m\u001b[0m\u001b[0m\n\u001b[0m",
      "\u001b[0;31mNameError\u001b[0m: name 'data' is not defined"
     ]
    }
   ],
   "source": [
    "qqplot(data, x=\"ratio_residuals\", y=norm, height = 4, aspect = 1.5, display_kws={\"identity\":False,\"fit\":True,\"reg\":True,\"ci\":0.025})"
   ]
  },
  {
   "cell_type": "code",
   "execution_count": null,
   "metadata": {},
   "outputs": [],
   "source": [
    "from scipy.spatial.distance import cdist\n",
    "dummy_array = azm[[\"CrvalX\", \"CrvalY\"]].to_numpy()\n",
    "dist_mat = cdist(dummy_array, dummy_array)\n",
    "distances = pd.DataFrame(dist_mat, columns = azm[\"filename\"], index = azm[\"filename\"])"
   ]
  },
  {
   "cell_type": "code",
   "execution_count": null,
   "metadata": {},
   "outputs": [],
   "source": [
    "distances"
   ]
  },
  {
   "cell_type": "code",
   "execution_count": null,
   "metadata": {},
   "outputs": [],
   "source": [
    "df_ = pd.read_csv(\"overlap_dict.csv\")\n",
    "df_"
   ]
  },
  {
   "cell_type": "code",
   "execution_count": null,
   "metadata": {},
   "outputs": [],
   "source": []
  }
 ],
 "metadata": {
  "kernelspec": {
   "display_name": "Python 3",
   "language": "python",
   "name": "python3"
  },
  "language_info": {
   "codemirror_mode": {
    "name": "ipython",
    "version": 3
   },
   "file_extension": ".py",
   "mimetype": "text/x-python",
   "name": "python",
   "nbconvert_exporter": "python",
   "pygments_lexer": "ipython3",
   "version": "3.6.8"
  }
 },
 "nbformat": 4,
 "nbformat_minor": 4
}
