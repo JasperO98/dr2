{
  "nbformat": 4,
  "nbformat_minor": 0,
  "metadata": {
    "kernelspec": {
      "display_name": "Python 3",
      "language": "python",
      "name": "python3"
    },
    "language_info": {
      "codemirror_mode": {
        "name": "ipython",
        "version": 3
      },
      "file_extension": ".py",
      "mimetype": "text/x-python",
      "name": "python",
      "nbconvert_exporter": "python",
      "pygments_lexer": "ipython3",
      "version": "3.6.10"
    },
    "colab": {
      "name": "detect_artifacts.ipynb",
      "provenance": [],
      "collapsed_sections": []
    }
  },
  "cells": [
    {
      "cell_type": "code",
      "metadata": {
        "id": "jw62b1SO2bmy",
        "colab_type": "code",
        "colab": {}
      },
      "source": [
        "import pandas as pd\n",
        "import matplotlib.pyplot as plt\n",
        "import numpy as np\n",
        "import math\n",
        "from tqdm import tqdm\n",
        "\n",
        "\n",
        "#from pyspark.sql.types import Row\n",
        "from pyspark import SparkContext\n",
        "from pyspark.sql import SparkSession"
      ],
      "execution_count": null,
      "outputs": []
    },
    {
      "cell_type": "code",
      "metadata": {
        "id": "4RzEN8u42bm6",
        "colab_type": "code",
        "colab": {}
      },
      "source": [
        "try:\n",
        "    sc = SparkContext(appName=\"SDDM\")\n",
        "    #, master='spark://fs.dslc.liacs.nl:7078')\n",
        "except ValueError:\n",
        "    warnings.warn(\"SparkContext already exists in this scope\")\n",
        "    print('warn')\n"
      ],
      "execution_count": null,
      "outputs": []
    },
    {
      "cell_type": "code",
      "metadata": {
        "scrolled": true,
        "id": "LuNSP2Oh2bnC",
        "colab_type": "code",
        "colab": {},
        "outputId": "a5624ce5-cb02-4804-b332-6d99273c61ce"
      },
      "source": [
        "# INIT\n",
        "CATALOGUE_FILE = \"/data/astronomy-big-data/bc96e9620e41b9aba98292d37b5eec24/LoTSS_DR2_writable/catalogue_v5.4.csv\"\n",
        "HEADER_FILE = \"/data/astronomy-big-data/bc96e9620e41b9aba98292d37b5eec24/LoTSS_DR2_writable/catalogue_v5.3_header.csv\"\n",
        "OVERLAP_FILE = \"../2.Overlap/overlap_mosaics.csv\"\n",
        "WRITE_TO = \"./artifact_detection.csv\"\n",
        "\n",
        "INTENSITY_THRESHOLD = 0.8\n",
        "RADIUS_THRESHOLD = 200 # arcseconds\n",
        "ECCENTRICITY_THRESHOLD = 3\n",
        "\n",
        "type_dict = {'label': str}\n",
        "header = open(HEADER_FILE, 'r').readline()[:-1].split(',')\n",
        "cat = pd.read_csv(CATALOGUE_FILE, sep=',', names=header).astype(type_dict)\n",
        "cat = cat[(cat[\"overlap\"] == 0) | (cat[\"overlap\"] == 2)]\n",
        "cat.drop(cat.tail(1).index,inplace=True)\n",
        "print(len(cat))\n",
        "cat.tail()"
      ],
      "execution_count": null,
      "outputs": [
        {
          "output_type": "stream",
          "text": [
            "1861279\n"
          ],
          "name": "stdout"
        },
        {
          "output_type": "execute_result",
          "data": {
            "text/html": [
              "<div>\n",
              "<style scoped>\n",
              "    .dataframe tbody tr th:only-of-type {\n",
              "        vertical-align: middle;\n",
              "    }\n",
              "\n",
              "    .dataframe tbody tr th {\n",
              "        vertical-align: top;\n",
              "    }\n",
              "\n",
              "    .dataframe thead th {\n",
              "        text-align: right;\n",
              "    }\n",
              "</style>\n",
              "<table border=\"1\" class=\"dataframe\">\n",
              "  <thead>\n",
              "    <tr style=\"text-align: right;\">\n",
              "      <th></th>\n",
              "      <th>label</th>\n",
              "      <th>total_pixels</th>\n",
              "      <th>x_pixels</th>\n",
              "      <th>y_pixels</th>\n",
              "      <th>integrated_intensity</th>\n",
              "      <th>brightest_pixel</th>\n",
              "      <th>brightest_pixel_x</th>\n",
              "      <th>brightest_pixel_y</th>\n",
              "      <th>brightest_pixel_RA</th>\n",
              "      <th>brightest_pixel_DEC</th>\n",
              "      <th>...</th>\n",
              "      <th>fit_y_axis</th>\n",
              "      <th>fit_theta</th>\n",
              "      <th>deconv_x</th>\n",
              "      <th>deconv_y</th>\n",
              "      <th>integrated_intensity_fit</th>\n",
              "      <th>ratio_residual</th>\n",
              "      <th>mosaic</th>\n",
              "      <th>object</th>\n",
              "      <th>mosaic_id</th>\n",
              "      <th>overlap</th>\n",
              "    </tr>\n",
              "  </thead>\n",
              "  <tbody>\n",
              "    <tr>\n",
              "      <th>2287873.0</th>\n",
              "      <td>P198+57_11002</td>\n",
              "      <td>36</td>\n",
              "      <td>7</td>\n",
              "      <td>6</td>\n",
              "      <td>0.550844</td>\n",
              "      <td>0.000690567</td>\n",
              "      <td>4864</td>\n",
              "      <td>8679</td>\n",
              "      <td>198.213</td>\n",
              "      <td>59.1732</td>\n",
              "      <td>...</td>\n",
              "      <td>2.08132</td>\n",
              "      <td>2.56474</td>\n",
              "      <td>1.9143</td>\n",
              "      <td>2.83216</td>\n",
              "      <td>0.556048</td>\n",
              "      <td>0.0526855</td>\n",
              "      <td>P198+57</td>\n",
              "      <td>11002</td>\n",
              "      <td>209</td>\n",
              "      <td>2</td>\n",
              "    </tr>\n",
              "    <tr>\n",
              "      <th>2287874.0</th>\n",
              "      <td>P198+57_11003</td>\n",
              "      <td>39</td>\n",
              "      <td>8</td>\n",
              "      <td>6</td>\n",
              "      <td>0.522666</td>\n",
              "      <td>0.000566274</td>\n",
              "      <td>4090</td>\n",
              "      <td>8686</td>\n",
              "      <td>198.842</td>\n",
              "      <td>59.1766</td>\n",
              "      <td>...</td>\n",
              "      <td>1.70811</td>\n",
              "      <td>-0.122944</td>\n",
              "      <td>4.06405</td>\n",
              "      <td>0.422976</td>\n",
              "      <td>0.531733</td>\n",
              "      <td>0.0555658</td>\n",
              "      <td>P198+57</td>\n",
              "      <td>11003</td>\n",
              "      <td>209</td>\n",
              "      <td>2</td>\n",
              "    </tr>\n",
              "    <tr>\n",
              "      <th>2287875.0</th>\n",
              "      <td>P198+57_11004</td>\n",
              "      <td>20</td>\n",
              "      <td>7</td>\n",
              "      <td>4</td>\n",
              "      <td>0.204829</td>\n",
              "      <td>0.000356476</td>\n",
              "      <td>4832</td>\n",
              "      <td>8686</td>\n",
              "      <td>198.239</td>\n",
              "      <td>59.1762</td>\n",
              "      <td>...</td>\n",
              "      <td>1.20289</td>\n",
              "      <td>0.0320175</td>\n",
              "      <td>5.54893</td>\n",
              "      <td>0</td>\n",
              "      <td>0.209438</td>\n",
              "      <td>0.12552</td>\n",
              "      <td>P198+57</td>\n",
              "      <td>11004</td>\n",
              "      <td>209</td>\n",
              "      <td>0</td>\n",
              "    </tr>\n",
              "    <tr>\n",
              "      <th>2287876.0</th>\n",
              "      <td>P198+57_11005</td>\n",
              "      <td>30</td>\n",
              "      <td>7</td>\n",
              "      <td>6</td>\n",
              "      <td>0.32241</td>\n",
              "      <td>0.000377613</td>\n",
              "      <td>4759</td>\n",
              "      <td>8690</td>\n",
              "      <td>198.298</td>\n",
              "      <td>59.178</td>\n",
              "      <td>...</td>\n",
              "      <td>2.4241</td>\n",
              "      <td>2.335</td>\n",
              "      <td>0</td>\n",
              "      <td>4.07245</td>\n",
              "      <td>0.331345</td>\n",
              "      <td>0.105084</td>\n",
              "      <td>P198+57</td>\n",
              "      <td>11005</td>\n",
              "      <td>209</td>\n",
              "      <td>0</td>\n",
              "    </tr>\n",
              "    <tr>\n",
              "      <th>2287877.0</th>\n",
              "      <td>P198+57_11006</td>\n",
              "      <td>36</td>\n",
              "      <td>9</td>\n",
              "      <td>5</td>\n",
              "      <td>0.387224</td>\n",
              "      <td>0.000350652</td>\n",
              "      <td>4219</td>\n",
              "      <td>8692</td>\n",
              "      <td>198.737</td>\n",
              "      <td>59.1792</td>\n",
              "      <td>...</td>\n",
              "      <td>1.37658</td>\n",
              "      <td>0.0505499</td>\n",
              "      <td>10.6434</td>\n",
              "      <td>0</td>\n",
              "      <td>0.392656</td>\n",
              "      <td>0.107348</td>\n",
              "      <td>P198+57</td>\n",
              "      <td>11006</td>\n",
              "      <td>209</td>\n",
              "      <td>2</td>\n",
              "    </tr>\n",
              "  </tbody>\n",
              "</table>\n",
              "<p>5 rows × 29 columns</p>\n",
              "</div>"
            ],
            "text/plain": [
              "                   label total_pixels x_pixels y_pixels integrated_intensity  \\\n",
              "2287873.0  P198+57_11002           36        7        6             0.550844   \n",
              "2287874.0  P198+57_11003           39        8        6             0.522666   \n",
              "2287875.0  P198+57_11004           20        7        4             0.204829   \n",
              "2287876.0  P198+57_11005           30        7        6              0.32241   \n",
              "2287877.0  P198+57_11006           36        9        5             0.387224   \n",
              "\n",
              "          brightest_pixel brightest_pixel_x brightest_pixel_y  \\\n",
              "2287873.0     0.000690567              4864              8679   \n",
              "2287874.0     0.000566274              4090              8686   \n",
              "2287875.0     0.000356476              4832              8686   \n",
              "2287876.0     0.000377613              4759              8690   \n",
              "2287877.0     0.000350652              4219              8692   \n",
              "\n",
              "          brightest_pixel_RA brightest_pixel_DEC  ... fit_y_axis  fit_theta  \\\n",
              "2287873.0            198.213             59.1732  ...    2.08132    2.56474   \n",
              "2287874.0            198.842             59.1766  ...    1.70811  -0.122944   \n",
              "2287875.0            198.239             59.1762  ...    1.20289  0.0320175   \n",
              "2287876.0            198.298              59.178  ...     2.4241      2.335   \n",
              "2287877.0            198.737             59.1792  ...    1.37658  0.0505499   \n",
              "\n",
              "          deconv_x  deconv_y integrated_intensity_fit ratio_residual   mosaic  \\\n",
              "2287873.0   1.9143   2.83216                 0.556048      0.0526855  P198+57   \n",
              "2287874.0  4.06405  0.422976                 0.531733      0.0555658  P198+57   \n",
              "2287875.0  5.54893         0                 0.209438        0.12552  P198+57   \n",
              "2287876.0        0   4.07245                 0.331345       0.105084  P198+57   \n",
              "2287877.0  10.6434         0                 0.392656       0.107348  P198+57   \n",
              "\n",
              "          object mosaic_id overlap  \n",
              "2287873.0  11002       209       2  \n",
              "2287874.0  11003       209       2  \n",
              "2287875.0  11004       209       0  \n",
              "2287876.0  11005       209       0  \n",
              "2287877.0  11006       209       2  \n",
              "\n",
              "[5 rows x 29 columns]"
            ]
          },
          "metadata": {
            "tags": []
          },
          "execution_count": 11
        }
      ]
    },
    {
      "cell_type": "code",
      "metadata": {
        "id": "Jn557Wg42bnJ",
        "colab_type": "code",
        "colab": {},
        "outputId": "304ad968-d637-4fea-bcea-01511b21f50c"
      },
      "source": [
        "# INTENSITY HISTOGRAM\n",
        "disable = False\n",
        "if not disable:\n",
        "    print(\"Make intensities histogram\")\n",
        "    nbins = 100\n",
        "    \n",
        "    br_pixels = cat.loc[:, 'brightest_pixel']\n",
        "    \n",
        "    edges = np.histogram_bin_edges(br_pixels, bins=nbins)\n",
        "    hist = np.histogram(br_pixels, bins=edges)[0].astype(\"float64\")\n",
        "    \n",
        "    hist /= np.sum(hist) # normalise\n",
        "    hist *= 10\n",
        "    hist += np.min(hist[hist > 0]) # scale-up, avoid zeroes\n",
        "    hist = np.log10(hist) # logarithm\n",
        "\n",
        "    fig, ax = plt.subplots()\n",
        "    ax.set_xlabel(\"Intensity threshold\")\n",
        "    ax.set_ylabel(\"Log10-scaled frequency\")\n",
        "    ax.set_title(\"Floored log scale frequency of brightest pixel intensities\")\n",
        "    ax.plot(edges[0:-1], hist)\n",
        "    plt.show()\n",
        "\n"
      ],
      "execution_count": null,
      "outputs": [
        {
          "output_type": "stream",
          "text": [
            "Make intensities histogram\n"
          ],
          "name": "stdout"
        },
        {
          "output_type": "display_data",
          "data": {
            "image/png": "[encoded data removed]",
            "text/plain": [
              "<Figure size 432x288 with 1 Axes>"
            ]
          },
          "metadata": {
            "tags": [],
            "needs_background": "light"
          }
        }
      ]
    },
    {
      "cell_type": "code",
      "metadata": {
        "id": "jewxumI22bnO",
        "colab_type": "code",
        "colab": {},
        "outputId": "4748b310-ba49-41a5-8ec8-cb480cdbc156"
      },
      "source": [
        "# HIGH INTENSITY SOURCES\n",
        "print(\"Find intense sources\")\n",
        "\n",
        "intense_sources = []\n",
        "\n",
        "intense = np.full(len(cat.index), INTENSITY_THRESHOLD)\n",
        "br_pixels = cat.loc[:, 'brightest_pixel']\n",
        "br_indices = br_pixels >= intense\n",
        "br_chunk = cat.iloc[np.where(br_indices == True)[0], :]\n",
        "for ri, row in br_chunk.iterrows():\n",
        "    intense_sources.append(row)\n",
        "    \n",
        "print(\"Intense sources:\", len(intense_sources))"
      ],
      "execution_count": null,
      "outputs": [
        {
          "output_type": "stream",
          "text": [
            "Find intense sources\n",
            "Intense sources: 703\n"
          ],
          "name": "stdout"
        }
      ]
    },
    {
      "cell_type": "code",
      "metadata": {
        "id": "chznRIJy2bnT",
        "colab_type": "code",
        "colab": {},
        "outputId": "d4a9fa0c-b6b4-4b4e-9974-b01e42798a02"
      },
      "source": [
        "intense_sources_dict = {} # convert to dictionary indexed by fits files\n",
        "for src in intense_sources:\n",
        "    fits = src[\"mosaic\"]\n",
        "    try:\n",
        "        intense_sources_dict[fits].append(np.array([src['center_of_mass_RA'], src['center_of_mass_DEC']]))\n",
        "    except KeyError:\n",
        "        intense_sources_dict[fits] = [np.array([src['center_of_mass_RA'], src['center_of_mass_DEC']])]\n",
        "\n",
        "for k, v in intense_sources_dict.items():\n",
        "    print(k, v)\n",
        "    break"
      ],
      "execution_count": null,
      "outputs": [
        {
          "output_type": "stream",
          "text": [
            "P209+42 [array([208.11910636,  42.98993629]), array([210.134438  ,  43.06743551])]\n"
          ],
          "name": "stdout"
        }
      ]
    },
    {
      "cell_type": "code",
      "metadata": {
        "id": "c8h3MPDW2bnZ",
        "colab_type": "code",
        "colab": {},
        "outputId": "9090d0ae-2e1c-49ba-dc96-c2550b09a6e1"
      },
      "source": [
        "print(\"Generate overlap dict\")\n",
        "overlap_file = pd.read_csv(OVERLAP_FILE, sep=\",\", quotechar='\"') # find overlap mosaics\n",
        "overlap_dict = {} # make a better dictionary\n",
        "for _, mosaic in overlap_file.iterrows():\n",
        "    overlap_dict[mosaic[\"fitsfile\"].split(\"_\")[0]] = []\n",
        "\n",
        "    overlaps = mosaic[\"overlaps\"]\n",
        "    overlaps = [overlaps, \"\"][pd.isna(overlaps)]\n",
        "    overlaps += \";\" + mosaic[\"fitsfile\"]\n",
        "    \n",
        "    overlaps = overlaps.split(\";\")\n",
        "    for i, ov in enumerate(overlaps):\n",
        "        try:\n",
        "            overlaps[i] = intense_sources_dict[ov.split(\"_\")[0]]\n",
        "        except KeyError:\n",
        "            overlaps[i] = []\n",
        "    for o in overlaps:\n",
        "        for s in o:\n",
        "            overlap_dict[mosaic[\"fitsfile\"].split(\"_\")[0]].append(s)\n",
        "\n",
        "overlap_dict['P209+42']"
      ],
      "execution_count": null,
      "outputs": [
        {
          "output_type": "stream",
          "text": [
            "Generate overlap dict\n"
          ],
          "name": "stdout"
        },
        {
          "output_type": "execute_result",
          "data": {
            "text/plain": [
              "[array([204.10999596,  41.5202199 ]),\n",
              " array([206.38794763,  42.83762067]),\n",
              " array([205.47256385,  43.5890377 ]),\n",
              " array([205.77471677,  43.72321379]),\n",
              " array([205.77470766,  43.72319738]),\n",
              " array([205.04169568,  44.08724656]),\n",
              " array([210.41095344,  47.25396156]),\n",
              " array([208.79800434,  48.3679536 ]),\n",
              " array([210.88402358,  48.60344786]),\n",
              " array([213.76976868,  41.93231088]),\n",
              " array([214.30820608,  42.40411327]),\n",
              " array([208.11910636,  42.98993629]),\n",
              " array([210.134438  ,  43.06743551])]"
            ]
          },
          "metadata": {
            "tags": []
          },
          "execution_count": 12
        }
      ]
    },
    {
      "cell_type": "code",
      "metadata": {
        "id": "E-7aW6YF2bnd",
        "colab_type": "code",
        "colab": {},
        "outputId": "59d1f10e-f747-4786-b737-5f0d25c454e1"
      },
      "source": [
        "cat[\"eccentricity\"] = np.exp(np.abs(np.log(cat['fit_x_axis'].astype(float) / cat['fit_y_axis'].astype(float)  )))\n",
        "cat.loc[:, [\"fit_y_axis\", \"fit_x_axis\", \"eccentricity\"]].head()"
      ],
      "execution_count": null,
      "outputs": [
        {
          "output_type": "stream",
          "text": [
            "/home/s2494876/miniconda3/envs/sddm/lib/python3.6/site-packages/pandas/core/series.py:679: RuntimeWarning: divide by zero encountered in log\n",
            "  result = getattr(ufunc, method)(*inputs, **kwargs)\n"
          ],
          "name": "stderr"
        },
        {
          "output_type": "execute_result",
          "data": {
            "text/html": [
              "<div>\n",
              "<style scoped>\n",
              "    .dataframe tbody tr th:only-of-type {\n",
              "        vertical-align: middle;\n",
              "    }\n",
              "\n",
              "    .dataframe tbody tr th {\n",
              "        vertical-align: top;\n",
              "    }\n",
              "\n",
              "    .dataframe thead th {\n",
              "        text-align: right;\n",
              "    }\n",
              "</style>\n",
              "<table border=\"1\" class=\"dataframe\">\n",
              "  <thead>\n",
              "    <tr style=\"text-align: right;\">\n",
              "      <th></th>\n",
              "      <th>fit_y_axis</th>\n",
              "      <th>fit_x_axis</th>\n",
              "      <th>eccentricity</th>\n",
              "    </tr>\n",
              "  </thead>\n",
              "  <tbody>\n",
              "    <tr>\n",
              "      <th>32767.0</th>\n",
              "      <td>1.8422</td>\n",
              "      <td>1.66076</td>\n",
              "      <td>1.109253</td>\n",
              "    </tr>\n",
              "    <tr>\n",
              "      <th>32768.0</th>\n",
              "      <td>1.58732</td>\n",
              "      <td>1.96232</td>\n",
              "      <td>1.236246</td>\n",
              "    </tr>\n",
              "    <tr>\n",
              "      <th>32769.0</th>\n",
              "      <td>0.823768</td>\n",
              "      <td>5.07546</td>\n",
              "      <td>6.161274</td>\n",
              "    </tr>\n",
              "    <tr>\n",
              "      <th>32770.0</th>\n",
              "      <td>1.81114</td>\n",
              "      <td>1.98999</td>\n",
              "      <td>1.098748</td>\n",
              "    </tr>\n",
              "    <tr>\n",
              "      <th>32771.0</th>\n",
              "      <td>13</td>\n",
              "      <td>1.35521</td>\n",
              "      <td>9.592607</td>\n",
              "    </tr>\n",
              "  </tbody>\n",
              "</table>\n",
              "</div>"
            ],
            "text/plain": [
              "        fit_y_axis fit_x_axis  eccentricity\n",
              "32767.0     1.8422    1.66076      1.109253\n",
              "32768.0    1.58732    1.96232      1.236246\n",
              "32769.0   0.823768    5.07546      6.161274\n",
              "32770.0    1.81114    1.98999      1.098748\n",
              "32771.0         13    1.35521      9.592607"
            ]
          },
          "metadata": {
            "tags": []
          },
          "execution_count": 13
        }
      ]
    },
    {
      "cell_type": "code",
      "metadata": {
        "id": "aR4zAqOn2bng",
        "colab_type": "code",
        "colab": {},
        "outputId": "eda3964c-dd65-428b-9f57-367b7534d7cd"
      },
      "source": [
        "passed = np.array(\n",
        "    cat.loc[cat[\"eccentricity\"] >= ECCENTRICITY_THRESHOLD, [\"label\", \"center_of_mass_RA\", \"center_of_mass_DEC\", \"brightest_pixel\"]]\n",
        ")\n",
        "passed[:5]"
      ],
      "execution_count": null,
      "outputs": [
        {
          "output_type": "execute_result",
          "data": {
            "text/plain": [
              "array([['P209+42_5436', 208.43346783645973, 42.486207413569936],\n",
              "       ['P209+42_5438', 208.40986905045963, 42.48836625414744],\n",
              "       ['P209+42_5442', 208.39898053179886, 42.48901033694112],\n",
              "       ['P209+42_5445', 208.85445434349168, 42.493798311250686],\n",
              "       ['P209+42_5446', 208.39702506832126, 42.49228752772428]],\n",
              "      dtype=object)"
            ]
          },
          "metadata": {
            "tags": []
          },
          "execution_count": 14
        }
      ]
    },
    {
      "cell_type": "code",
      "metadata": {
        "id": "wItJbPVu2bnl",
        "colab_type": "code",
        "colab": {}
      },
      "source": [
        "RADIUS_THRESHOLD_DEGREES = RADIUS_THRESHOLD / 3600 # convert from arcseconds to deg\n",
        "\n",
        "def findArtifacts(row, fits, compile_near_sources, intensity_threshold_reduction_factor=1):  \n",
        "    # FIND ARTIFACTS\n",
        "    if row[-1] >= (INTENSITY_THRESHOLD * intensity_threshold_reduction_factor): \n",
        "        return (fits, False) # the source is a strong source - can never be artifact\n",
        "\n",
        "    distance = np.array([math.sqrt(i) for i in np.sum(np.power(row[0:-1] - compile_near_sources, 2), axis=1)])\n",
        "    if np.any(distance <= RADIUS_THRESHOLD_DEGREES):\n",
        "        return (fits, True)\n",
        "    else:\n",
        "        return (fits, False)"
      ],
      "execution_count": 1,
      "outputs": []
    },
    {
      "cell_type": "code",
      "metadata": {
        "id": "aU2uB-aa2bnp",
        "colab_type": "code",
        "colab": {},
        "outputId": "7ccb9d02-f8d7-427c-bf79-8194f812efae"
      },
      "source": [
        "artifacts = []\n",
        "t = 0\n",
        "\n",
        "with tqdm(total=len(passed)) as pbar:\n",
        "    for idx in range(len(passed)):\n",
        "        k, v = findArtifacts(passed[idx, 1:], passed[idx, 0], \n",
        "                             overlap_dict[passed[idx, 0].split('_')[0]])\n",
        "        artifacts.append((k, v))\n",
        "        t += v\n",
        "        pbar.update(1)\n",
        "        \n",
        "artifacts = np.array(artifacts)\n",
        "print(t/len(passed))"
      ],
      "execution_count": null,
      "outputs": [
        {
          "output_type": "stream",
          "text": [
            "100%|██████████| 380268/380268 [00:39<00:00, 9712.41it/s] "
          ],
          "name": "stderr"
        },
        {
          "output_type": "stream",
          "text": [
            "0.04798983874530594\n"
          ],
          "name": "stdout"
        },
        {
          "output_type": "stream",
          "text": [
            "\n"
          ],
          "name": "stderr"
        }
      ]
    },
    {
      "cell_type": "code",
      "metadata": {
        "id": "oYRQHfCN2bnu",
        "colab_type": "code",
        "colab": {},
        "outputId": "9f76a9a5-935e-46db-8255-31bfe8f460fc"
      },
      "source": [
        "artifacts[artifacts[:,1] == 'True'][:10]"
      ],
      "execution_count": null,
      "outputs": [
        {
          "output_type": "execute_result",
          "data": {
            "text/plain": [
              "array([['P209+42_7047', 'True'],\n",
              "       ['P209+42_7060', 'True'],\n",
              "       ['P209+42_7067', 'True'],\n",
              "       ['P209+42_7097', 'True'],\n",
              "       ['P209+42_7109', 'True'],\n",
              "       ['P209+42_7128', 'True'],\n",
              "       ['P209+42_7141', 'True'],\n",
              "       ['P209+42_7171', 'True'],\n",
              "       ['P209+42_7220', 'True'],\n",
              "       ['P209+42_7230', 'True']], dtype='<U17')"
            ]
          },
          "metadata": {
            "tags": []
          },
          "execution_count": 32
        }
      ]
    },
    {
      "cell_type": "markdown",
      "metadata": {
        "id": "A00937gs2bny",
        "colab_type": "text"
      },
      "source": [
        "# Old"
      ]
    },
    {
      "cell_type": "code",
      "metadata": {
        "id": "Y14ABQYG2bnz",
        "colab_type": "code",
        "colab": {}
      },
      "source": [
        "# WRITE OUT\n",
        "print(\"Writing...\")\n",
        "wfile = open(WRITE_TO, 'w')\n",
        "wfile.write(\"label,is_artifact\") # make csv\n",
        "for ci, chunk in enumerate(pd.read_csv(CATALOGUE_FILE, compression='infer', header=0, sep=',', quotechar='\"', chunksize=CHUNKSIZE, error_bad_lines=False)):\n",
        "    for ri, row in chunk.iterrows():\n",
        "        index = ci * CHUNKSIZE + ri\n",
        "        wfile.write(\"\\n\" + str(row[header_dict['label']]) + \",\" + str(artifact_indexed_list[index]))\n",
        "wfile.close()"
      ],
      "execution_count": null,
      "outputs": []
    }
  ]
}