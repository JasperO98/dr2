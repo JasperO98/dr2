{
 "cells": [
  {
   "cell_type": "code",
   "execution_count": 1,
   "metadata": {},
   "outputs": [],
   "source": [
    "import pandas as pd\n",
    "import matplotlib.pyplot as plt\n",
    "import numpy as np\n",
    "import math\n",
    "from tqdm import tqdm\n",
    "\n",
    "\n",
    "#from pyspark.sql.types import Row\n",
    "from pyspark import SparkContext\n",
    "from pyspark.sql import SparkSession"
   ]
  },
  {
   "cell_type": "code",
   "execution_count": 2,
   "metadata": {},
   "outputs": [],
   "source": [
    "try:\n",
    "    sc = SparkContext(appName=\"SDDM\")\n",
    "    #, master='spark://fs.dslc.liacs.nl:7078')\n",
    "except ValueError:\n",
    "    warnings.warn(\"SparkContext already exists in this scope\")\n",
    "    print('warn')\n"
   ]
  },
  {
   "cell_type": "code",
   "execution_count": 3,
   "metadata": {
    "scrolled": true
   },
   "outputs": [
    {
     "name": "stderr",
     "output_type": "stream",
     "text": [
      "/home/s2494876/.local/lib/python3.6/site-packages/IPython/core/interactiveshell.py:3063: DtypeWarning: Columns (0,2,3,4,5,6,7,8,9,10,11,12,13,14,15,16,17,18,19,20,21,22,23,24,25,27,28,29) have mixed types.Specify dtype option on import or set low_memory=False.\n",
      "  interactivity=interactivity, compiler=compiler, result=result)\n"
     ]
    },
    {
     "name": "stdout",
     "output_type": "stream",
     "text": [
      "1860924\n"
     ]
    },
    {
     "data": {
      "text/html": [
       "<div>\n",
       "<style scoped>\n",
       "    .dataframe tbody tr th:only-of-type {\n",
       "        vertical-align: middle;\n",
       "    }\n",
       "\n",
       "    .dataframe tbody tr th {\n",
       "        vertical-align: top;\n",
       "    }\n",
       "\n",
       "    .dataframe thead th {\n",
       "        text-align: right;\n",
       "    }\n",
       "</style>\n",
       "<table border=\"1\" class=\"dataframe\">\n",
       "  <thead>\n",
       "    <tr style=\"text-align: right;\">\n",
       "      <th></th>\n",
       "      <th>label</th>\n",
       "      <th>total_pixels</th>\n",
       "      <th>x_pixels</th>\n",
       "      <th>y_pixels</th>\n",
       "      <th>integrated_intensity</th>\n",
       "      <th>brightest_pixel</th>\n",
       "      <th>brightest_pixel_x</th>\n",
       "      <th>brightest_pixel_y</th>\n",
       "      <th>brightest_pixel_RA</th>\n",
       "      <th>brightest_pixel_DEC</th>\n",
       "      <th>...</th>\n",
       "      <th>fit_y_axis</th>\n",
       "      <th>fit_theta</th>\n",
       "      <th>deconv_x</th>\n",
       "      <th>deconv_y</th>\n",
       "      <th>integrated_intensity_fit</th>\n",
       "      <th>ratio_residual</th>\n",
       "      <th>mosaic</th>\n",
       "      <th>object</th>\n",
       "      <th>mosaic_id</th>\n",
       "      <th>overlap</th>\n",
       "    </tr>\n",
       "  </thead>\n",
       "  <tbody>\n",
       "    <tr>\n",
       "      <th>2287873.0</th>\n",
       "      <td>P198+57_11002</td>\n",
       "      <td>36</td>\n",
       "      <td>7</td>\n",
       "      <td>6</td>\n",
       "      <td>0.550844</td>\n",
       "      <td>0.000690567</td>\n",
       "      <td>4864</td>\n",
       "      <td>8679</td>\n",
       "      <td>198.213</td>\n",
       "      <td>59.1732</td>\n",
       "      <td>...</td>\n",
       "      <td>2.08132</td>\n",
       "      <td>2.56474</td>\n",
       "      <td>1.9143</td>\n",
       "      <td>2.83216</td>\n",
       "      <td>0.556048</td>\n",
       "      <td>0.0526855</td>\n",
       "      <td>P198+57</td>\n",
       "      <td>11002</td>\n",
       "      <td>154</td>\n",
       "      <td>2</td>\n",
       "    </tr>\n",
       "    <tr>\n",
       "      <th>2287874.0</th>\n",
       "      <td>P198+57_11003</td>\n",
       "      <td>39</td>\n",
       "      <td>8</td>\n",
       "      <td>6</td>\n",
       "      <td>0.522666</td>\n",
       "      <td>0.000566274</td>\n",
       "      <td>4090</td>\n",
       "      <td>8686</td>\n",
       "      <td>198.842</td>\n",
       "      <td>59.1766</td>\n",
       "      <td>...</td>\n",
       "      <td>1.70811</td>\n",
       "      <td>-0.122944</td>\n",
       "      <td>4.06405</td>\n",
       "      <td>0.422976</td>\n",
       "      <td>0.531733</td>\n",
       "      <td>0.0555658</td>\n",
       "      <td>P198+57</td>\n",
       "      <td>11003</td>\n",
       "      <td>154</td>\n",
       "      <td>2</td>\n",
       "    </tr>\n",
       "    <tr>\n",
       "      <th>2287875.0</th>\n",
       "      <td>P198+57_11004</td>\n",
       "      <td>20</td>\n",
       "      <td>7</td>\n",
       "      <td>4</td>\n",
       "      <td>0.204829</td>\n",
       "      <td>0.000356476</td>\n",
       "      <td>4832</td>\n",
       "      <td>8686</td>\n",
       "      <td>198.239</td>\n",
       "      <td>59.1762</td>\n",
       "      <td>...</td>\n",
       "      <td>1.20289</td>\n",
       "      <td>0.0320175</td>\n",
       "      <td>5.54893</td>\n",
       "      <td>0</td>\n",
       "      <td>0.209438</td>\n",
       "      <td>0.12552</td>\n",
       "      <td>P198+57</td>\n",
       "      <td>11004</td>\n",
       "      <td>154</td>\n",
       "      <td>0</td>\n",
       "    </tr>\n",
       "    <tr>\n",
       "      <th>2287876.0</th>\n",
       "      <td>P198+57_11005</td>\n",
       "      <td>30</td>\n",
       "      <td>7</td>\n",
       "      <td>6</td>\n",
       "      <td>0.32241</td>\n",
       "      <td>0.000377613</td>\n",
       "      <td>4759</td>\n",
       "      <td>8690</td>\n",
       "      <td>198.298</td>\n",
       "      <td>59.178</td>\n",
       "      <td>...</td>\n",
       "      <td>2.4241</td>\n",
       "      <td>2.335</td>\n",
       "      <td>0</td>\n",
       "      <td>4.07245</td>\n",
       "      <td>0.331345</td>\n",
       "      <td>0.105084</td>\n",
       "      <td>P198+57</td>\n",
       "      <td>11005</td>\n",
       "      <td>154</td>\n",
       "      <td>0</td>\n",
       "    </tr>\n",
       "    <tr>\n",
       "      <th>2287877.0</th>\n",
       "      <td>P198+57_11006</td>\n",
       "      <td>36</td>\n",
       "      <td>9</td>\n",
       "      <td>5</td>\n",
       "      <td>0.387224</td>\n",
       "      <td>0.000350652</td>\n",
       "      <td>4219</td>\n",
       "      <td>8692</td>\n",
       "      <td>198.737</td>\n",
       "      <td>59.1792</td>\n",
       "      <td>...</td>\n",
       "      <td>1.37658</td>\n",
       "      <td>0.0505499</td>\n",
       "      <td>10.6434</td>\n",
       "      <td>0</td>\n",
       "      <td>0.392656</td>\n",
       "      <td>0.107348</td>\n",
       "      <td>P198+57</td>\n",
       "      <td>11006</td>\n",
       "      <td>154</td>\n",
       "      <td>2</td>\n",
       "    </tr>\n",
       "  </tbody>\n",
       "</table>\n",
       "<p>5 rows × 29 columns</p>\n",
       "</div>"
      ],
      "text/plain": [
       "                   label total_pixels x_pixels y_pixels integrated_intensity  \\\n",
       "2287873.0  P198+57_11002           36        7        6             0.550844   \n",
       "2287874.0  P198+57_11003           39        8        6             0.522666   \n",
       "2287875.0  P198+57_11004           20        7        4             0.204829   \n",
       "2287876.0  P198+57_11005           30        7        6              0.32241   \n",
       "2287877.0  P198+57_11006           36        9        5             0.387224   \n",
       "\n",
       "          brightest_pixel brightest_pixel_x brightest_pixel_y  \\\n",
       "2287873.0     0.000690567              4864              8679   \n",
       "2287874.0     0.000566274              4090              8686   \n",
       "2287875.0     0.000356476              4832              8686   \n",
       "2287876.0     0.000377613              4759              8690   \n",
       "2287877.0     0.000350652              4219              8692   \n",
       "\n",
       "          brightest_pixel_RA brightest_pixel_DEC  ... fit_y_axis  fit_theta  \\\n",
       "2287873.0            198.213             59.1732  ...    2.08132    2.56474   \n",
       "2287874.0            198.842             59.1766  ...    1.70811  -0.122944   \n",
       "2287875.0            198.239             59.1762  ...    1.20289  0.0320175   \n",
       "2287876.0            198.298              59.178  ...     2.4241      2.335   \n",
       "2287877.0            198.737             59.1792  ...    1.37658  0.0505499   \n",
       "\n",
       "          deconv_x  deconv_y integrated_intensity_fit ratio_residual   mosaic  \\\n",
       "2287873.0   1.9143   2.83216                 0.556048      0.0526855  P198+57   \n",
       "2287874.0  4.06405  0.422976                 0.531733      0.0555658  P198+57   \n",
       "2287875.0  5.54893         0                 0.209438        0.12552  P198+57   \n",
       "2287876.0        0   4.07245                 0.331345       0.105084  P198+57   \n",
       "2287877.0  10.6434         0                 0.392656       0.107348  P198+57   \n",
       "\n",
       "          object mosaic_id overlap  \n",
       "2287873.0  11002       154       2  \n",
       "2287874.0  11003       154       2  \n",
       "2287875.0  11004       154       0  \n",
       "2287876.0  11005       154       0  \n",
       "2287877.0  11006       154       2  \n",
       "\n",
       "[5 rows x 29 columns]"
      ]
     },
     "execution_count": 3,
     "metadata": {},
     "output_type": "execute_result"
    }
   ],
   "source": [
    "# INIT\n",
    "CATALOGUE_FILE = \"/data/astronomy-big-data/bc96e9620e41b9aba98292d37b5eec24/LoTSS_DR2_writable/catalogue_v5.3.csv.tar.gz\"\n",
    "HEADER_FILE = \"/data/astronomy-big-data/bc96e9620e41b9aba98292d37b5eec24/LoTSS_DR2_writable/catalogue_v5.3_header.csv\"\n",
    "OVERLAP_FILE = \"../Overlap/overlap_dict.csv\"\n",
    "WRITE_TO = \"./artifact_detection.csv\"\n",
    "\n",
    "INTENSITY_THRESHOLD = 0.8\n",
    "RADIUS_THRESHOLD = 200 # arcseconds\n",
    "ECCENTRICITY_THRESHOLD = 3\n",
    "\n",
    "type_dict = {'label': str}\n",
    "header = open(HEADER_FILE, 'r').readline()[:-1].split(',')\n",
    "cat = pd.read_csv(CATALOGUE_FILE, sep=',', names=header).astype(type_dict)\n",
    "cat = cat[(cat[\"overlap\"] == 0) | (cat[\"overlap\"] == 2)]\n",
    "cat.drop(cat.tail(1).index,inplace=True)\n",
    "print(len(cat))\n",
    "cat.tail()"
   ]
  },
  {
   "cell_type": "code",
   "execution_count": 4,
   "metadata": {},
   "outputs": [
    {
     "name": "stdout",
     "output_type": "stream",
     "text": [
      "Make intensities histogram\n"
     ]
    },
    {
     "data": {
      "image/png": "[encoded data removed]",
      "text/plain": [
       "<Figure size 432x288 with 1 Axes>"
      ]
     },
     "metadata": {
      "needs_background": "light"
     },
     "output_type": "display_data"
    }
   ],
   "source": [
    "# INTENSITY HISTOGRAM\n",
    "disable = False\n",
    "if not disable:\n",
    "    print(\"Make intensities histogram\")\n",
    "    nbins = 100\n",
    "    \n",
    "    br_pixels = cat.loc[:, 'brightest_pixel']\n",
    "    \n",
    "    edges = np.histogram_bin_edges(br_pixels, bins=nbins)\n",
    "    hist = np.histogram(br_pixels, bins=edges)[0].astype(\"float64\")\n",
    "    \n",
    "    hist /= np.sum(hist) # normalise\n",
    "    hist *= 10\n",
    "    hist += np.min(hist[hist > 0]) # scale-up, avoid zeroes\n",
    "    hist = np.log10(hist) # logarithm\n",
    "\n",
    "    fig, ax = plt.subplots()\n",
    "    ax.set_xlabel(\"Intensity threshold\")\n",
    "    ax.set_ylabel(\"Log10-scaled frequency\")\n",
    "    ax.set_title(\"Floored log scale frequency of brightest pixel intensities\")\n",
    "    ax.plot(edges[0:-1], hist)\n",
    "    plt.show()\n",
    "\n"
   ]
  },
  {
   "cell_type": "code",
   "execution_count": 5,
   "metadata": {},
   "outputs": [
    {
     "name": "stdout",
     "output_type": "stream",
     "text": [
      "Find intense sources\n",
      "Intense sources: 704\n"
     ]
    }
   ],
   "source": [
    "# HIGH INTENSITY SOURCES\n",
    "print(\"Find intense sources\")\n",
    "\n",
    "intense_sources = []\n",
    "\n",
    "intense = np.full(len(cat.index), INTENSITY_THRESHOLD)\n",
    "br_pixels = cat.loc[:, 'brightest_pixel']\n",
    "br_indices = br_pixels >= intense\n",
    "br_chunk = cat.iloc[np.where(br_indices == True)[0], :]\n",
    "for ri, row in br_chunk.iterrows():\n",
    "    intense_sources.append(row)\n",
    "    \n",
    "print(\"Intense sources:\", len(intense_sources))"
   ]
  },
  {
   "cell_type": "code",
   "execution_count": 6,
   "metadata": {},
   "outputs": [
    {
     "name": "stdout",
     "output_type": "stream",
     "text": [
      "P209+42 [array([208.11910636,  42.98993629]), array([210.134438  ,  43.06743551])]\n"
     ]
    }
   ],
   "source": [
    "intense_sources_dict = {} # convert to dictionary indexed by fits files\n",
    "for src in intense_sources:\n",
    "    fits = src[\"mosaic\"]\n",
    "    try:\n",
    "        intense_sources_dict[fits].append(np.array([src['center_of_mass_RA'], src['center_of_mass_DEC']]))\n",
    "    except KeyError:\n",
    "        intense_sources_dict[fits] = [np.array([src['center_of_mass_RA'], src['center_of_mass_DEC']])]\n",
    "\n",
    "for k, v in intense_sources_dict.items():\n",
    "    print(k, v)\n",
    "    break"
   ]
  },
  {
   "cell_type": "code",
   "execution_count": 7,
   "metadata": {},
   "outputs": [
    {
     "name": "stdout",
     "output_type": "stream",
     "text": [
      "Generate overlap dict\n"
     ]
    },
    {
     "data": {
      "text/plain": [
       "[array([204.10999596,  41.5202199 ]),\n",
       " array([206.38794763,  42.83762067]),\n",
       " array([205.47256385,  43.5890377 ]),\n",
       " array([205.77471677,  43.72321379]),\n",
       " array([205.77470766,  43.72319738]),\n",
       " array([205.04169568,  44.08724656]),\n",
       " array([210.41095344,  47.25396156]),\n",
       " array([208.79800434,  48.3679536 ]),\n",
       " array([210.88402358,  48.60344786]),\n",
       " array([213.76976868,  41.93231088]),\n",
       " array([214.30820608,  42.40411327]),\n",
       " array([208.11910636,  42.98993629]),\n",
       " array([210.134438  ,  43.06743551])]"
      ]
     },
     "execution_count": 7,
     "metadata": {},
     "output_type": "execute_result"
    }
   ],
   "source": [
    "print(\"Generate overlap dict\")\n",
    "overlap_file = pd.read_csv(OVERLAP_FILE, sep=\",\", quotechar='\"') # find overlap mosaics\n",
    "overlap_dict = {} # make a better dictionary\n",
    "for _, mosaic in overlap_file.iterrows():\n",
    "    overlap_dict[mosaic[\"fitsfile\"].split(\"_\")[0]] = []\n",
    "\n",
    "    overlaps = mosaic[\"overlaps\"]\n",
    "    overlaps = [overlaps, \"\"][pd.isna(overlaps)]\n",
    "    overlaps += \";\" + mosaic[\"fitsfile\"]\n",
    "    \n",
    "    overlaps = overlaps.split(\";\")\n",
    "    for i, ov in enumerate(overlaps):\n",
    "        try:\n",
    "            overlaps[i] = intense_sources_dict[ov.split(\"_\")[0]]\n",
    "        except KeyError:\n",
    "            overlaps[i] = []\n",
    "    for o in overlaps:\n",
    "        for s in o:\n",
    "            overlap_dict[mosaic[\"fitsfile\"].split(\"_\")[0]].append(s)\n",
    "\n",
    "overlap_dict['P209+42']"
   ]
  },
  {
   "cell_type": "code",
   "execution_count": 8,
   "metadata": {},
   "outputs": [
    {
     "name": "stderr",
     "output_type": "stream",
     "text": [
      "/home/s2494876/miniconda3/envs/sddm/lib/python3.6/site-packages/pandas/core/series.py:679: RuntimeWarning: divide by zero encountered in log\n",
      "  result = getattr(ufunc, method)(*inputs, **kwargs)\n"
     ]
    },
    {
     "data": {
      "text/html": [
       "<div>\n",
       "<style scoped>\n",
       "    .dataframe tbody tr th:only-of-type {\n",
       "        vertical-align: middle;\n",
       "    }\n",
       "\n",
       "    .dataframe tbody tr th {\n",
       "        vertical-align: top;\n",
       "    }\n",
       "\n",
       "    .dataframe thead th {\n",
       "        text-align: right;\n",
       "    }\n",
       "</style>\n",
       "<table border=\"1\" class=\"dataframe\">\n",
       "  <thead>\n",
       "    <tr style=\"text-align: right;\">\n",
       "      <th></th>\n",
       "      <th>fit_y_axis</th>\n",
       "      <th>fit_x_axis</th>\n",
       "      <th>eccentricity</th>\n",
       "    </tr>\n",
       "  </thead>\n",
       "  <tbody>\n",
       "    <tr>\n",
       "      <th>32767</th>\n",
       "      <td>1.8422</td>\n",
       "      <td>1.66076</td>\n",
       "      <td>1.109253</td>\n",
       "    </tr>\n",
       "    <tr>\n",
       "      <th>32768</th>\n",
       "      <td>1.58732</td>\n",
       "      <td>1.96232</td>\n",
       "      <td>1.236246</td>\n",
       "    </tr>\n",
       "    <tr>\n",
       "      <th>32769</th>\n",
       "      <td>0.823768</td>\n",
       "      <td>5.07546</td>\n",
       "      <td>6.161274</td>\n",
       "    </tr>\n",
       "    <tr>\n",
       "      <th>32770</th>\n",
       "      <td>1.81114</td>\n",
       "      <td>1.98999</td>\n",
       "      <td>1.098748</td>\n",
       "    </tr>\n",
       "    <tr>\n",
       "      <th>32771</th>\n",
       "      <td>13</td>\n",
       "      <td>1.35521</td>\n",
       "      <td>9.592607</td>\n",
       "    </tr>\n",
       "  </tbody>\n",
       "</table>\n",
       "</div>"
      ],
      "text/plain": [
       "      fit_y_axis fit_x_axis  eccentricity\n",
       "32767     1.8422    1.66076      1.109253\n",
       "32768    1.58732    1.96232      1.236246\n",
       "32769   0.823768    5.07546      6.161274\n",
       "32770    1.81114    1.98999      1.098748\n",
       "32771         13    1.35521      9.592607"
      ]
     },
     "execution_count": 8,
     "metadata": {},
     "output_type": "execute_result"
    }
   ],
   "source": [
    "cat[\"eccentricity\"] = np.exp(np.abs(np.log(cat['fit_x_axis'].astype(float) / cat['fit_y_axis'].astype(float)  )))\n",
    "cat.loc[:, [\"fit_y_axis\", \"fit_x_axis\", \"eccentricity\"]].head()"
   ]
  },
  {
   "cell_type": "code",
   "execution_count": 34,
   "metadata": {},
   "outputs": [
    {
     "data": {
      "text/plain": [
       "array([['P209+42_5436', 208.43346783645973, 42.486207413569936],\n",
       "       ['P209+42_5438', 208.40986905045963, 42.48836625414744],\n",
       "       ['P209+42_5442', 208.39898053179886, 42.48901033694112],\n",
       "       ['P209+42_5445', 208.85445434349168, 42.493798311250686],\n",
       "       ['P209+42_5446', 208.39702506832126, 42.49228752772428]],\n",
       "      dtype=object)"
      ]
     },
     "execution_count": 34,
     "metadata": {},
     "output_type": "execute_result"
    }
   ],
   "source": [
    "passed = np.array(\n",
    "    cat.loc[cat[\"eccentricity\"] >= ECCENTRICITY_THRESHOLD, [\"label\", \"center_of_mass_RA\", \"center_of_mass_DEC\"]]\n",
    ")\n",
    "passed[:5]"
   ]
  },
  {
   "cell_type": "code",
   "execution_count": 43,
   "metadata": {},
   "outputs": [],
   "source": [
    "def findArtifacts(row, fits, compile_near_sources):  \n",
    "    # FIND ARTIFACTS\n",
    "    RADIUS_THRESHOLD_DEGREES = RADIUS_THRESHOLD / 3600 # convert from arcseconds to deg\n",
    "\n",
    "    distance = np.array([math.sqrt(i) for i in np.sum(np.power(row - compile_near_sources, 2), axis=1)])\n",
    "    if np.any(distance <= RADIUS_THRESHOLD_DEGREES):\n",
    "        return (fits, True)\n",
    "    else:\n",
    "        return (fits, False)"
   ]
  },
  {
   "cell_type": "code",
   "execution_count": 47,
   "metadata": {},
   "outputs": [
    {
     "name": "stderr",
     "output_type": "stream",
     "text": [
      "100%|██████████| 380261/380261 [00:48<00:00, 7862.89it/s]"
     ]
    },
    {
     "name": "stdout",
     "output_type": "stream",
     "text": [
      "0.04799598170730104\n"
     ]
    },
    {
     "name": "stderr",
     "output_type": "stream",
     "text": [
      "\n"
     ]
    }
   ],
   "source": [
    "artifacts = []\n",
    "t = 0\n",
    "\n",
    "with tqdm(total=len(passed)) as pbar:\n",
    "    for idx in range(len(passed)):\n",
    "        k, v = findArtifacts(passed[idx, 1:], passed[idx, 0], \n",
    "                             overlap_dict[passed[idx, 0].split('_')[0]])\n",
    "        artifacts.append((k, v))\n",
    "        t += v\n",
    "        pbar.update(1)\n",
    "        \n",
    "print(t/len(passed))"
   ]
  },
  {
   "cell_type": "markdown",
   "metadata": {},
   "source": [
    "# Old"
   ]
  },
  {
   "cell_type": "code",
   "execution_count": null,
   "metadata": {},
   "outputs": [],
   "source": [
    "# WRITE OUT\n",
    "print(\"Writing...\")\n",
    "wfile = open(WRITE_TO, 'w')\n",
    "wfile.write(\"label,is_artifact\") # make csv\n",
    "for ci, chunk in enumerate(pd.read_csv(CATALOGUE_FILE, compression='infer', header=0, sep=',', quotechar='\"', chunksize=CHUNKSIZE, error_bad_lines=False)):\n",
    "    for ri, row in chunk.iterrows():\n",
    "        index = ci * CHUNKSIZE + ri\n",
    "        wfile.write(\"\\n\" + str(row[header_dict['label']]) + \",\" + str(artifact_indexed_list[index]))\n",
    "wfile.close()"
   ]
  }
 ],
 "metadata": {
  "kernelspec": {
   "display_name": "Python 3",
   "language": "python",
   "name": "python3"
  },
  "language_info": {
   "codemirror_mode": {
    "name": "ipython",
    "version": 3
   },
   "file_extension": ".py",
   "mimetype": "text/x-python",
   "name": "python",
   "nbconvert_exporter": "python",
   "pygments_lexer": "ipython3",
   "version": "3.6.10"
  }
 },
 "nbformat": 4,
 "nbformat_minor": 4
}
