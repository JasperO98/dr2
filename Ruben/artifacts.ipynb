{
 "cells": [
  {
   "cell_type": "code",
   "execution_count": 2,
   "metadata": {},
   "outputs": [],
   "source": [
    "import pandas as pd\n",
    "import matplotlib.pyplot as plt\n",
    "import numpy as np\n"
   ]
  },
  {
   "cell_type": "code",
   "execution_count": 6,
   "metadata": {},
   "outputs": [],
   "source": [
    "# INIT\n",
    "CHUNKSIZE = 10**5\n",
    "CATALOGUE_FILE = \"/data/astronomy-big-data/bc96e9620e41b9aba98292d37b5eec24/LoTSS_DR2_writable/catalogue_v5.2.csv.tar.gz\"\n",
    "HEADER_FILE = \"/data/astronomy-big-data/bc96e9620e41b9aba98292d37b5eec24/LoTSS_DR2_writable/catalogue_v5.2_header.csv\"\n",
    "OVERLAP_FILE = \"../Jasper/overlap_dict.csv\"\n",
    "WRITE_TO = \"./artifact_detection.csv\"\n",
    "\n",
    "INTENSITY_THRESHOLD = 0.8\n",
    "RADIUS_THRESHOLD = 200 # arcseconds\n",
    "ECCENTRICITY_THRESHOLD = 3\n",
    "\n",
    "header = list(pd.read_csv(HEADER_FILE, sep=\",\", quotechar='\"'))\n",
    "header_dict = {x : header.index(x) for x in header}"
   ]
  },
  {
   "cell_type": "code",
   "execution_count": 7,
   "metadata": {},
   "outputs": [
    {
     "name": "stdout",
     "output_type": "stream",
     "text": [
      "Make intensities histogram\n",
      "Chunk 1\n",
      "Chunk 2\n",
      "Chunk 3\n",
      "Chunk 4\n",
      "Chunk 5\n",
      "Chunk 6\n",
      "Chunk 7\n",
      "Chunk 8\n",
      "Chunk 9\n",
      "Chunk 10\n",
      "Chunk 11\n",
      "Chunk 12\n",
      "Chunk 13\n",
      "Chunk 14\n",
      "Chunk 15\n",
      "Chunk 16\n",
      "Chunk 17\n",
      "Chunk 18\n",
      "Chunk 19\n",
      "Chunk 20\n",
      "Chunk 21\n",
      "Chunk 22\n",
      "Chunk 23\n",
      "Chunk 24\n"
     ]
    },
    {
     "data": {
      "image/png": "[encoded data removed]",
      "text/plain": [
       "<Figure size 432x288 with 1 Axes>"
      ]
     },
     "metadata": {
      "needs_background": "light"
     },
     "output_type": "display_data"
    }
   ],
   "source": [
    "# INTENSITY HISTOGRAM\n",
    "disable = False\n",
    "if not disable:\n",
    "    print(\"Make intensities histogram\")\n",
    "    nbins = 100\n",
    "    for ci, chunk in enumerate(pd.read_csv(CATALOGUE_FILE, compression='infer', header=0, sep=',', quotechar='\"', chunksize=CHUNKSIZE, error_bad_lines=False)):\n",
    "        print(\"Chunk\", ci+1)\n",
    "        br_pixels = chunk.iloc[:, header_dict['brightest_pixel']]\n",
    "        br_pixels = br_pixels[np.isfinite(br_pixels)]\n",
    "        \n",
    "        if ci == 0:\n",
    "            edges = np.histogram_bin_edges(br_pixels, bins=nbins)\n",
    "            hist = np.histogram(br_pixels, bins=edges)[0].astype(\"float64\")\n",
    "        else:\n",
    "            hist = hist + np.histogram(br_pixels, bins=edges)[0]\n",
    "\n",
    "    hist = hist / np.sum(hist) # normalise\n",
    "    hist *= 10\n",
    "    hist += np.min(hist[hist > 0]) # scale-up, avoid zeroes\n",
    "    hist = np.log10(hist) # logarithm\n",
    "\n",
    "    fig, ax = plt.subplots()\n",
    "    ax.set_xlabel(\"Intensity threshold\")\n",
    "    ax.set_ylabel(\"Log10-scaled frequency\")\n",
    "    ax.set_title(\"Floored log scale frequency of brightest pixel intensities\")\n",
    "    ax.plot(edges[0:-1], hist)\n",
    "    plt.show()\n",
    "\n"
   ]
  },
  {
   "cell_type": "code",
   "execution_count": 8,
   "metadata": {},
   "outputs": [
    {
     "name": "stdout",
     "output_type": "stream",
     "text": [
      "Find intense sources\n",
      "Chunk 1\n",
      "Chunk 2\n",
      "Chunk 3\n",
      "Chunk 4\n",
      "Chunk 5\n",
      "Chunk 6\n",
      "Chunk 7\n",
      "Chunk 8\n",
      "Chunk 9\n",
      "Chunk 10\n",
      "Chunk 11\n",
      "Chunk 12\n",
      "Chunk 13\n",
      "Chunk 14\n",
      "Chunk 15\n",
      "Chunk 16\n",
      "Chunk 17\n",
      "Chunk 18\n",
      "Chunk 19\n",
      "Chunk 20\n",
      "Chunk 21\n",
      "Chunk 22\n",
      "Chunk 23\n",
      "Chunk 24\n",
      "Intense sources: 761248\n"
     ]
    }
   ],
   "source": [
    "# HIGH INTENSITY SOURCES\n",
    "print(\"Find intense sources\")\n",
    "intense_sources = []\n",
    "for ci, chunk in enumerate(pd.read_csv(CATALOGUE_FILE, compression='infer', header=0, sep=',', quotechar='\"', chunksize=CHUNKSIZE, error_bad_lines=False)):\n",
    "    print(\"Chunk\", ci+1)\n",
    "    intense = np.full(len(chunk.index), INTENSITY_THRESHOLD)\n",
    "    br_pixels = chunk.iloc[:, header_dict['brightest_pixel']]\n",
    "    br_indices = br_pixels >= intense\n",
    "    br_chunk = chunk.iloc[np.where(br_indices == True)[0], :]\n",
    "    for ri, row in br_chunk.iterrows():\n",
    "        intense_sources.append(row)\n",
    "    \n",
    "print(\"Intense sources:\", len(intense_sources))"
   ]
  },
  {
   "cell_type": "code",
   "execution_count": 13,
   "metadata": {},
   "outputs": [
    {
     "name": "stderr",
     "output_type": "stream",
     "text": [
      "IOPub data rate exceeded.\n",
      "The notebook server will temporarily stop sending output\n",
      "to the client in order to avoid crashing it.\n",
      "To change this limit, set the config variable\n",
      "`--NotebookApp.iopub_data_rate_limit`.\n",
      "\n",
      "Current values:\n",
      "NotebookApp.iopub_data_rate_limit=1000000.0 (bytes/sec)\n",
      "NotebookApp.rate_limit_window=3.0 (secs)\n",
      "\n"
     ]
    }
   ],
   "source": [
    "intense_sources_dict = {} # convert to dictionary indexed by fits files\n",
    "for src in intense_sources:\n",
    "    fits = src[header_dict['mosaic']]\n",
    "    try:\n",
    "        intense_sources_dict[fits].append(src)\n",
    "    except KeyError:\n",
    "        intense_sources_dict[fits] = [src]\n",
    "\n",
    "print(intense_sources_dict)"
   ]
  },
  {
   "cell_type": "code",
   "execution_count": null,
   "metadata": {},
   "outputs": [],
   "source": [
    "# FIND ARTIFACTS\n",
    "print(\"Generate overlap dict\")\n",
    "overlap_file = pd.read_csv(OVERLAP_FILE, sep=\",\", quotechar='\"') # find overlap mosaics\n",
    "overlap_dict = {} # make a better dictionary\n",
    "for _, mosaic in overlap_file.iterrows():\n",
    "    overlaps = mosaic[\"overlaps\"]\n",
    "    overlaps = [overlaps, \"\"][pd.isna(overlaps)]\n",
    "    overlaps = overlaps.split(\";\")\n",
    "    for i, ov in enumerate(overlaps):\n",
    "        overlaps[i] = ov.split(\"_\")[0]\n",
    "    overlap_dict[mosaic[\"fitsfile\"].split(\"_\")[0]] = overlaps\n"
   ]
  },
  {
   "cell_type": "code",
   "execution_count": null,
   "metadata": {},
   "outputs": [],
   "source": [
    "print(\"Start artifact finding\")\n",
    "artifact_indexed_list = [] # index-wise list of sources marked as artifacts\n",
    "RADIUS_THRESHOLD_DEGREES = RADIUS_THRESHOLD / 3600 # convert from arcseconds to deg\n",
    "for ci, chunk in enumerate(pd.read_csv(CATALOGUE_FILE, compression='infer', header=0, sep=',', quotechar='\"', chunksize=CHUNKSIZE, error_bad_lines=False)):\n",
    "    print(\"Chunk\", ci+1) # pass over all chunks\n",
    "    eccentricity = np.exp(np.abs(np.log(chunk.iloc[:, header_dict['fit_x_axis']] / chunk.iloc[:, header_dict['fit_y_axis']])))\n",
    "    passes_eccentricity = eccentricity >= ECCENTRICITY_THRESHOLD # calculate sources above eccentricity threshold\n",
    "\n",
    "    for ri, row in chunk.iterrows():\n",
    "        if ri % 1000 == 0: print(\"Row\", ri+1)\n",
    "        mark_artifact = False\n",
    "        if passes_eccentricity[ri]:\n",
    "            fits = row[header_dict['label']].split(\"_\")[0]\n",
    "            mosaics_to_check = overlap_dict[fits] # high-intensity sources to check in intense_sources_dict\n",
    "            mosaics_to_check.append(fits) # append fits file itself\n",
    "            compile_near_sources = []\n",
    "            for mosaic in mosaics_to_check:\n",
    "                try:\n",
    "                    for src in intense_sources_dict[mosaic]:\n",
    "                        compile_near_sources.append([src[header_dict['center_of_mass_RA']], src[header_dict['center_of_mass_DEC']]])\n",
    "                except KeyError:\n",
    "                    pass\n",
    "            compile_near_sources = np.array(compile_near_sources)\n",
    "            vec = np.array([row[header_dict['center_of_mass_RA']], row[header_dict['center_of_mass_DEC']]]) - compile_near_sources\n",
    "            distance = np.sqrt(np.sum(np.power(vec, 2))) # distance (euclidean)\n",
    "            if np.sum(distance <= RADIUS_THRESHOLD_DEGREES) > 0:\n",
    "                mark_artifact = True\n",
    "            ##for isrc in compile_near_sources:\n",
    "            ##    vec = np.array([row[header_dict['center_of_mass_RA']], row[header_dict['center_of_mass_DEC']]]) - np.array(isrc)\n",
    "            ##    distance = np.sqrt(np.sum(np.power(vec, 2))) # distance (euclidean)\n",
    "            ##    if distance <= RADIUS_THRESHOLD:\n",
    "            ##        mark_artifact = True\n",
    "            ##        break\n",
    "        artifact_indexed_list.append(mark_artifact)"
   ]
  },
  {
   "cell_type": "code",
   "execution_count": null,
   "metadata": {},
   "outputs": [],
   "source": [
    "# WRITE OUT\n",
    "print(\"Writing...\")\n",
    "wfile = open(WRITE_TO, 'w')\n",
    "wfile.write(\"label,is_artifact\") # make csv\n",
    "for ci, chunk in enumerate(pd.read_csv(CATALOGUE_FILE, compression='infer', header=0, sep=',', quotechar='\"', chunksize=CHUNKSIZE, error_bad_lines=False)):\n",
    "    for ri, row in chunk.iterrows():\n",
    "        index = ci * CHUNKSIZE + ri\n",
    "        wfile.write(\"\\n\" + str(row[header_dict['label']]) + \",\" + str(artifact_indexed_list[index]))\n",
    "wfile.close()"
   ]
  }
 ],
 "metadata": {
  "kernelspec": {
   "display_name": "Python 3",
   "language": "python",
   "name": "python3"
  },
  "language_info": {
   "codemirror_mode": {
    "name": "ipython",
    "version": 3
   },
   "file_extension": ".py",
   "mimetype": "text/x-python",
   "name": "python",
   "nbconvert_exporter": "python",
   "pygments_lexer": "ipython3",
   "version": "3.6.10"
  }
 },
 "nbformat": 4,
 "nbformat_minor": 4
}
