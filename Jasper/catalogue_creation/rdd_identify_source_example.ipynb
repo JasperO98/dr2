{
 "cells": [
  {
   "cell_type": "code",
   "execution_count": 44,
   "metadata": {},
   "outputs": [
    {
     "name": "stdout",
     "output_type": "stream",
     "text": [
      "/home/s2494876/miniconda3/envs/sddm/bin/python\n",
      "['/home/s2494876/miniconda3/envs/sddm/lib/python36.zip', '/tmp/spark-2cb49558-1f92-4a3b-87a8-dae4c35e756c/userFiles-59b64729-b140-44aa-96b5-367abfe82b13', '/home/s2494876/miniconda3/envs/sddm/lib/python3.6', '/home/s2494876/miniconda3/envs/sddm/lib/python3.6/lib-dynload', '', '/home/s2494876/.local/lib/python3.6/site-packages', '/home/s2494876/miniconda3/envs/sddm/lib/python3.6/site-packages', '/home/s2494876/.local/lib/python3.6/site-packages/IPython/extensions', '/home/s2494876/.ipython']\n",
      "3.6.10 |Anaconda, Inc.| (default, Mar 25 2020, 23:51:54) \n",
      "[GCC 7.3.0]\n"
     ]
    }
   ],
   "source": [
    "import findspark as fs\n",
    "\n",
    "import os\n",
    "import sys\n",
    "import numpy as np\n",
    "\n",
    "print(sys.executable)\n",
    "print(sys.path)\n",
    "print(sys.version)\n",
    "\n",
    "import photutils\n",
    "from photutils import detect_threshold\n",
    "from astropy.io import fits\n",
    "from astropy.wcs import WCS\n",
    "from astropy.modeling.fitting import LevMarLSQFitter\n",
    "from astropy.modeling.functional_models import Gaussian2D\n",
    "\n",
    "#from pyspark.sql.types import Row\n",
    "from pyspark import SparkContext\n",
    "from pyspark.sql import SparkSession\n",
    "\n",
    "from astropy.convolution import Gaussian2DKernel\n",
    "from astropy.stats import gaussian_fwhm_to_sigma\n",
    "from photutils import detect_sources\n",
    "import time\n",
    "\n",
    "import shutil\n",
    "from math import pi, log, sqrt\n",
    "\n",
    "import warnings\n",
    "warnings.filterwarnings(\"ignore\")"
   ]
  },
  {
   "cell_type": "code",
   "execution_count": 16,
   "metadata": {},
   "outputs": [],
   "source": [
    "try:\n",
    "    sc = SparkContext(appName=\"SDDM\") #, master='spark://fs.dslc.liacs.nl:7078')\n",
    "except ValueError:\n",
    "    warnings.warn(\"SparkContext already exists in this scope\")"
   ]
  },
  {
   "cell_type": "code",
   "execution_count": 17,
   "metadata": {},
   "outputs": [],
   "source": [
    "# Define data paths\n",
    "DR2_path = \"/data/astronomy-big-data/bc96e9620e41b9aba98292d37b5eec24/LoTSS_DR2/\"\n",
    "mosaic_path = \"/data/astronomy-big-data/bc96e9620e41b9aba98292d37b5eec24/LoTSS_DR2_mosaic/\"\n",
    "out = \"/data/astronomy-big-data/bc96e9620e41b9aba98292d37b5eec24/LoTSS_DR2_writable/\""
   ]
  },
  {
   "cell_type": "code",
   "execution_count": 18,
   "metadata": {},
   "outputs": [
    {
     "name": "stdout",
     "output_type": "stream",
     "text": [
      "/data/astronomy-big-data/bc96e9620e41b9aba98292d37b5eec24/LoTSS_DR2_mosaic/P223+52_mosaic-blanked.fits\n"
     ]
    }
   ],
   "source": [
    "# Take two fits files\n",
    "fits_files = [mosaic_path + f for f in os.listdir(mosaic_path)][:1]\n",
    "print(fits_files[0])"
   ]
  },
  {
   "cell_type": "code",
   "execution_count": 19,
   "metadata": {},
   "outputs": [
    {
     "name": "stdout",
     "output_type": "stream",
     "text": [
      "{'_header_str': None, '_file': <astropy.io.fits.file._File <_io.FileIO name='/data/astronomy-big-data/bc96e9620e41b9aba98292d37b5eec24/LoTSS_DR2_mosaic/P223+52_mosaic-blanked.fits' mode='rb' closefd=True>>, '_buffer': None, '_header_offset': 0, '_data_offset': 2880, '_data_size': 848062080, '_data_replaced': False, '_data_needs_rescale': False, '_new': False, '_output_checksum': False, '_checksum': None, '_checksum_valid': None, '_datasum': None, '_datasum_valid': None, '_do_not_scale_image_data': False, '_uint': True, '_scale_back': None, '_bzero': 0, '_bscale': 1, '_axes': [10296, 10296], '_bitpix': -64, '_gcount': 1, '_pcount': 0, '_blank': None, '_orig_bitpix': -64, '_orig_blank': None, '_orig_bzero': 0, '_orig_bscale': 1, '_modified': False, '_header': SIMPLE  =                    T / conforms to FITS standard                      \n",
      "BITPIX  =                  -64 / array data type                                \n",
      "NAXIS   =                    2 / number of array dimensions                     \n",
      "NAXIS1  =                10296                                                  \n",
      "NAXIS2  =                10296                                                  \n",
      "WCSAXES =                    2                                                  \n",
      "CTYPE1  = 'RA---SIN'                                                            \n",
      "CTYPE2  = 'DEC--SIN'                                                            \n",
      "CUNIT1  = 'deg     '                                                            \n",
      "CUNIT2  = 'deg     '                                                            \n",
      "CRPIX1  =                 5148                                                  \n",
      "CRPIX2  =                 5148                                                  \n",
      "CRVAL1  =              223.431                                                  \n",
      "CRVAL2  =              52.4906                                                  \n",
      "CDELT1  = -0.00041666666666666                                                  \n",
      "CDELT2  = 0.000416666666666666                                                  \n",
      "RADESYS = 'ICRS    '                                                            \n",
      "EQUINOX =               2000.0                                                  \n",
      "LONPOLE =                180.0                                                  \n",
      "LATPOLE =              52.4906                                                  \n",
      "BMAJ    = 0.001666666666666667                                                  \n",
      "BMIN    = 0.001666666666666667                                                  \n",
      "BPA     =                   90                                                  \n",
      "TELESCOP= 'LOFAR   '                                                            \n",
      "RESTFRQ =          143650000.0                                                  \n",
      "OBSERVER= 'LoTSS   '                                                            \n",
      "BUNIT   = 'JY/BEAM '                                                            \n",
      "BTYPE   = 'Intensity'                                                           \n",
      "OBJECT  = 'P223+52 '                                                            \n",
      "ORIGIN  = 'ddf-pipeline v2.2-98-gfc73ac0'                                       , 'data': array([[nan, nan, nan, ..., nan, nan, nan],\n",
      "       [nan, nan, nan, ..., nan, nan, nan],\n",
      "       [nan, nan, nan, ..., nan, nan, nan],\n",
      "       ...,\n",
      "       [nan, nan, nan, ..., nan, nan, nan],\n",
      "       [nan, nan, nan, ..., nan, nan, nan],\n",
      "       [nan, nan, nan, ..., nan, nan, nan]])}\n"
     ]
    }
   ],
   "source": [
    "# Take a look at the data in a .fits file\n",
    "hdul = fits.open(fits_files[0])\n",
    "data = hdul[0].data # The intensity data\n",
    "print(hdul[0].__dict__)"
   ]
  },
  {
   "cell_type": "code",
   "execution_count": 20,
   "metadata": {},
   "outputs": [
    {
     "data": {
      "text/plain": [
       "['/data/astronomy-big-data/bc96e9620e41b9aba98292d37b5eec24/LoTSS_DR2_mosaic/P223+52_mosaic-blanked.fits']"
      ]
     },
     "execution_count": 20,
     "metadata": {},
     "output_type": "execute_result"
    }
   ],
   "source": [
    "# Put the paths in an RDD and determine number of partitions\n",
    "# More partitions == more cpu and faster (can crash when partitions are too high)\n",
    "file_paths = sc.parallelize(fits_files, 3) # , len(fits_files)\n",
    "file_paths.collect()"
   ]
  },
  {
   "cell_type": "code",
   "execution_count": 21,
   "metadata": {},
   "outputs": [
    {
     "data": {
      "text/plain": [
       "3"
      ]
     },
     "execution_count": 21,
     "metadata": {},
     "output_type": "execute_result"
    }
   ],
   "source": [
    "# Map the RDD with paths to the fits.open() function to get the content in the .fits\n",
    "fits_content = file_paths.map(lambda file: fits.open(file)[0])\n",
    "fits_content.getNumPartitions()"
   ]
  },
  {
   "cell_type": "code",
   "execution_count": 22,
   "metadata": {},
   "outputs": [],
   "source": [
    "# Save pair of fits content: threshold matrix in a RDD.\n",
    "fits_thresh = fits_content.map(lambda content: (content, detect_threshold(content.data , nsigma=3.)))"
   ]
  },
  {
   "cell_type": "code",
   "execution_count": 23,
   "metadata": {},
   "outputs": [
    {
     "data": {
      "text/plain": [
       "3"
      ]
     },
     "execution_count": 23,
     "metadata": {},
     "output_type": "execute_result"
    }
   ],
   "source": [
    "# Sigma?\n",
    "sigma = 3.0 * gaussian_fwhm_to_sigma  # FWHM = 3.\n",
    "\n",
    "# Use kernel (3x3) to find borders of sources\n",
    "kernel = Gaussian2DKernel(sigma, x_size=3, y_size=3)\n",
    "kernel.normalize()\n",
    "\n",
    "# sources = object with label of sources for each pixel in the fits file\n",
    "# Save pair of fits content: source matrix in a RDD.\n",
    "fits_sources = fits_thresh.map(lambda ft: (ft[0], \n",
    "                                           detect_sources(ft[0].data, ft[1], npixels=16, filter_kernel=kernel),\n",
    "                                           )\n",
    "                                     )\n",
    "fits_sources.getNumPartitions()"
   ]
  },
  {
   "cell_type": "markdown",
   "metadata": {},
   "source": [
    "# Combine thresh function in fits_sources (key=fits file, value=source)"
   ]
  },
  {
   "cell_type": "code",
   "execution_count": 24,
   "metadata": {},
   "outputs": [],
   "source": [
    "def create_sub_matrices(hdul, sources):\n",
    "    data = hdul.data\n",
    "    min_max_coords = np.full((sources.max_label, 2, 2), ((np.inf, np.inf), (-np.inf, -np.inf)))\n",
    "    for i in range(np.shape(data)[0]):\n",
    "        for j in range(np.shape(data)[1]):\n",
    "            lab = sources.data[i, j] - 1  # Label of pixel i,j\n",
    "            if lab + 1 != 0:\n",
    "                # Define min max coords\n",
    "                min_coords = min_max_coords[lab][0]\n",
    "                max_coords = min_max_coords[lab][1]\n",
    "                # Check if smallest x coordinate\n",
    "                if i < min_coords[0]:\n",
    "                    min_coords[0] = i\n",
    "                # Check if biggest x coordinate\n",
    "                elif i > max_coords[0]:\n",
    "                    max_coords[0] = i\n",
    "                # Check if smallest y coordinate\n",
    "                if j < min_coords[1]:\n",
    "                    min_coords[1] = j\n",
    "                # Check if biggest y coordinate\n",
    "                elif j > max_coords[1]:\n",
    "                    max_coords[1] = j\n",
    "    \n",
    "    min_max_coords = min_max_coords.astype(int)\n",
    "    source_intensities = []\n",
    "    for i in range(len(min_max_coords)):\n",
    "        # Define min and max coords\n",
    "        min_coords = min_max_coords[i][0]\n",
    "        max_coords = min_max_coords[i][1] + 1\n",
    "        # Mask of labels\n",
    "        mask = sources.data[min_coords[0]:max_coords[0],\n",
    "                            min_coords[1]:max_coords[1]]\n",
    "        # Only take labels of current source and factor it against the intensities\n",
    "        source_intensities.append((mask == i+1) * data[min_coords[0]:max_coords[0],\n",
    "                                                       min_coords[1]:max_coords[1]])\n",
    "    return np.column_stack([\n",
    "        [hdul.header['OBJECT'] + '_' + str(l) for l in range(len(min_max_coords))],\n",
    "        min_max_coords[:, 0, :],\n",
    "        min_max_coords[:, 1, :],\n",
    "        np.array(source_intensities)\n",
    "    ])"
   ]
  },
  {
   "cell_type": "code",
   "execution_count": 25,
   "metadata": {},
   "outputs": [
    {
     "data": {
      "text/plain": [
       "3"
      ]
     },
     "execution_count": 25,
     "metadata": {},
     "output_type": "execute_result"
    }
   ],
   "source": [
    "# RDD with fits file as key and value = list ( list( label, min_x, min_y, max_x, max_y, intensity of source ), ...)\n",
    "sub_matrix = fits_sources.map(lambda fts: (fts[0], list(create_sub_matrices(fts[0], fts[1]))))\n",
    "sub_matrix.getNumPartitions()\n"
   ]
  },
  {
   "cell_type": "code",
   "execution_count": 47,
   "metadata": {},
   "outputs": [],
   "source": [
    "def create_catalogue_submatrix(hdul, label, min_coords, max_coords, mat, deconv):\n",
    "    conv = pi * pow((hdul.header['BMAJ'] * 3600), 2) / (4 * log(2))\n",
    "    w = WCS(hdul.header)\n",
    "    \n",
    "    # matrix filled with index values so first row for x = [0, 1, 2, ...] and y = [0, 0, 0, ..]\n",
    "    # Used to fit gaussian and to calculate norm center of mass\n",
    "    y, x = np.mgrid[:mat.shape[0], :mat.shape[1]]\n",
    "    \n",
    "    # Get num pixels\n",
    "    total_pixels = np.sum(mat > 0)\n",
    "    \n",
    "    # Get sum intensity\n",
    "    sum_mat = np.sum(mat)\n",
    "    integrated_intensity = conv * sum_mat\n",
    "    \n",
    "    # Brightest pixel (account for local submatrix coordinates)\n",
    "    brightest_pixel_x, brightest_pixel_y = np.unravel_index(np.argmax(mat, axis=None), mat.shape)\n",
    "    brightest_pixel = mat[(brightest_pixel_x, brightest_pixel_y)]\n",
    "    brightest_pixel_x += min_coords[0] # Add the min x coord of source\n",
    "    brightest_pixel_y += min_coords[1] # Add the min y coord of source\n",
    "    brightest_pixel_RA, brightest_pixel_DEC = w.all_pix2world(brightest_pixel_x,\n",
    "                                                              brightest_pixel_y, 0, ra_dec_order=True)\n",
    "    \n",
    "    # center of mass = sum(( coords(x, y) * mat(inten) )) / integrated_intensity\n",
    "    center_of_mass_x, center_of_mass_y = np.sum(np.sum(np.array(( (x + min_coords[0]),\n",
    "                                                                  (y + min_coords[1]) )) * mat, axis=1), axis=1) / sum_mat \n",
    "    # center_of_mass_x = np.sum(np.dot((x + min_coords[0]).T, mat)) / integrated_intensity\n",
    "    # center_of_mass_y = np.sum(np.dot((y + min_coords[1]).T, mat)) / integrated_intensity\n",
    "    # center_of_mass_x = np.sum(np.sum((x + min_coords[0]) * mat, axis=1)) / sum_mat\n",
    "    # center_of_mass_y = np.sum(np.sum((y + min_coords[1]) * mat, axis=1)) / sum_mat\n",
    "    \n",
    "    # center_of_mass = np.around(center_of_mass, 0).astype(int)\n",
    "\n",
    "    center_of_mass_RA, center_of_mass_DEC = w.all_pix2world(center_of_mass_x,\n",
    "                                                            center_of_mass_y, 0, ra_dec_order=True)\n",
    "    \n",
    "    # Define parameters of gaussian\n",
    "    x_m = center_of_mass_x - min_coords[0]\n",
    "    y_m = center_of_mass_y - min_coords[1]\n",
    "    x_s = max_coords[0] - min_coords[0]\n",
    "    y_s = max_coords[1] - min_coords[1]\n",
    "    \n",
    "    # Define model\n",
    "    mod = Gaussian2D(\n",
    "        amplitude=brightest_pixel, # Max intensity of source\n",
    "        x_mean=x_m,    # X center of mass\n",
    "        y_mean=y_m,    # Y center of mass\n",
    "        x_stddev=x_s,  # X of submatrix\n",
    "        y_stddev=y_s   # Y of submatrix\n",
    "    )\n",
    "    \n",
    "    # Setting resutrictions for model\n",
    "    mod.x_mean.min=0   # x_mean Min = 0\n",
    "    mod.y_mean.min=0   # y_mean Min = 0\n",
    "    mod.x_mean.max=x_s # x_mean Max = X of submatrix\n",
    "    mod.y_mean.max=y_s # y_mean Max = Y of submatrix\n",
    "\n",
    "    mod.x_stddev.min=0   # x_stdv Min = 0\n",
    "    mod.y_stddev.min=0   # y_stdv Min = 0\n",
    "    mod.x_stddev.max=x_s # x_stdv Max = X of submatrix\n",
    "    mod.y_stddev.max=y_s # y_stdv Max = Y of submatrix\n",
    "    \n",
    "    fitter = LevMarLSQFitter() # Use least square fitter|\n",
    "    \n",
    "    try:\n",
    "        best_fit_gauss = fitter(mod, x, y, mat) # Fit model\n",
    "    except:\n",
    "        return (label, [total_pixels, x_s, y_s,\n",
    "                        integrated_intensity, brightest_pixel, brightest_pixel_x, brightest_pixel_y,\n",
    "                        brightest_pixel_RA, brightest_pixel_DEC, center_of_mass_x, center_of_mass_y,\n",
    "                        center_of_mass_RA, center_of_mass_DEC, 'NaN', 'NaN' 'NaN', 'Nan',\n",
    "                        'NaN', 'NaN', 'NaN', 'NaN', 'NaN', 'NaN', 'NaN']\n",
    "       )\n",
    "    \n",
    "    # best_fit_gauss = fitter(mod, x, y, mat) # Fit model\n",
    "\n",
    "    # Define centers of gaussian fit\n",
    "    center_of_gaus_fit_x = best_fit_gauss.x_mean.value + min_coords[0]\n",
    "    center_of_gaus_fit_y = best_fit_gauss.y_mean.value + min_coords[1]\n",
    "    center_of_gaus_fit_RA, center_of_gaus_fit_DEC = w.all_pix2world(center_of_gaus_fit_x,\n",
    "                                                                    center_of_gaus_fit_y, 0, ra_dec_order=True)\n",
    "    \n",
    "    # Define axis and theta of fit\n",
    "    fit_x_axis = best_fit_gauss.x_stddev.value\n",
    "    fit_y_axis = best_fit_gauss.y_stddev.value\n",
    "    fit_theta  = best_fit_gauss.theta.value\n",
    "    \n",
    "    deconv_x = deconv(fit_x_axis)\n",
    "    deconv_y = deconv(fit_y_axis)\n",
    "    \n",
    "    # Integrated intensity of fit\n",
    "    integrated_intensity_fit = conv * np.sum(best_fit_gauss(x, y))\n",
    "    \n",
    "    # Residual / Source (sum intensities)\n",
    "    ratio_residual = np.sum((mat - best_fit_gauss(x, y)).clip(min=0)) / sum_mat\n",
    "    \n",
    "    return (label, [total_pixels, x_s, y_s,\n",
    "                    integrated_intensity, brightest_pixel, brightest_pixel_x, brightest_pixel_y,\n",
    "                    brightest_pixel_RA, brightest_pixel_DEC, center_of_mass_x, center_of_mass_y,\n",
    "                    center_of_mass_RA, center_of_mass_DEC, center_of_gaus_fit_x, center_of_gaus_fit_y,\n",
    "                    center_of_gaus_fit_RA, center_of_gaus_fit_DEC, fit_x_axis, fit_y_axis, fit_theta,\n",
    "                    deconv_x, deconv_y, integrated_intensity_fit, ratio_residual]\n",
    "           )"
   ]
  },
  {
   "cell_type": "code",
   "execution_count": 48,
   "metadata": {},
   "outputs": [
    {
     "data": {
      "text/plain": [
       "3"
      ]
     },
     "execution_count": 48,
     "metadata": {},
     "output_type": "execute_result"
    }
   ],
   "source": [
    "# RDD with fits file as key and value = list( label, min_x, min_y, max_x, max_y, intensity of source ) for each source\n",
    "deconv = lambda axis: sqrt( (pow( axis * 2 * sqrt(2 * log(2)), 2) - 16).clip(min=0) )\n",
    "catalogue_data = sub_matrix.flatMap(lambda x : map(lambda y: create_catalogue_submatrix(x[0], y[0],\n",
    "                                                                                        (y[1], y[2]),\n",
    "                                                                                        (y[3], y[4]), y[5],\n",
    "                                                                                        deconv),\n",
    "                                                   x[1]\n",
    "                                                  ), preservesPartitioning=False\n",
    "                                   )\n",
    "catalogue_data.repartition(32)\n",
    "catalogue_data.getNumPartitions()"
   ]
  },
  {
   "cell_type": "code",
   "execution_count": 49,
   "metadata": {},
   "outputs": [],
   "source": [
    "# Transform matrix to csv string\n",
    "def toCSVLine(obj, data):\n",
    "    # return obj + [np.array2string(t, precision=10, separator=',', max_line_width=np.inf)[1:-1] for t in data]\n",
    "    return obj + ',' + str(data).replace(' ', '').strip('[]')"
   ]
  },
  {
   "cell_type": "code",
   "execution_count": 50,
   "metadata": {},
   "outputs": [],
   "source": [
    "header = [\"label\", \"total_pixels\", \"x_pixels\", \"y_pixels\",\n",
    "          \"integrated_intensity\", \"brightest_pixel\", \"brightest_pixel_x\", \"brightest_pixel_y\",\n",
    "          \"brightest_pixel_RA\", \"brightest_pixel_DEC\", \"center_of_mass_x\", \"center_of_mass_y\",\n",
    "          \"center_of_mass_RA\", \"center_of_mass_DEC\", \"center_of_gaus_fit_x\", \"center_of_gaus_fit_y\",\n",
    "          \"center_of_gaus_fit_RA\", \"center_of_gaus_fit_DEC\", \"fit_x_axis\", \"fit_y_axis\", \"fit_theta\",\n",
    "          \"deconv_x\", \"deconv_y\", \"integrated_intensity_fit\", \"ratio_residual\"\n",
    "         ]"
   ]
  },
  {
   "cell_type": "code",
   "execution_count": 51,
   "metadata": {},
   "outputs": [
    {
     "name": "stdout",
     "output_type": "stream",
     "text": [
      "16.165100860595704\n"
     ]
    }
   ],
   "source": [
    "# Save the RDDs as one (coaslesce=1) csv \n",
    "if os.path.isdir(out + 'test'):\n",
    "    shutil.rmtree(out + 'test')\n",
    "    \n",
    "    \n",
    "start = time.time()\n",
    "catalogue_data.map(lambda c: (toCSVLine(c[0], c[1]))).coalesce(1, shuffle = True).saveAsTextFile(out + 'test')\n",
    "\n",
    "print((time.time()-start) / 60 )"
   ]
  },
  {
   "cell_type": "markdown",
   "metadata": {},
   "source": [
    "# To be simulated (key=fits, source labels) -> flatmap( Use key.data)"
   ]
  },
  {
   "cell_type": "code",
   "execution_count": null,
   "metadata": {},
   "outputs": [],
   "source": [
    "# RDD with fits file, label of source, min_max_coords of source, intensity of source\n",
    "sub_matrix = fits_sources.flatMap(lambda fts: fts[0], list(create_sub_matrices(fts[0], fts[1])))\n",
    "sub_matrix.getNumPartitions()\n",
    "\n",
    "# 'P004+38_0', 11, 4976, 12, 4979, matrix)"
   ]
  },
  {
   "cell_type": "code",
   "execution_count": null,
   "metadata": {},
   "outputs": [],
   "source": [
    "flatten_sub_matrix = sub_matrix.flatMap(lambda x : map(lambda y: (x[0], list(y)), x[1]) )"
   ]
  },
  {
   "cell_type": "code",
   "execution_count": 18,
   "metadata": {},
   "outputs": [
    {
     "data": {
      "text/plain": [
       "[('a1',\n",
       "  [['label', 'min_x', 'min_y', 'max_x', 'max_y', [[1], [2]]],\n",
       "   ['label', 'min_x', 'min_y', 'max_x', 'max_y', [[3], [4]]]]),\n",
       " ('a2',\n",
       "  [['label', 'min_x', 'min_y', 'max_x', 'max_y', [[1], [2]]],\n",
       "   ['label', 'min_x', 'min_y', 'max_x', 'max_y', [[3], [4]]]])]"
      ]
     },
     "execution_count": 18,
     "metadata": {},
     "output_type": "execute_result"
    }
   ],
   "source": [
    "rdd2 = sc.parallelize([(\"a1\", [['label', 'min_x', 'min_y', 'max_x', 'max_y', [[1], [2]]],\n",
    "                               ['label', 'min_x', 'min_y', 'max_x', 'max_y', [[3], [4]]]]),\n",
    "                       (\"a2\", [['label', 'min_x', 'min_y', 'max_x', 'max_y', [[1], [2]]],\n",
    "                               ['label', 'min_x', 'min_y', 'max_x', 'max_y', [[3], [4]]]])\n",
    "                      ])\n",
    "rdd2.collect()"
   ]
  },
  {
   "cell_type": "code",
   "execution_count": 19,
   "metadata": {},
   "outputs": [
    {
     "data": {
      "text/plain": [
       "[('a1', ['label', 'min_x', 'min_y', 'max_x', 'max_y', [[1], [2]]]),\n",
       " ('a1', ['label', 'min_x', 'min_y', 'max_x', 'max_y', [[3], [4]]]),\n",
       " ('a2', ['label', 'min_x', 'min_y', 'max_x', 'max_y', [[1], [2]]]),\n",
       " ('a2', ['label', 'min_x', 'min_y', 'max_x', 'max_y', [[3], [4]]])]"
      ]
     },
     "execution_count": 19,
     "metadata": {},
     "output_type": "execute_result"
    }
   ],
   "source": [
    "rdd3 = rdd2.flatMap(lambda x : map(lambda y: (x[0], list(y)), x[1]) )\n",
    "rdd3.collect()"
   ]
  },
  {
   "cell_type": "code",
   "execution_count": 61,
   "metadata": {},
   "outputs": [],
   "source": [
    "def test(hdul, label, min_coords, max_coords, mat):\n",
    "    return (label, np.array((1, 2, 3)))"
   ]
  },
  {
   "cell_type": "code",
   "execution_count": 62,
   "metadata": {},
   "outputs": [
    {
     "data": {
      "text/plain": [
       "[('label', array([1, 2, 3])),\n",
       " ('label', array([1, 2, 3])),\n",
       " ('label', array([1, 2, 3])),\n",
       " ('label', array([1, 2, 3]))]"
      ]
     },
     "execution_count": 62,
     "metadata": {},
     "output_type": "execute_result"
    }
   ],
   "source": [
    "rdd4 = rdd3.map(lambda t: test(t[0], t[1][0], (t[1][1], t[1][2]), (t[1][3], t[1][4]), t[1][5]) )\n",
    "rdd4.collect()"
   ]
  },
  {
   "cell_type": "code",
   "execution_count": 65,
   "metadata": {},
   "outputs": [
    {
     "data": {
      "text/plain": [
       "[('label', array([1, 2, 3])),\n",
       " ('label', array([1, 2, 3])),\n",
       " ('label', array([1, 2, 3])),\n",
       " ('label', array([1, 2, 3]))]"
      ]
     },
     "execution_count": 65,
     "metadata": {},
     "output_type": "execute_result"
    }
   ],
   "source": [
    "rdd4.map(lambda l: (l[0], l[1] )).collect()"
   ]
  },
  {
   "cell_type": "code",
   "execution_count": 114,
   "metadata": {},
   "outputs": [
    {
     "data": {
      "text/plain": [
       "[('a1_1', [3, 4]),\n",
       " ('a1_1', [5, 6]),\n",
       " ('a1_1', [7, 8]),\n",
       " ('a1_2', [3, 4]),\n",
       " ('a1_2', [5, 6]),\n",
       " ('a1_2', [7, 8]),\n",
       " ('a2_1', [3, 4]),\n",
       " ('a2_1', [5, 6]),\n",
       " ('a2_1', [7, 8]),\n",
       " ('a2_2', [3, 4]),\n",
       " ('a2_2', [5, 6]),\n",
       " ('a2_2', [7, 8])]"
      ]
     },
     "execution_count": 114,
     "metadata": {},
     "output_type": "execute_result"
    }
   ],
   "source": [
    "rdd3.flatMap(lambda x : map(lambda y: (x[0], y), x[1]) ).collect()"
   ]
  },
  {
   "cell_type": "code",
   "execution_count": 14,
   "metadata": {},
   "outputs": [
    {
     "data": {
      "text/plain": [
       "[('a1', ['b1', 'c1', 'd1', 'e1']), ('a2', ['b2', 'c2', 'd2', 'e2'])]"
      ]
     },
     "execution_count": 14,
     "metadata": {},
     "output_type": "execute_result"
    }
   ],
   "source": [
    "rdd = sc.parallelize([(\"a1\",\"b1\",\"c1\",\"d1\",\"e1\"), (\"a2\",\"b2\",\"c2\",\"d2\",\"e2\")])\n",
    "\n",
    "result = rdd.map(lambda x: (x[0], list(x[1:])))\n",
    "\n",
    "result.collect()"
   ]
  },
  {
   "cell_type": "code",
   "execution_count": 21,
   "metadata": {},
   "outputs": [
    {
     "data": {
      "text/plain": [
       "['a1', 'a2']"
      ]
     },
     "execution_count": 21,
     "metadata": {},
     "output_type": "execute_result"
    }
   ],
   "source": [
    "result.map(lambda y: y[0]).collect()"
   ]
  },
  {
   "cell_type": "code",
   "execution_count": 29,
   "metadata": {},
   "outputs": [
    {
     "data": {
      "text/plain": [
       "['a1', ['b1', 'c1', 'd1', 'e1'], 'a2', ['b2', 'c2', 'd2', 'e2']]"
      ]
     },
     "execution_count": 29,
     "metadata": {},
     "output_type": "execute_result"
    }
   ],
   "source": [
    "result.flatMap(lambda y: (y[0], y[1])).collect()"
   ]
  },
  {
   "cell_type": "code",
   "execution_count": 36,
   "metadata": {},
   "outputs": [
    {
     "data": {
      "text/plain": [
       "['a1', ['b1', 'c1', 'd1', 'e1'], 'a2', ['b2', 'c2', 'd2', 'e2']]"
      ]
     },
     "execution_count": 36,
     "metadata": {},
     "output_type": "execute_result"
    }
   ],
   "source": [
    "result.flatMap(lambda y: (y[0], y[1])).collect()"
   ]
  },
  {
   "cell_type": "code",
   "execution_count": null,
   "metadata": {},
   "outputs": [],
   "source": []
  }
 ],
 "metadata": {
  "kernelspec": {
   "display_name": "Python 3",
   "language": "python",
   "name": "python3"
  },
  "language_info": {
   "codemirror_mode": {
    "name": "ipython",
    "version": 3
   },
   "file_extension": ".py",
   "mimetype": "text/x-python",
   "name": "python",
   "nbconvert_exporter": "python",
   "pygments_lexer": "ipython3",
   "version": "3.6.10"
  }
 },
 "nbformat": 4,
 "nbformat_minor": 4
}
