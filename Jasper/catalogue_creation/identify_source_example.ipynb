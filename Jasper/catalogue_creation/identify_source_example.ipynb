{
 "cells": [
  {
   "cell_type": "code",
   "execution_count": 134,
   "metadata": {},
   "outputs": [],
   "source": [
    "import photutils\n",
    "import os\n",
    "import sys\n",
    "import numpy as np\n",
    "\n",
    "import astropy\n",
    "from astropy.visualization import SqrtStretch, LogStretch\n",
    "from photutils import detect_threshold\n",
    "from astropy.io import fits\n",
    "from astropy.wcs import WCS\n",
    "from astropy.modeling.fitting import LevMarLSQFitter\n",
    "from astropy.modeling.functional_models import Gaussian2D\n",
    "\n",
    "from pyspark.sql.types import Row\n",
    "from pyspark import SparkContext\n",
    "from pyspark.sql import SparkSession\n",
    "\n",
    "from astropy.visualization.mpl_normalize import ImageNormalize\n",
    "from astropy.convolution import Gaussian2DKernel\n",
    "from astropy.stats import gaussian_fwhm_to_sigma\n",
    "from photutils import detect_sources\n",
    "import time\n",
    "import matplotlib.pyplot as plt\n",
    "\n",
    "import shutil\n",
    "from math import pi, log, sqrt\n",
    "\n",
    "import warnings\n",
    "warnings.filterwarnings(\"ignore\")"
   ]
  },
  {
   "cell_type": "code",
   "execution_count": 135,
   "metadata": {},
   "outputs": [],
   "source": [
    "# Define data paths\n",
    "DR2_path = \"/data/astronomy-big-data/bc96e9620e41b9aba98292d37b5eec24/LoTSS_DR2/\"\n",
    "mosaic_path = \"/data/astronomy-big-data/bc96e9620e41b9aba98292d37b5eec24/LoTSS_DR2_mosaic/\""
   ]
  },
  {
   "cell_type": "code",
   "execution_count": 136,
   "metadata": {},
   "outputs": [
    {
     "name": "stdout",
     "output_type": "stream",
     "text": [
      "{'_header_str': None, '_file': <astropy.io.fits.file._File <_io.FileIO name='/data/astronomy-big-data/bc96e9620e41b9aba98292d37b5eec24/LoTSS_DR2_mosaic/P004+38_mosaic-blanked.fits' mode='rb' closefd=True>>, '_buffer': None, '_header_offset': 0, '_data_offset': 2880, '_data_size': 735744960, '_data_replaced': False, '_data_needs_rescale': False, '_new': False, '_output_checksum': False, '_checksum': None, '_checksum_valid': None, '_datasum': None, '_datasum_valid': None, '_do_not_scale_image_data': False, '_uint': True, '_scale_back': None, '_bzero': 0, '_bscale': 1, '_axes': [9590, 9590], '_bitpix': -64, '_gcount': 1, '_pcount': 0, '_blank': None, '_orig_bitpix': -64, '_orig_blank': None, '_orig_bzero': 0, '_orig_bscale': 1, '_modified': False, '_header': SIMPLE  =                    T / conforms to FITS standard                      \n",
      "BITPIX  =                  -64 / array data type                                \n",
      "NAXIS   =                    2 / number of array dimensions                     \n",
      "NAXIS1  =                 9590                                                  \n",
      "NAXIS2  =                 9590                                                  \n",
      "WCSAXES =                    2                                                  \n",
      "CTYPE1  = 'RA---SIN'                                                            \n",
      "CTYPE2  = 'DEC--SIN'                                                            \n",
      "CUNIT1  = 'deg     '                                                            \n",
      "CUNIT2  = 'deg     '                                                            \n",
      "CRPIX1  =                 4795                                                  \n",
      "CRPIX2  =                 4795                                                  \n",
      "CRVAL1  =              4.25415                                                  \n",
      "CRVAL2  =               38.492                                                  \n",
      "CDELT1  = -0.00041666666666666                                                  \n",
      "CDELT2  = 0.000416666666666666                                                  \n",
      "RADESYS = 'ICRS    '                                                            \n",
      "EQUINOX =               2000.0                                                  \n",
      "LONPOLE =                180.0                                                  \n",
      "LATPOLE =               38.492                                                  \n",
      "BMAJ    = 0.001666666666666667                                                  \n",
      "BMIN    = 0.001666666666666667                                                  \n",
      "BPA     =                   90                                                  \n",
      "TELESCOP= 'LOFAR   '                                                            \n",
      "RESTFRQ =          143650000.0                                                  \n",
      "OBSERVER= 'LoTSS   '                                                            \n",
      "BUNIT   = 'JY/BEAM '                                                            \n",
      "BTYPE   = 'Intensity'                                                           \n",
      "OBJECT  = 'P004+38 '                                                            \n",
      "ORIGIN  = 'ddf-pipeline v2.2-102-gd26fb13'                                      , 'data': array([[nan, nan, nan, ..., nan, nan, nan],\n",
      "       [nan, nan, nan, ..., nan, nan, nan],\n",
      "       [nan, nan, nan, ..., nan, nan, nan],\n",
      "       ...,\n",
      "       [nan, nan, nan, ..., nan, nan, nan],\n",
      "       [nan, nan, nan, ..., nan, nan, nan],\n",
      "       [nan, nan, nan, ..., nan, nan, nan]])}\n"
     ]
    }
   ],
   "source": [
    "# Take a look at the data in a .fits file\n",
    "hdul = fits.open(mosaic_path + \"P004+38_mosaic-blanked.fits\")\n",
    "data = hdul[0].data # The intensity data\n",
    "print(hdul[0].__dict__)"
   ]
  },
  {
   "cell_type": "code",
   "execution_count": 137,
   "metadata": {},
   "outputs": [
    {
     "name": "stdout",
     "output_type": "stream",
     "text": [
      "P004+38\n",
      "P004+38\n"
     ]
    }
   ],
   "source": [
    "print(hdul[0]._header['OBJECT'])\n",
    "print(hdul[0].header['OBJECT'])"
   ]
  },
  {
   "cell_type": "code",
   "execution_count": 140,
   "metadata": {},
   "outputs": [
    {
     "name": "stdout",
     "output_type": "stream",
     "text": [
      "6.72375366193755 36.48412544031272\n"
     ]
    }
   ],
   "source": [
    "# Import the .fits file header in the WCS class and create WCS based on the pixels\n",
    "w = WCS(hdul[0].header)\n",
    "ra, dec = w.all_pix2world(30, 40, 0, ra_dec_order=True)\n",
    "print(ra, dec)"
   ]
  },
  {
   "cell_type": "code",
   "execution_count": 141,
   "metadata": {},
   "outputs": [],
   "source": [
    "# Define noise threshold\n",
    "threshold = detect_threshold(data, nsigma=3.)"
   ]
  },
  {
   "cell_type": "code",
   "execution_count": null,
   "metadata": {},
   "outputs": [],
   "source": [
    "print(threshold)"
   ]
  },
  {
   "cell_type": "code",
   "execution_count": null,
   "metadata": {},
   "outputs": [],
   "source": [
    "# Sigma?\n",
    "sigma = 3.0 * gaussian_fwhm_to_sigma  # FWHM = 3.\n",
    "# Use kernel (3x3) to find borders of sources\n",
    "kernel = Gaussian2DKernel(sigma, x_size=3, y_size=3)\n",
    "kernel.normalize()\n",
    "# sources = object with label of sources for each pixel in the fits file\n",
    "sources = detect_sources(data, threshold, npixels=5, filter_kernel=kernel)"
   ]
  },
  {
   "cell_type": "code",
   "execution_count": null,
   "metadata": {},
   "outputs": [],
   "source": [
    "# Create nice figure\n",
    "norm = ImageNormalize(stretch=LogStretch())\n",
    "fig, (ax1, ax2) = plt.subplots(2, 1, figsize=(10, 12.5))\n",
    "ax1.imshow(data, origin='lower', cmap='Greys_r', norm=norm)\n",
    "ax1.set_title('Data')\n",
    "cmap = sources.make_cmap(random_state=12345)\n",
    "ax2.imshow(sources, origin='lower', cmap=cmap)\n",
    "ax2.set_title('Segmentation Image')"
   ]
  },
  {
   "cell_type": "code",
   "execution_count": null,
   "metadata": {},
   "outputs": [],
   "source": [
    "print(hdul[0]._header['NAXIS1'])\n",
    "print(hdul[0]._header['NAXIS2'])\n",
    "x = hdul[0]._header['NAXIS1']\n",
    "y = hdul[0]._header['NAXIS2']\n",
    "\n",
    "plt.figure(figsize=(x/1000, y/1000), dpi=100)\n",
    "plt.imshow(data, origin='lower', cmap='Greys_r', norm=norm)\n",
    "plt.savefig('test_mosaic.png', dpi=1000)"
   ]
  },
  {
   "cell_type": "code",
   "execution_count": null,
   "metadata": {},
   "outputs": [],
   "source": [
    "# Content of the labelled sources\n",
    "sources.__dict__"
   ]
  },
  {
   "cell_type": "code",
   "execution_count": null,
   "metadata": {},
   "outputs": [],
   "source": [
    "def create_sub_matrices(hdul, sources, s=10):\n",
    "    # data = hdul.data[:s*10]\n",
    "    data = hdul.data\n",
    "    min_max_coords = np.full((sources.max_label, 2, 2), ((np.inf, np.inf), (-np.inf, -np.inf)))\n",
    "    for i in range(np.shape(data)[0]):\n",
    "        for j in range(np.shape(data)[1]):\n",
    "            lab = sources.data[i, j] - 1  # Label of pixel i,j\n",
    "            if lab + 1 != 0:\n",
    "                # Define min max coords\n",
    "                min_coords = min_max_coords[lab][0]\n",
    "                max_coords = min_max_coords[lab][1]\n",
    "                # Check if smallest x coordinate\n",
    "                if i < min_coords[0]:\n",
    "                    min_coords[0] = i\n",
    "                # Check if biggest x coordinate\n",
    "                elif i > max_coords[0]:\n",
    "                    max_coords[0] = i\n",
    "                # Check if smallest y coordinate\n",
    "                if j < min_coords[1]:\n",
    "                    min_coords[1] = j\n",
    "                # Check if biggest y coordinate\n",
    "                elif j > max_coords[1]:\n",
    "                    max_coords[1] = j\n",
    "    \n",
    "    min_max_coords = min_max_coords.astype(int)\n",
    "    source_intensities = []\n",
    "    for i in range(len(min_max_coords)):\n",
    "        # Define min and max coords\n",
    "        min_coords = min_max_coords[i][0]\n",
    "        max_coords = min_max_coords[i][1] + 1\n",
    "        # Mask of labels\n",
    "        mask = sources.data[min_coords[0]:max_coords[0],\n",
    "                            min_coords[1]:max_coords[1]]\n",
    "        # Only take labels of current source and factor it against the intensities\n",
    "        source_intensities.append((mask == i+1) * data[min_coords[0]:max_coords[0],\n",
    "                                                       min_coords[1]:max_coords[1]])\n",
    "    return min_max_coords, np.array(source_intensities)"
   ]
  },
  {
   "cell_type": "code",
   "execution_count": null,
   "metadata": {},
   "outputs": [],
   "source": [
    "start = time.time()\n",
    "min_max_coords, source_intensities = create_sub_matrices(hdul[0], sources)\n",
    "print(time.time()-start)"
   ]
  },
  {
   "cell_type": "code",
   "execution_count": null,
   "metadata": {},
   "outputs": [],
   "source": [
    "def create_catalogue_submatrix(coords, mat, conv, w, deconv, plot=True):\n",
    "    \n",
    "    # Define min and max coords\n",
    "    min_coords = coords[0]\n",
    "    max_coords = coords[1]\n",
    "    \n",
    "    # matrix filled with index values so first row for x = [0, 1, 2, ...] and y = [0, 0, 0, ..]\n",
    "    # Used to fit gaussian and to calculate norm center of mass\n",
    "    y, x = np.mgrid[:mat.shape[0], :mat.shape[1]]\n",
    "    \n",
    "    # Get num pixels\n",
    "    total_pixels = np.sum(mat > 0)\n",
    "    \n",
    "    # Get sum intensity\n",
    "    sum_mat = np.sum(mat)\n",
    "    integrated_intensity = conv * sum_mat\n",
    "    \n",
    "    # Brightest pixel (account for local submatrix coordinates)\n",
    "    brightest_pixel_x, brightest_pixel_y = np.unravel_index(np.argmax(mat, axis=None), mat.shape)\n",
    "    brightest_pixel = mat[(brightest_pixel_x, brightest_pixel_y)]\n",
    "    brightest_pixel_x += min_coords[0] # Add the min x coord of source\n",
    "    brightest_pixel_y += min_coords[1] # Add the min y coord of source\n",
    "    brightest_pixel_RA, brightest_pixel_DEC = w.all_pix2world(brightest_pixel_x,\n",
    "                                                              brightest_pixel_y, 0, ra_dec_order=True)\n",
    "    \n",
    "    # center of mass = sum(( coords(x, y) * mat(inten) )) / integrated_intensity\n",
    "    center_of_mass_x, center_of_mass_y = np.sum(np.sum(np.array(( (x + min_coords[0]),\n",
    "                                                                  (y + min_coords[1]) )) * mat, axis=1), axis=1) / sum_mat \n",
    "    # center_of_mass_x = np.sum(np.dot((x + min_coords[0]).T, mat)) / integrated_intensity\n",
    "    # center_of_mass_y = np.sum(np.dot((y + min_coords[1]).T, mat)) / integrated_intensity\n",
    "    # center_of_mass_x = np.sum(np.sum((x + min_coords[0]) * mat, axis=1)) / sum_mat\n",
    "    # center_of_mass_y = np.sum(np.sum((y + min_coords[1]) * mat, axis=1)) / sum_mat\n",
    "    \n",
    "    # center_of_mass = np.around(center_of_mass, 0).astype(int)\n",
    "\n",
    "    center_of_mass_RA, center_of_mass_DEC = w.all_pix2world(center_of_mass_x,\n",
    "                                                            center_of_mass_y, 0, ra_dec_order=True)\n",
    "    \n",
    "    # Define parameters of gaussian\n",
    "    x_m = center_of_mass_x - min_coords[0]\n",
    "    y_m = center_of_mass_y - min_coords[1]\n",
    "    x_s = max_coords[0] - min_coords[0]\n",
    "    y_s = max_coords[1] - min_coords[1]\n",
    "    \n",
    "    # Define model\n",
    "    mod = astropy.modeling.functional_models.Gaussian2D(\n",
    "        amplitude=brightest_pixel, # Max intensity of source\n",
    "        x_mean=x_m,    # X center of mass\n",
    "        y_mean=y_m,    # Y center of mass\n",
    "        x_stddev=x_s,  # X of submatrix\n",
    "        y_stddev=y_s   # Y of submatrix\n",
    "    )\n",
    "    \n",
    "    # Setting resutrictions for model\n",
    "    mod.x_mean.min=0   # x_mean Min = 0\n",
    "    mod.y_mean.min=0   # y_mean Min = 0\n",
    "    mod.x_mean.max=x_s # x_mean Max = X of submatrix\n",
    "    mod.y_mean.max=y_s # y_mean Max = Y of submatrix\n",
    "\n",
    "    mod.x_stddev.min=0   # x_stdv Min = 0\n",
    "    mod.y_stddev.min=0   # y_stdv Min = 0\n",
    "    mod.x_stddev.max=x_s # x_stdv Max = X of submatrix\n",
    "    mod.y_stddev.max=y_s # y_stdv Max = Y of submatrix\n",
    "    \n",
    "    fitter = astropy.modeling.fitting.LevMarLSQFitter() # Use least square fitter\n",
    "    \n",
    "    best_fit_gauss = fitter(mod, x, y, mat) # Fit model\n",
    "\n",
    "    # Define centers of gaussian fit\n",
    "    center_of_gaus_fit_x = best_fit_gauss.x_mean.value + min_coords[0]\n",
    "    center_of_gaus_fit_y = best_fit_gauss.y_mean.value + min_coords[1]\n",
    "    center_of_gaus_fit_RA, center_of_gaus_fit_DEC = w.all_pix2world(center_of_gaus_fit_x,\n",
    "                                                                    center_of_gaus_fit_y, 0, ra_dec_order=True)\n",
    "    \n",
    "    # Define axis and theta of fit\n",
    "    fit_x_axis = best_fit_gauss.x_stddev.value\n",
    "    fit_y_axis = best_fit_gauss.y_stddev.value\n",
    "    fit_theta  = best_fit_gauss.theta.value\n",
    "            \n",
    "    deconv_x = deconv(fit_x_axis)\n",
    "    deconv_y = deconv(fit_y_axis)\n",
    "    \n",
    "    print('x axis:', x_s)\n",
    "    print('y axis:', y_s)\n",
    "    print('fit x axis:', fit_x_axis)\n",
    "    print('fit y axis:', fit_y_axis)\n",
    "    print('angle:', fit_theta)\n",
    "    print('deconv x:', deconv_x)\n",
    "    print('deconv y:', deconv_y)\n",
    "    \n",
    "    # Integrated intensity of fit\n",
    "    integrated_intensity_fit = conv * np.sum(best_fit_gauss(x, y))\n",
    "    \n",
    "    # Residual / Source (sum intensities)\n",
    "    ratio_residual = np.sum((mat - best_fit_gauss(x, y)).clip(min=0)) / sum_mat\n",
    "    \n",
    "    if plot == True:\n",
    "        # Plot the data with the best-fit model\n",
    "        plt.figure(figsize=(8, 2.5))\n",
    "        plt.subplot(1, 4, 1)\n",
    "        plt.imshow(mat, origin='lower', interpolation='nearest')\n",
    "        plt.title(\"Data\")\n",
    "        plt.subplot(1, 4, 2)\n",
    "        plt.imshow(mod(x, y), origin='lower', interpolation='nearest')\n",
    "        plt.title(\"Model\")\n",
    "        plt.subplot(1, 4, 3)\n",
    "        plt.imshow(best_fit_gauss(x, y), origin='lower', interpolation='nearest')\n",
    "        plt.title(\"Fit\")\n",
    "        plt.subplot(1, 4, 4)\n",
    "        plt.imshow((mat - best_fit_gauss(x, y)).clip(min=0), origin='lower', interpolation='nearest')\n",
    "        plt.title(\"Residual\")\n",
    "    \n",
    "    return np.array((integrated_intensity, brightest_pixel, brightest_pixel_x, brightest_pixel_y,\n",
    "                     brightest_pixel_RA, brightest_pixel_DEC, center_of_mass_x, center_of_mass_y,\n",
    "                     center_of_mass_RA, center_of_mass_DEC, center_of_gaus_fit_x, center_of_gaus_fit_y,\n",
    "                     center_of_gaus_fit_RA, center_of_gaus_fit_DEC, fit_x_axis, fit_y_axis, fit_theta,\n",
    "                     integrated_intensity_fit, ratio_residual))"
   ]
  },
  {
   "cell_type": "code",
   "execution_count": 178,
   "metadata": {},
   "outputs": [],
   "source": [
    "index = 200\n",
    "diameter_beam = hdul[0].header['BMAJ'] * 3600\n",
    "conversion = pi * pow(diameter_beam, 2) / (4 * log(2))\n",
    "deconv = lambda axis: sqrt( (pow( axis * 2 * sqrt(2 * log(2)), 2) - 16).clip(min=0) )"
   ]
  },
  {
   "cell_type": "code",
   "execution_count": 179,
   "metadata": {},
   "outputs": [
    {
     "name": "stdout",
     "output_type": "stream",
     "text": [
      "x axis: 4\n",
      "y axis: 7\n",
      "fit x axis: 1.0788118903526427\n",
      "fit y axis: 4.862080230522729\n",
      "angle: 1.0305444680341551\n",
      "deconv x: 0.0\n",
      "deconv y: 10.727861845124496\n",
      "0.176971435546875\n"
     ]
    },
    {
     "data": {
      "image/png": "[encoded data removed]",
      "text/plain": [
       "<Figure size 576x180 with 4 Axes>"
      ]
     },
     "metadata": {
      "needs_background": "light"
     },
     "output_type": "display_data"
    }
   ],
   "source": [
    "start = time.time()\n",
    "sub_mat = create_catalogue_submatrix(min_max_coords[index], source_intensities[index], conversion, w, deconv)\n",
    "print(time.time()-start)"
   ]
  },
  {
   "cell_type": "code",
   "execution_count": 68,
   "metadata": {},
   "outputs": [
    {
     "data": {
      "text/plain": [
       "0.05112104106225453"
      ]
     },
     "execution_count": 68,
     "metadata": {},
     "output_type": "execute_result"
    }
   ],
   "source": [
    "sub_mat[-1]"
   ]
  },
  {
   "cell_type": "code",
   "execution_count": 26,
   "metadata": {
    "scrolled": true
   },
   "outputs": [
    {
     "ename": "NameError",
     "evalue": "name 'min_max_coords' is not defined",
     "output_type": "error",
     "traceback": [
      "\u001b[0;31m---------------------------------------------------------------------------\u001b[0m",
      "\u001b[0;31mNameError\u001b[0m                                 Traceback (most recent call last)",
      "\u001b[0;32m<ipython-input-26-0ee08a278a19>\u001b[0m in \u001b[0;36m<module>\u001b[0;34m\u001b[0m\n\u001b[1;32m      5\u001b[0m \u001b[0mstart\u001b[0m \u001b[0;34m=\u001b[0m \u001b[0mtime\u001b[0m\u001b[0;34m.\u001b[0m\u001b[0mtime\u001b[0m\u001b[0;34m(\u001b[0m\u001b[0;34m)\u001b[0m\u001b[0;34m\u001b[0m\u001b[0;34m\u001b[0m\u001b[0m\n\u001b[1;32m      6\u001b[0m \u001b[0;32mfor\u001b[0m \u001b[0mi\u001b[0m \u001b[0;32min\u001b[0m \u001b[0mrange\u001b[0m\u001b[0;34m(\u001b[0m\u001b[0msources\u001b[0m\u001b[0;34m.\u001b[0m\u001b[0mmax_label\u001b[0m\u001b[0;34m)\u001b[0m\u001b[0;34m:\u001b[0m\u001b[0;34m\u001b[0m\u001b[0;34m\u001b[0m\u001b[0m\n\u001b[0;32m----> 7\u001b[0;31m     \u001b[0mstats_mat\u001b[0m \u001b[0;34m=\u001b[0m \u001b[0mcreate_catalogue_submatrix\u001b[0m\u001b[0;34m(\u001b[0m\u001b[0mmin_max_coords\u001b[0m\u001b[0;34m[\u001b[0m\u001b[0mindex\u001b[0m\u001b[0;34m]\u001b[0m\u001b[0;34m,\u001b[0m \u001b[0msource_intensities\u001b[0m\u001b[0;34m[\u001b[0m\u001b[0mindex\u001b[0m\u001b[0;34m]\u001b[0m\u001b[0;34m,\u001b[0m \u001b[0mconversion\u001b[0m\u001b[0;34m,\u001b[0m \u001b[0mw\u001b[0m\u001b[0;34m)\u001b[0m\u001b[0;34m\u001b[0m\u001b[0;34m\u001b[0m\u001b[0m\n\u001b[0m\u001b[1;32m      8\u001b[0m \u001b[0mprint\u001b[0m\u001b[0;34m(\u001b[0m\u001b[0mtime\u001b[0m\u001b[0;34m.\u001b[0m\u001b[0mtime\u001b[0m\u001b[0;34m(\u001b[0m\u001b[0;34m)\u001b[0m\u001b[0;34m-\u001b[0m\u001b[0mstart\u001b[0m\u001b[0;34m)\u001b[0m\u001b[0;34m\u001b[0m\u001b[0;34m\u001b[0m\u001b[0m\n\u001b[1;32m      9\u001b[0m \u001b[0mstats_mat\u001b[0m\u001b[0;34m\u001b[0m\u001b[0;34m\u001b[0m\u001b[0m\n",
      "\u001b[0;31mNameError\u001b[0m: name 'min_max_coords' is not defined"
     ]
    }
   ],
   "source": [
    "start = time.time()\n",
    "for i in range(sources.max_label):\n",
    "    stats_mat = create_catalogue_submatrix(min_max_coords[index], source_intensities[index], conversion, w)\n",
    "print(time.time()-start)\n",
    "stats_mat"
   ]
  },
  {
   "cell_type": "code",
   "execution_count": 310,
   "metadata": {},
   "outputs": [
    {
     "ename": "KeyboardInterrupt",
     "evalue": "",
     "output_type": "error",
     "traceback": [
      "\u001b[0;31m---------------------------------------------------------------------------\u001b[0m",
      "\u001b[0;31mKeyboardInterrupt\u001b[0m                         Traceback (most recent call last)",
      "\u001b[0;32m<ipython-input-310-12a86c2ac876>\u001b[0m in \u001b[0;36m<module>\u001b[0;34m\u001b[0m\n\u001b[1;32m     46\u001b[0m     ])\n\u001b[1;32m     47\u001b[0m \u001b[0;34m\u001b[0m\u001b[0m\n\u001b[0;32m---> 48\u001b[0;31m \u001b[0mcat_matrix\u001b[0m \u001b[0;34m=\u001b[0m \u001b[0mcreate_catalogue_data\u001b[0m\u001b[0;34m(\u001b[0m\u001b[0mhdul\u001b[0m\u001b[0;34m[\u001b[0m\u001b[0;36m0\u001b[0m\u001b[0;34m]\u001b[0m\u001b[0;34m,\u001b[0m \u001b[0msources\u001b[0m\u001b[0;34m)\u001b[0m\u001b[0;34m\u001b[0m\u001b[0;34m\u001b[0m\u001b[0m\n\u001b[0m",
      "\u001b[0;32m<ipython-input-310-12a86c2ac876>\u001b[0m in \u001b[0;36mcreate_catalogue_data\u001b[0;34m(hdul, sources)\u001b[0m\n\u001b[1;32m     18\u001b[0m             \u001b[0mlab\u001b[0m \u001b[0;34m=\u001b[0m \u001b[0msources\u001b[0m\u001b[0;34m.\u001b[0m\u001b[0mdata\u001b[0m\u001b[0;34m[\u001b[0m\u001b[0mi\u001b[0m\u001b[0;34m,\u001b[0m \u001b[0mj\u001b[0m\u001b[0;34m]\u001b[0m \u001b[0;34m-\u001b[0m \u001b[0;36m1\u001b[0m  \u001b[0;31m# Label of pixel i,j\u001b[0m\u001b[0;34m\u001b[0m\u001b[0;34m\u001b[0m\u001b[0m\n\u001b[1;32m     19\u001b[0m             \u001b[0mval\u001b[0m \u001b[0;34m=\u001b[0m \u001b[0mdata\u001b[0m\u001b[0;34m[\u001b[0m\u001b[0mi\u001b[0m\u001b[0;34m,\u001b[0m \u001b[0mj\u001b[0m\u001b[0;34m]\u001b[0m  \u001b[0;31m# Intensity value of pixel i,j\u001b[0m\u001b[0;34m\u001b[0m\u001b[0;34m\u001b[0m\u001b[0m\n\u001b[0;32m---> 20\u001b[0;31m             \u001b[0;32mif\u001b[0m \u001b[0mlab\u001b[0m \u001b[0;34m+\u001b[0m \u001b[0;36m1\u001b[0m \u001b[0;34m!=\u001b[0m \u001b[0;36m0\u001b[0m\u001b[0;34m:\u001b[0m\u001b[0;34m\u001b[0m\u001b[0;34m\u001b[0m\u001b[0m\n\u001b[0m\u001b[1;32m     21\u001b[0m                 \u001b[0mintegrated_intensity\u001b[0m\u001b[0;34m[\u001b[0m\u001b[0mlab\u001b[0m\u001b[0;34m]\u001b[0m \u001b[0;34m+=\u001b[0m \u001b[0mval\u001b[0m  \u001b[0;31m# Sum for each label the intensity of each pixel\u001b[0m\u001b[0;34m\u001b[0m\u001b[0;34m\u001b[0m\u001b[0m\n\u001b[1;32m     22\u001b[0m                 \u001b[0mcenter_of_mass\u001b[0m\u001b[0;34m[\u001b[0m\u001b[0mlab\u001b[0m\u001b[0;34m,\u001b[0m \u001b[0;34m:\u001b[0m\u001b[0;34m]\u001b[0m \u001b[0;34m+=\u001b[0m \u001b[0mval\u001b[0m \u001b[0;34m*\u001b[0m \u001b[0mnp\u001b[0m\u001b[0;34m.\u001b[0m\u001b[0marray\u001b[0m\u001b[0;34m(\u001b[0m\u001b[0;34m[\u001b[0m\u001b[0mi\u001b[0m\u001b[0;34m,\u001b[0m \u001b[0mj\u001b[0m\u001b[0;34m]\u001b[0m\u001b[0;34m)\u001b[0m  \u001b[0;31m# Sum the intensity times pixel position (i, j)\u001b[0m\u001b[0;34m\u001b[0m\u001b[0;34m\u001b[0m\u001b[0m\n",
      "\u001b[0;31mKeyboardInterrupt\u001b[0m: "
     ]
    }
   ],
   "source": [
    "# The function to create the catalogue\n",
    "def create_catalogue_data(hdul, sources):\n",
    "    # Major beam axis in arc seconds\n",
    "    header = fits.getheader(mosaic_path + \"P004+38_mosaic-blanked.fits\")\n",
    "    diameter_beam = header['BMAJ'] * 3600\n",
    "    conversion = pi * pow(diameter_beam, 2) / (4 * log(2))\n",
    "\n",
    "    data = hdul.data\n",
    "    w = WCS(hdul.header)\n",
    "    v_pixel_to_wcs = np.vectorize(lambda a, b: w.all_pix2world(a, b, 0, ra_dec_order=True))\n",
    "    \n",
    "    integrated_intensity = np.zeros(sources.max_label)\n",
    "    center_of_mass = np.zeros((sources.max_label, 2))\n",
    "    brightest_pixel = np.zeros((sources.max_label, 5))\n",
    "    \n",
    "    for i in range(np.shape(data)[0]):\n",
    "        for j in range(np.shape(data)[1]):\n",
    "            lab = sources.data[i, j] - 1  # Label of pixel i,j\n",
    "            val = data[i, j]  # Intensity value of pixel i,j\n",
    "            if lab + 1 != 0:\n",
    "                integrated_intensity[lab] += val  # Sum for each label the intensity of each pixel\n",
    "                center_of_mass[lab, :] += val * np.array([i, j])  # Sum the intensity times pixel position (i, j)\n",
    "                if val > brightest_pixel[lab][0]:\n",
    "                    # Keep the highest value per source\n",
    "                    ra, dec = w.all_pix2world(i, j, 0, ra_dec_order=True)\n",
    "                    brightest_pixel[lab] = np.array([val, i, j, ra, dec])\n",
    "    \n",
    "    # (pi * (Diameter_Beam)^2 / 4 * ln(2)) / (Pixel_Size)^2\n",
    "    conv_integrated_intensity = conversion * integrated_intensity\n",
    "    norm_center_of_mass = center_of_mass / np.array([conv_integrated_intensity, conv_integrated_intensity]).T\n",
    "    norm_center_of_mass = norm_center_of_mass.astype(int)\n",
    "    wc_norm_center_of_mass = np.array(v_pixel_to_wcs(norm_center_of_mass[:,0], norm_center_of_mass[:,1])).astype(int)\n",
    "    \n",
    "    return np.column_stack([\n",
    "        np.arange(1, sources.max_label+1, dtype='int8'), # Source label\n",
    "        integrated_intensity, # Integrated intensity   (intensity sum of each source)\n",
    "        brightest_pixel[:,0], # Peak pixel intensity   (max intensity in each source)\n",
    "        brightest_pixel[:,1], # x of peak pixel   (x of max intensity in each source)\n",
    "        brightest_pixel[:,2], # y of peak pixel   (y of max intensity in each source)\n",
    "        brightest_pixel[:,3], # RA of peak pixel  (RA of max intensity in each source)\n",
    "        brightest_pixel[:,4], # DEC of peak pixel (DEC of max intensity in each source)\n",
    "        norm_center_of_mass[:,0], # x pixel of norm center of mass\n",
    "        norm_center_of_mass[:,1],  # y pixel of norm center of mass \n",
    "        wc_norm_center_of_mass[0], # Ra coords of norm center of mass\n",
    "        wc_norm_center_of_mass[1] # Dec coords of norm center of masss\n",
    "    ])\n",
    "\n",
    "cat_matrix = create_catalogue_data(hdul[0], sources)"
   ]
  },
  {
   "cell_type": "code",
   "execution_count": 27,
   "metadata": {},
   "outputs": [
    {
     "ename": "NameError",
     "evalue": "name 'cat_matrix' is not defined",
     "output_type": "error",
     "traceback": [
      "\u001b[0;31m---------------------------------------------------------------------------\u001b[0m",
      "\u001b[0;31mNameError\u001b[0m                                 Traceback (most recent call last)",
      "\u001b[0;32m<ipython-input-27-a97731a1afc0>\u001b[0m in \u001b[0;36m<module>\u001b[0;34m\u001b[0m\n\u001b[0;32m----> 1\u001b[0;31m \u001b[0mcat_matrix\u001b[0m\u001b[0;34m[\u001b[0m\u001b[0mindex\u001b[0m\u001b[0;34m]\u001b[0m\u001b[0;34m\u001b[0m\u001b[0;34m\u001b[0m\u001b[0m\n\u001b[0m",
      "\u001b[0;31mNameError\u001b[0m: name 'cat_matrix' is not defined"
     ]
    }
   ],
   "source": [
    "cat_matrix[index]"
   ]
  },
  {
   "cell_type": "code",
   "execution_count": 19,
   "metadata": {},
   "outputs": [
    {
     "name": "stdout",
     "output_type": "stream",
     "text": [
      "501\n"
     ]
    },
    {
     "data": {
      "text/plain": [
       "(array([1869]),)"
      ]
     },
     "execution_count": 19,
     "metadata": {},
     "output_type": "execute_result"
    }
   ],
   "source": [
    "chunkest_source = sorted(np.unique(sources.data, return_counts=True)[1][1:], reverse=True)[80]\n",
    "print(chunkest_source)\n",
    "np.where(np.unique(sources.data, return_counts=True)[1] == chunkest_source)"
   ]
  },
  {
   "cell_type": "code",
   "execution_count": 31,
   "metadata": {},
   "outputs": [],
   "source": [
    "def create_sub_matrices(hdul, sources):\n",
    "    data = hdul.data\n",
    "    min_max_coords = np.full((sources.max_label, 2, 2), ((np.inf, np.inf), (-np.inf, -np.inf)))\n",
    "    for i in range(np.shape(data)[0]):\n",
    "        for j in range(np.shape(data)[1]):\n",
    "            lab = sources.data[i, j] - 1  # Label of pixel i,j\n",
    "            if lab + 1 != 0:\n",
    "                # Define min max coords\n",
    "                min_coords = min_max_coords[lab][0]\n",
    "                max_coords = min_max_coords[lab][1]\n",
    "                # Check if smallest x coordinate\n",
    "                if i < min_coords[0]:\n",
    "                    min_coords[0] = i\n",
    "                # Check if biggest x coordinate\n",
    "                elif i > max_coords[0]:\n",
    "                    max_coords[0] = i\n",
    "                # Check if smallest y coordinate\n",
    "                if j < min_coords[1]:\n",
    "                    min_coords[1] = j\n",
    "                # Check if biggest y coordinate\n",
    "                elif j > max_coords[1]:\n",
    "                    max_coords[1] = j\n",
    "    \n",
    "    min_max_coords = min_max_coords.astype(int)\n",
    "    all_sub_matrices = []\n",
    "    \n",
    "    for i in range(len(min_max_coords)):\n",
    "        # Define min and max coords\n",
    "        min_coords = min_max_coords[i][0]\n",
    "        max_coords = min_max_coords[i][1] + 1\n",
    "        # Mask of labels\n",
    "        mask = sources.data[min_coords[0]:max_coords[0],\n",
    "                            min_coords[1]:max_coords[1]]\n",
    "        # Only take labels of current source and factor it against the intensities\n",
    "        sub_matrix = (mask == i+1) * data[min_coords[0]:max_coords[0],\n",
    "                                          min_coords[1]:max_coords[1]]\n",
    "        \n",
    "        label = hdul.header['OBJECT'] + '_' + str(i)\n",
    "        \n",
    "        all_sub_matrices.append(\n",
    "            create_catalogue_submatrix(hdul, label, min_coords, max_coords, sub_matrix)\n",
    "        )\n",
    "    \n",
    "    return all_sub_matrices"
   ]
  },
  {
   "cell_type": "code",
   "execution_count": 32,
   "metadata": {},
   "outputs": [],
   "source": [
    "def create_catalogue_submatrix(hdul, label, min_coords, max_coords, mat):\n",
    "    conv = pi * pow((hdul.header['BMAJ'] * 3600), 2) / (4 * log(2)) \n",
    "    w = WCS(hdul.header)\n",
    "    \n",
    "    # matrix filled with index values so first row for x = [0, 1, 2, ...] and y = [0, 0, 0, ..]\n",
    "    # Used to fit gaussian and to calculate norm center of mass\n",
    "    y, x = np.mgrid[:mat.shape[0], :mat.shape[1]]\n",
    "    \n",
    "    # Get sum intensity\n",
    "    sum_mat = np.sum(mat)\n",
    "    integrated_intensity = conv * sum_mat\n",
    "    \n",
    "    # Brightest pixel (account for local submatrix coordinates)\n",
    "    brightest_pixel_x, brightest_pixel_y = np.unravel_index(np.argmax(mat, axis=None), mat.shape)\n",
    "    brightest_pixel = mat[(brightest_pixel_x, brightest_pixel_y)]\n",
    "    brightest_pixel_x += min_coords[0] # Add the min x coord of source\n",
    "    brightest_pixel_y += min_coords[1] # Add the min y coord of source\n",
    "    brightest_pixel_RA, brightest_pixel_DEC = w.all_pix2world(brightest_pixel_x,\n",
    "                                                              brightest_pixel_y, 0, ra_dec_order=True)\n",
    "    \n",
    "    # center of mass = sum(( coords(x, y) * mat(inten) )) / integrated_intensity\n",
    "    center_of_mass_x, center_of_mass_y = np.sum(np.sum(np.array(( (x + min_coords[0]),\n",
    "                                                                  (y + min_coords[1]) )) * mat, axis=1), axis=1) / sum_mat \n",
    "    # center_of_mass_x = np.sum(np.dot((x + min_coords[0]).T, mat)) / integrated_intensity\n",
    "    # center_of_mass_y = np.sum(np.dot((y + min_coords[1]).T, mat)) / integrated_intensity\n",
    "    # center_of_mass_x = np.sum(np.sum((x + min_coords[0]) * mat, axis=1)) / sum_mat\n",
    "    # center_of_mass_y = np.sum(np.sum((y + min_coords[1]) * mat, axis=1)) / sum_mat\n",
    "    \n",
    "    # center_of_mass = np.around(center_of_mass, 0).astype(int)\n",
    "\n",
    "    center_of_mass_RA, center_of_mass_DEC = w.all_pix2world(center_of_mass_x,\n",
    "                                                            center_of_mass_y, 0, ra_dec_order=True)\n",
    "    \n",
    "    # Define parameters of gaussian\n",
    "    x_m = center_of_mass_x - min_coords[0]\n",
    "    y_m = center_of_mass_y - min_coords[1]\n",
    "    x_s = max_coords[0] - min_coords[0]\n",
    "    y_s = max_coords[1] - min_coords[1]\n",
    "    \n",
    "    # Define model\n",
    "    mod = Gaussian2D(\n",
    "        amplitude=brightest_pixel, # Max intensity of source\n",
    "        x_mean=x_m,    # X center of mass\n",
    "        y_mean=y_m,    # Y center of mass\n",
    "        x_stddev=x_s,  # X of submatrix\n",
    "        y_stddev=y_s   # Y of submatrix\n",
    "    )\n",
    "    \n",
    "    # Setting resutrictions for model\n",
    "    mod.x_mean.min=0   # x_mean Min = 0\n",
    "    mod.y_mean.min=0   # y_mean Min = 0\n",
    "    mod.x_mean.max=x_s # x_mean Max = X of submatrix\n",
    "    mod.y_mean.max=y_s # y_mean Max = Y of submatrix\n",
    "\n",
    "    mod.x_stddev.min=0   # x_stdv Min = 0\n",
    "    mod.y_stddev.min=0   # y_stdv Min = 0\n",
    "    mod.x_stddev.max=x_s # x_stdv Max = X of submatrix\n",
    "    mod.y_stddev.max=y_s # y_stdv Max = Y of submatrix\n",
    "    \n",
    "    fitter = LevMarLSQFitter() # Use least square fitter\n",
    "    \n",
    "    try:\n",
    "        best_fit_gauss = fitter(mod, x, y, mat) # Fit model\n",
    "    except:\n",
    "        return (label, [integrated_intensity, brightest_pixel, brightest_pixel_x, brightest_pixel_y,\n",
    "                        brightest_pixel_RA, brightest_pixel_DEC, center_of_mass_x, center_of_mass_y,\n",
    "                        center_of_mass_RA, center_of_mass_DEC, 'NaN', 'NaN',\n",
    "                        'NaN', 'NaN', 'NaN', 'NaN', 'NaN', 'NaN', 'NaN']\n",
    "       )\n",
    "    \n",
    "    # best_fit_gauss = fitter(mod, x, y, mat) # Fit model\n",
    "\n",
    "    # Define centers of gaussian fit\n",
    "    center_of_gaus_fit_x = best_fit_gauss.x_mean.value + min_coords[0]\n",
    "    center_of_gaus_fit_y = best_fit_gauss.y_mean.value + min_coords[1]\n",
    "    center_of_gaus_fit_RA, center_of_gaus_fit_DEC = w.all_pix2world(center_of_gaus_fit_x,\n",
    "                                                                    center_of_gaus_fit_y, 0, ra_dec_order=True)\n",
    "    \n",
    "    # Define axis and theta of fit\n",
    "    fit_x_axis = best_fit_gauss.x_stddev.value\n",
    "    fit_y_axis = best_fit_gauss.y_stddev.value\n",
    "    fit_theta  = best_fit_gauss.theta.value\n",
    "    \n",
    "    # Integrated intensity of fit\n",
    "    integrated_intensity_fit = conv * np.sum(best_fit_gauss(x, y))\n",
    "    \n",
    "    # Residual / Source (sum intensities)\n",
    "    ratio_residual = np.sum((mat - best_fit_gauss(x, y)).clip(min=0)) / sum_mat\n",
    "    \n",
    "    return (label, [integrated_intensity, brightest_pixel, brightest_pixel_x, brightest_pixel_y,\n",
    "                    brightest_pixel_RA, brightest_pixel_DEC, center_of_mass_x, center_of_mass_y,\n",
    "                    center_of_mass_RA, center_of_mass_DEC, center_of_gaus_fit_x, center_of_gaus_fit_y,\n",
    "                    center_of_gaus_fit_RA, center_of_gaus_fit_DEC, fit_x_axis, fit_y_axis, fit_theta,\n",
    "                    integrated_intensity_fit, ratio_residual]\n",
    "           )"
   ]
  },
  {
   "cell_type": "code",
   "execution_count": null,
   "metadata": {},
   "outputs": [],
   "source": [
    "start = time.time()\n",
    "matrices = create_sub_matrices(hdul[0], sources)\n",
    "print(time.time()-start)"
   ]
  },
  {
   "cell_type": "code",
   "execution_count": null,
   "metadata": {},
   "outputs": [],
   "source": []
  }
 ],
 "metadata": {
  "kernelspec": {
   "display_name": "Python 3",
   "language": "python",
   "name": "python3"
  },
  "language_info": {
   "codemirror_mode": {
    "name": "ipython",
    "version": 3
   },
   "file_extension": ".py",
   "mimetype": "text/x-python",
   "name": "python",
   "nbconvert_exporter": "python",
   "pygments_lexer": "ipython3",
   "version": "3.6.10"
  }
 },
 "nbformat": 4,
 "nbformat_minor": 4
}
