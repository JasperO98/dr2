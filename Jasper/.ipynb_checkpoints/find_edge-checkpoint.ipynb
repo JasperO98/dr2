{
 "cells": [
  {
   "cell_type": "code",
   "execution_count": 1,
   "metadata": {},
   "outputs": [
    {
     "name": "stdout",
     "output_type": "stream",
     "text": [
      "/home/s2494876/miniconda3/envs/sddm/bin/python\n",
      "['/home/s2494876/miniconda3/envs/sddm/lib/python36.zip', '/home/s2494876/miniconda3/envs/sddm/lib/python3.6', '/home/s2494876/miniconda3/envs/sddm/lib/python3.6/lib-dynload', '', '/home/s2494876/.local/lib/python3.6/site-packages', '/home/s2494876/miniconda3/envs/sddm/lib/python3.6/site-packages', '/home/s2494876/.local/lib/python3.6/site-packages/IPython/extensions', '/home/s2494876/.ipython']\n",
      "3.6.10 |Anaconda, Inc.| (default, Mar 25 2020, 23:51:54) \n",
      "[GCC 7.3.0]\n"
     ]
    },
    {
     "name": "stderr",
     "output_type": "stream",
     "text": [
      "WARNING: leap-second auto-update failed due to the following exception: RuntimeError('Cache is locked after 5.03 s. This may indicate an astropy bug or that kill -9 was used. If you want to unlock the cache remove the directory /home/s2494876/.astropy/cache/download/py3/lock. Lock claims to be held by process 70973.',) [astropy.time.core]\n"
     ]
    }
   ],
   "source": [
    "import findspark as fs\n",
    "\n",
    "import random\n",
    "import os\n",
    "import sys\n",
    "import numpy as np\n",
    "\n",
    "print(sys.executable)\n",
    "print(sys.path)\n",
    "print(sys.version)\n",
    "\n",
    "import photutils\n",
    "from photutils import detect_threshold\n",
    "from astropy.io import fits\n",
    "from astropy.wcs import WCS\n",
    "from astropy.modeling.fitting import LevMarLSQFitter\n",
    "from astropy.modeling.functional_models import Gaussian2D\n",
    "\n",
    "#from pyspark.sql.types import Row\n",
    "from pyspark import SparkContext\n",
    "from pyspark.sql import SparkSession\n",
    "\n",
    "from astropy.convolution import Gaussian2DKernel\n",
    "from astropy.stats import gaussian_fwhm_to_sigma\n",
    "from photutils import detect_sources\n",
    "import time\n",
    "\n",
    "import shutil\n",
    "from math import pi, log, sqrt\n",
    "\n",
    "import warnings\n",
    "warnings.filterwarnings(\"ignore\")"
   ]
  },
  {
   "cell_type": "code",
   "execution_count": 2,
   "metadata": {},
   "outputs": [],
   "source": [
    "try:\n",
    "    sc = SparkContext(appName=\"SDDM\") #, master='spark://fs.dslc.liacs.nl:7078')\n",
    "except ValueError:\n",
    "    warnings.warn(\"SparkContext already exists in this scope\")"
   ]
  },
  {
   "cell_type": "code",
   "execution_count": 3,
   "metadata": {},
   "outputs": [],
   "source": [
    "# Define data paths\n",
    "DR2_path = \"/data/astronomy-big-data/bc96e9620e41b9aba98292d37b5eec24/LoTSS_DR2/\"\n",
    "mosaic_path = \"/data/astronomy-big-data/bc96e9620e41b9aba98292d37b5eec24/LoTSS_DR2_mosaic/\""
   ]
  },
  {
   "cell_type": "code",
   "execution_count": 4,
   "metadata": {},
   "outputs": [
    {
     "name": "stdout",
     "output_type": "stream",
     "text": [
      "{'_header_str': None, '_file': <astropy.io.fits.file._File <_io.FileIO name='/data/astronomy-big-data/bc96e9620e41b9aba98292d37b5eec24/LoTSS_DR2_mosaic/P004+38_mosaic-blanked.fits' mode='rb' closefd=True>>, '_buffer': None, '_header_offset': 0, '_data_offset': 2880, '_data_size': 735744960, '_data_replaced': False, '_data_needs_rescale': False, '_new': False, '_output_checksum': False, '_checksum': None, '_checksum_valid': None, '_datasum': None, '_datasum_valid': None, '_do_not_scale_image_data': False, '_uint': True, '_scale_back': None, '_bzero': 0, '_bscale': 1, '_axes': [9590, 9590], '_bitpix': -64, '_gcount': 1, '_pcount': 0, '_blank': None, '_orig_bitpix': -64, '_orig_blank': None, '_orig_bzero': 0, '_orig_bscale': 1, '_modified': False, '_header': SIMPLE  =                    T / conforms to FITS standard                      \n",
      "BITPIX  =                  -64 / array data type                                \n",
      "NAXIS   =                    2 / number of array dimensions                     \n",
      "NAXIS1  =                 9590                                                  \n",
      "NAXIS2  =                 9590                                                  \n",
      "WCSAXES =                    2                                                  \n",
      "CTYPE1  = 'RA---SIN'                                                            \n",
      "CTYPE2  = 'DEC--SIN'                                                            \n",
      "CUNIT1  = 'deg     '                                                            \n",
      "CUNIT2  = 'deg     '                                                            \n",
      "CRPIX1  =                 4795                                                  \n",
      "CRPIX2  =                 4795                                                  \n",
      "CRVAL1  =              4.25415                                                  \n",
      "CRVAL2  =               38.492                                                  \n",
      "CDELT1  = -0.00041666666666666                                                  \n",
      "CDELT2  = 0.000416666666666666                                                  \n",
      "RADESYS = 'ICRS    '                                                            \n",
      "EQUINOX =               2000.0                                                  \n",
      "LONPOLE =                180.0                                                  \n",
      "LATPOLE =               38.492                                                  \n",
      "BMAJ    = 0.001666666666666667                                                  \n",
      "BMIN    = 0.001666666666666667                                                  \n",
      "BPA     =                   90                                                  \n",
      "TELESCOP= 'LOFAR   '                                                            \n",
      "RESTFRQ =          143650000.0                                                  \n",
      "OBSERVER= 'LoTSS   '                                                            \n",
      "BUNIT   = 'JY/BEAM '                                                            \n",
      "BTYPE   = 'Intensity'                                                           \n",
      "OBJECT  = 'P004+38 '                                                            \n",
      "ORIGIN  = 'ddf-pipeline v2.2-102-gd26fb13'                                      , 'data': array([[nan, nan, nan, ..., nan, nan, nan],\n",
      "       [nan, nan, nan, ..., nan, nan, nan],\n",
      "       [nan, nan, nan, ..., nan, nan, nan],\n",
      "       ...,\n",
      "       [nan, nan, nan, ..., nan, nan, nan],\n",
      "       [nan, nan, nan, ..., nan, nan, nan],\n",
      "       [nan, nan, nan, ..., nan, nan, nan]])}\n"
     ]
    }
   ],
   "source": [
    "# Take a look at the data in a .fits file\n",
    "hdul = fits.open(mosaic_path + \"P004+38_mosaic-blanked.fits\")\n",
    "data = hdul[0].data # The intensity data\n",
    "print(hdul[0].__dict__)"
   ]
  },
  {
   "cell_type": "code",
   "execution_count": 5,
   "metadata": {},
   "outputs": [],
   "source": [
    "x = hdul[0]._header['NAXIS1']\n",
    "y = hdul[0]._header['NAXIS2']\n",
    "\n",
    "center = (x/2, y/2)\n",
    "\n",
    "finite_area = np.sum(np.isfinite(data))\n",
    "radius = np.sqrt(finite_area/pi)\n",
    "\n",
    "w = WCS(hdul[0].header)\n",
    "ra, dec = w.all_pix2world(x/2, y/2, 0, ra_dec_order=True)\n",
    "\n",
    "\n"
   ]
  },
  {
   "cell_type": "code",
   "execution_count": 6,
   "metadata": {},
   "outputs": [],
   "source": [
    "def mosaic(file):\n",
    "    hdul = fits.open(file)\n",
    "    data = hdul[0].data # The intensity data\n",
    "    conv = hdul[0]._header[\"BMAJ\"]\n",
    "        \n",
    "    x = hdul[0]._header['NAXIS1']\n",
    "    y = hdul[0]._header['NAXIS2']\n",
    "    center = (x/2, y/2)\n",
    "\n",
    "    finite_area = np.sum(np.isfinite(data))\n",
    "    radius = np.sqrt(finite_area/pi) * conv\n",
    "\n",
    "    w = WCS(hdul[0].header)\n",
    "    ra, dec = w.all_pix2world(x/2, y/2, 0, ra_dec_order=True)\n",
    "    \n",
    "    # mosaic_dict[mosaic] = np.array((np.nan, np.nan, np.nan))\n",
    "    #mosaic_dict[mosaic][0] = radius\n",
    "    #mosaic_dict[mosaic][1] = ra\n",
    "    #mosaic_dict[mosaic][2] = dec\n",
    "    return np.array((radius, ra, dec))"
   ]
  },
  {
   "cell_type": "code",
   "execution_count": 7,
   "metadata": {},
   "outputs": [
    {
     "data": {
      "text/plain": [
       "['/data/astronomy-big-data/bc96e9620e41b9aba98292d37b5eec24/LoTSS_DR2_mosaic/P223+52_mosaic-blanked.fits',\n",
       " '/data/astronomy-big-data/bc96e9620e41b9aba98292d37b5eec24/LoTSS_DR2_mosaic/P174+57_mosaic-blanked.fits',\n",
       " '/data/astronomy-big-data/bc96e9620e41b9aba98292d37b5eec24/LoTSS_DR2_mosaic/P4Hetdex16_mosaic-blanked.fits',\n",
       " '/data/astronomy-big-data/bc96e9620e41b9aba98292d37b5eec24/LoTSS_DR2_mosaic/P022+34_mosaic-blanked.fits',\n",
       " '/data/astronomy-big-data/bc96e9620e41b9aba98292d37b5eec24/LoTSS_DR2_mosaic/P18Hetdex03_mosaic-blanked.fits',\n",
       " '/data/astronomy-big-data/bc96e9620e41b9aba98292d37b5eec24/LoTSS_DR2_mosaic/P205+42_mosaic-blanked.fits',\n",
       " '/data/astronomy-big-data/bc96e9620e41b9aba98292d37b5eec24/LoTSS_DR2_mosaic/P236+48_mosaic-blanked.fits',\n",
       " '/data/astronomy-big-data/bc96e9620e41b9aba98292d37b5eec24/LoTSS_DR2_mosaic/P245+55_mosaic-blanked.fits',\n",
       " '/data/astronomy-big-data/bc96e9620e41b9aba98292d37b5eec24/LoTSS_DR2_mosaic/P10Hetdex_mosaic-blanked.fits',\n",
       " '/data/astronomy-big-data/bc96e9620e41b9aba98292d37b5eec24/LoTSS_DR2_mosaic/P32Hetdex08_mosaic-blanked.fits',\n",
       " '/data/astronomy-big-data/bc96e9620e41b9aba98292d37b5eec24/LoTSS_DR2_mosaic/P223+50_mosaic-blanked.fits',\n",
       " '/data/astronomy-big-data/bc96e9620e41b9aba98292d37b5eec24/LoTSS_DR2_mosaic/P233+60_mosaic-blanked.fits',\n",
       " '/data/astronomy-big-data/bc96e9620e41b9aba98292d37b5eec24/LoTSS_DR2_mosaic/P121+32_mosaic-blanked.fits',\n",
       " '/data/astronomy-big-data/bc96e9620e41b9aba98292d37b5eec24/LoTSS_DR2_mosaic/P178+55_mosaic-blanked.fits',\n",
       " '/data/astronomy-big-data/bc96e9620e41b9aba98292d37b5eec24/LoTSS_DR2_mosaic/P235+50_mosaic-blanked.fits',\n",
       " '/data/astronomy-big-data/bc96e9620e41b9aba98292d37b5eec24/LoTSS_DR2_mosaic/P12Hetdex11_mosaic-blanked.fits',\n",
       " '/data/astronomy-big-data/bc96e9620e41b9aba98292d37b5eec24/LoTSS_DR2_mosaic/P228+60_mosaic-blanked.fits',\n",
       " '/data/astronomy-big-data/bc96e9620e41b9aba98292d37b5eec24/LoTSS_DR2_mosaic/P15Hetdex13_mosaic-blanked.fits',\n",
       " '/data/astronomy-big-data/bc96e9620e41b9aba98292d37b5eec24/LoTSS_DR2_mosaic/P143+52_mosaic-blanked.fits',\n",
       " '/data/astronomy-big-data/bc96e9620e41b9aba98292d37b5eec24/LoTSS_DR2_mosaic/P202+42_mosaic-blanked.fits',\n",
       " '/data/astronomy-big-data/bc96e9620e41b9aba98292d37b5eec24/LoTSS_DR2_mosaic/P219+50_mosaic-blanked.fits',\n",
       " '/data/astronomy-big-data/bc96e9620e41b9aba98292d37b5eec24/LoTSS_DR2_mosaic/P181+60_mosaic-blanked.fits',\n",
       " '/data/astronomy-big-data/bc96e9620e41b9aba98292d37b5eec24/LoTSS_DR2_mosaic/P145+57_mosaic-blanked.fits',\n",
       " '/data/astronomy-big-data/bc96e9620e41b9aba98292d37b5eec24/LoTSS_DR2_mosaic/P217+47_mosaic-blanked.fits',\n",
       " '/data/astronomy-big-data/bc96e9620e41b9aba98292d37b5eec24/LoTSS_DR2_mosaic/P141+45_mosaic-blanked.fits',\n",
       " '/data/astronomy-big-data/bc96e9620e41b9aba98292d37b5eec24/LoTSS_DR2_mosaic/P227+50_mosaic-blanked.fits',\n",
       " '/data/astronomy-big-data/bc96e9620e41b9aba98292d37b5eec24/LoTSS_DR2_mosaic/P226+42_mosaic-blanked.fits',\n",
       " '/data/astronomy-big-data/bc96e9620e41b9aba98292d37b5eec24/LoTSS_DR2_mosaic/P156+42_mosaic-blanked.fits',\n",
       " '/data/astronomy-big-data/bc96e9620e41b9aba98292d37b5eec24/LoTSS_DR2_mosaic/P155+60_mosaic-blanked.fits',\n",
       " '/data/astronomy-big-data/bc96e9620e41b9aba98292d37b5eec24/LoTSS_DR2_mosaic/P163+45_mosaic-blanked.fits',\n",
       " '/data/astronomy-big-data/bc96e9620e41b9aba98292d37b5eec24/LoTSS_DR2_mosaic/P207+45_mosaic-blanked.fits',\n",
       " '/data/astronomy-big-data/bc96e9620e41b9aba98292d37b5eec24/LoTSS_DR2_mosaic/P176+60_mosaic-blanked.fits',\n",
       " '/data/astronomy-big-data/bc96e9620e41b9aba98292d37b5eec24/LoTSS_DR2_mosaic/P238+60_mosaic-blanked.fits',\n",
       " '/data/astronomy-big-data/bc96e9620e41b9aba98292d37b5eec24/LoTSS_DR2_mosaic/P229+45_mosaic-blanked.fits',\n",
       " '/data/astronomy-big-data/bc96e9620e41b9aba98292d37b5eec24/LoTSS_DR2_mosaic/P11Hetdex12_mosaic-blanked.fits',\n",
       " '/data/astronomy-big-data/bc96e9620e41b9aba98292d37b5eec24/LoTSS_DR2_mosaic/P202+60_mosaic-blanked.fits',\n",
       " '/data/astronomy-big-data/bc96e9620e41b9aba98292d37b5eec24/LoTSS_DR2_mosaic/P35Hetdex10_mosaic-blanked.fits',\n",
       " '/data/astronomy-big-data/bc96e9620e41b9aba98292d37b5eec24/LoTSS_DR2_mosaic/P236+53_mosaic-blanked.fits',\n",
       " '/data/astronomy-big-data/bc96e9620e41b9aba98292d37b5eec24/LoTSS_DR2_mosaic/P155+52_mosaic-blanked.fits',\n",
       " '/data/astronomy-big-data/bc96e9620e41b9aba98292d37b5eec24/LoTSS_DR2_mosaic/P027+31_mosaic-blanked.fits',\n",
       " '/data/astronomy-big-data/bc96e9620e41b9aba98292d37b5eec24/LoTSS_DR2_mosaic/P345+33_mosaic-blanked.fits',\n",
       " '/data/astronomy-big-data/bc96e9620e41b9aba98292d37b5eec24/LoTSS_DR2_mosaic/P000+38_mosaic-blanked.fits',\n",
       " '/data/astronomy-big-data/bc96e9620e41b9aba98292d37b5eec24/LoTSS_DR2_mosaic/P030+39_mosaic-blanked.fits',\n",
       " '/data/astronomy-big-data/bc96e9620e41b9aba98292d37b5eec24/LoTSS_DR2_mosaic/P145+45_mosaic-blanked.fits',\n",
       " '/data/astronomy-big-data/bc96e9620e41b9aba98292d37b5eec24/LoTSS_DR2_mosaic/P215+50_mosaic-blanked.fits',\n",
       " '/data/astronomy-big-data/bc96e9620e41b9aba98292d37b5eec24/LoTSS_DR2_mosaic/P222+60_mosaic-blanked.fits',\n",
       " '/data/astronomy-big-data/bc96e9620e41b9aba98292d37b5eec24/LoTSS_DR2_mosaic/P5Hetdex_mosaic-blanked.fits',\n",
       " '/data/astronomy-big-data/bc96e9620e41b9aba98292d37b5eec24/LoTSS_DR2_mosaic/P181+42_mosaic-blanked.fits',\n",
       " '/data/astronomy-big-data/bc96e9620e41b9aba98292d37b5eec24/LoTSS_DR2_mosaic/P013+26_mosaic-blanked.fits',\n",
       " '/data/astronomy-big-data/bc96e9620e41b9aba98292d37b5eec24/LoTSS_DR2_mosaic/P34Hetdex06_mosaic-blanked.fits',\n",
       " '/data/astronomy-big-data/bc96e9620e41b9aba98292d37b5eec24/LoTSS_DR2_mosaic/P151+55_mosaic-blanked.fits',\n",
       " '/data/astronomy-big-data/bc96e9620e41b9aba98292d37b5eec24/LoTSS_DR2_mosaic/P229+48_mosaic-blanked.fits',\n",
       " '/data/astronomy-big-data/bc96e9620e41b9aba98292d37b5eec24/LoTSS_DR2_mosaic/P36Hetdex10_mosaic-blanked.fits',\n",
       " '/data/astronomy-big-data/bc96e9620e41b9aba98292d37b5eec24/LoTSS_DR2_mosaic/P163+42_mosaic-blanked.fits',\n",
       " '/data/astronomy-big-data/bc96e9620e41b9aba98292d37b5eec24/LoTSS_DR2_mosaic/P017+39_mosaic-blanked.fits',\n",
       " '/data/astronomy-big-data/bc96e9620e41b9aba98292d37b5eec24/LoTSS_DR2_mosaic/P146+42_mosaic-blanked.fits',\n",
       " '/data/astronomy-big-data/bc96e9620e41b9aba98292d37b5eec24/LoTSS_DR2_mosaic/P191+55_mosaic-blanked.fits',\n",
       " '/data/astronomy-big-data/bc96e9620e41b9aba98292d37b5eec24/LoTSS_DR2_mosaic/P193+57_mosaic-blanked.fits',\n",
       " '/data/astronomy-big-data/bc96e9620e41b9aba98292d37b5eec24/LoTSS_DR2_mosaic/P035+34_mosaic-blanked.fits',\n",
       " '/data/astronomy-big-data/bc96e9620e41b9aba98292d37b5eec24/LoTSS_DR2_mosaic/P209+42_mosaic-blanked.fits',\n",
       " '/data/astronomy-big-data/bc96e9620e41b9aba98292d37b5eec24/LoTSS_DR2_mosaic/P8Hetdex_mosaic-blanked.fits',\n",
       " '/data/astronomy-big-data/bc96e9620e41b9aba98292d37b5eec24/LoTSS_DR2_mosaic/P160+47_mosaic-blanked.fits',\n",
       " '/data/astronomy-big-data/bc96e9620e41b9aba98292d37b5eec24/LoTSS_DR2_mosaic/P161+60_mosaic-blanked.fits',\n",
       " '/data/astronomy-big-data/bc96e9620e41b9aba98292d37b5eec24/LoTSS_DR2_mosaic/P29Hetdex19_mosaic-blanked.fits',\n",
       " '/data/astronomy-big-data/bc96e9620e41b9aba98292d37b5eec24/LoTSS_DR2_mosaic/P233+43_mosaic-blanked.fits',\n",
       " '/data/astronomy-big-data/bc96e9620e41b9aba98292d37b5eec24/LoTSS_DR2_mosaic/P210+45_mosaic-blanked.fits',\n",
       " '/data/astronomy-big-data/bc96e9620e41b9aba98292d37b5eec24/LoTSS_DR2_mosaic/P13Hetdex12_mosaic-blanked.fits',\n",
       " '/data/astronomy-big-data/bc96e9620e41b9aba98292d37b5eec24/LoTSS_DR2_mosaic/P191+60_mosaic-blanked.fits',\n",
       " '/data/astronomy-big-data/bc96e9620e41b9aba98292d37b5eec24/LoTSS_DR2_mosaic/P173+55_mosaic-blanked.fits',\n",
       " '/data/astronomy-big-data/bc96e9620e41b9aba98292d37b5eec24/LoTSS_DR2_mosaic/P39Hetdex19_mosaic-blanked.fits',\n",
       " '/data/astronomy-big-data/bc96e9620e41b9aba98292d37b5eec24/LoTSS_DR2_mosaic/P012+36_mosaic-blanked.fits',\n",
       " '/data/astronomy-big-data/bc96e9620e41b9aba98292d37b5eec24/LoTSS_DR2_mosaic/P179+57_mosaic-blanked.fits',\n",
       " '/data/astronomy-big-data/bc96e9620e41b9aba98292d37b5eec24/LoTSS_DR2_mosaic/P241+55_mosaic-blanked.fits',\n",
       " '/data/astronomy-big-data/bc96e9620e41b9aba98292d37b5eec24/LoTSS_DR2_mosaic/P16Hetdex13_mosaic-blanked.fits',\n",
       " '/data/astronomy-big-data/bc96e9620e41b9aba98292d37b5eec24/LoTSS_DR2_mosaic/P170+42_mosaic-blanked.fits',\n",
       " '/data/astronomy-big-data/bc96e9620e41b9aba98292d37b5eec24/LoTSS_DR2_mosaic/P159+45_mosaic-blanked.fits',\n",
       " '/data/astronomy-big-data/bc96e9620e41b9aba98292d37b5eec24/LoTSS_DR2_mosaic/P216+42_mosaic-blanked.fits',\n",
       " '/data/astronomy-big-data/bc96e9620e41b9aba98292d37b5eec24/LoTSS_DR2_mosaic/P188+42_mosaic-blanked.fits',\n",
       " '/data/astronomy-big-data/bc96e9620e41b9aba98292d37b5eec24/LoTSS_DR2_mosaic/P166+60_mosaic-blanked.fits',\n",
       " '/data/astronomy-big-data/bc96e9620e41b9aba98292d37b5eec24/LoTSS_DR2_mosaic/P26Hetdex03_mosaic-blanked.fits',\n",
       " '/data/astronomy-big-data/bc96e9620e41b9aba98292d37b5eec24/LoTSS_DR2_mosaic/P219+42_mosaic-blanked.fits',\n",
       " '/data/astronomy-big-data/bc96e9620e41b9aba98292d37b5eec24/LoTSS_DR2_mosaic/P212+42_mosaic-blanked.fits',\n",
       " '/data/astronomy-big-data/bc96e9620e41b9aba98292d37b5eec24/LoTSS_DR2_mosaic/P026+34_mosaic-blanked.fits',\n",
       " '/data/astronomy-big-data/bc96e9620e41b9aba98292d37b5eec24/LoTSS_DR2_mosaic/P240+43_mosaic-blanked.fits',\n",
       " '/data/astronomy-big-data/bc96e9620e41b9aba98292d37b5eec24/LoTSS_DR2_mosaic/P206+50_mosaic-blanked.fits',\n",
       " '/data/astronomy-big-data/bc96e9620e41b9aba98292d37b5eec24/LoTSS_DR2_mosaic/P036+31_mosaic-blanked.fits',\n",
       " '/data/astronomy-big-data/bc96e9620e41b9aba98292d37b5eec24/LoTSS_DR2_mosaic/P227+58_mosaic-blanked.fits',\n",
       " '/data/astronomy-big-data/bc96e9620e41b9aba98292d37b5eec24/LoTSS_DR2_mosaic/P219+52_mosaic-blanked.fits',\n",
       " '/data/astronomy-big-data/bc96e9620e41b9aba98292d37b5eec24/LoTSS_DR2_mosaic/P218+55_mosaic-blanked.fits',\n",
       " '/data/astronomy-big-data/bc96e9620e41b9aba98292d37b5eec24/LoTSS_DR2_mosaic/P240+45_mosaic-blanked.fits',\n",
       " '/data/astronomy-big-data/bc96e9620e41b9aba98292d37b5eec24/LoTSS_DR2_mosaic/P164+55_mosaic-blanked.fits',\n",
       " '/data/astronomy-big-data/bc96e9620e41b9aba98292d37b5eec24/LoTSS_DR2_mosaic/P149+47_mosaic-blanked.fits',\n",
       " '/data/astronomy-big-data/bc96e9620e41b9aba98292d37b5eec24/LoTSS_DR2_mosaic/P148+45_mosaic-blanked.fits',\n",
       " '/data/astronomy-big-data/bc96e9620e41b9aba98292d37b5eec24/LoTSS_DR2_mosaic/P142+55_mosaic-blanked.fits',\n",
       " '/data/astronomy-big-data/bc96e9620e41b9aba98292d37b5eec24/LoTSS_DR2_mosaic/P112+37_mosaic-blanked.fits',\n",
       " '/data/astronomy-big-data/bc96e9620e41b9aba98292d37b5eec24/LoTSS_DR2_mosaic/P141+57_mosaic-blanked.fits',\n",
       " '/data/astronomy-big-data/bc96e9620e41b9aba98292d37b5eec24/LoTSS_DR2_mosaic/P207+60_mosaic-blanked.fits',\n",
       " '/data/astronomy-big-data/bc96e9620e41b9aba98292d37b5eec24/LoTSS_DR2_mosaic/P236+45_mosaic-blanked.fits',\n",
       " '/data/astronomy-big-data/bc96e9620e41b9aba98292d37b5eec24/LoTSS_DR2_mosaic/P335+26_mosaic-blanked.fits',\n",
       " '/data/astronomy-big-data/bc96e9620e41b9aba98292d37b5eec24/LoTSS_DR2_mosaic/P213+47_mosaic-blanked.fits',\n",
       " '/data/astronomy-big-data/bc96e9620e41b9aba98292d37b5eec24/LoTSS_DR2_mosaic/P171+60_mosaic-blanked.fits',\n",
       " '/data/astronomy-big-data/bc96e9620e41b9aba98292d37b5eec24/LoTSS_DR2_mosaic/P150+50_mosaic-blanked.fits',\n",
       " '/data/astronomy-big-data/bc96e9620e41b9aba98292d37b5eec24/LoTSS_DR2_mosaic/P38Hetdex07_mosaic-blanked.fits',\n",
       " '/data/astronomy-big-data/bc96e9620e41b9aba98292d37b5eec24/LoTSS_DR2_mosaic/P155+57_mosaic-blanked.fits',\n",
       " '/data/astronomy-big-data/bc96e9620e41b9aba98292d37b5eec24/LoTSS_DR2_mosaic/P25Hetdex09_mosaic-blanked.fits',\n",
       " '/data/astronomy-big-data/bc96e9620e41b9aba98292d37b5eec24/LoTSS_DR2_mosaic/P213+57_mosaic-blanked.fits',\n",
       " '/data/astronomy-big-data/bc96e9620e41b9aba98292d37b5eec24/LoTSS_DR2_mosaic/P14Hetdex04_mosaic-blanked.fits',\n",
       " '/data/astronomy-big-data/bc96e9620e41b9aba98292d37b5eec24/LoTSS_DR2_mosaic/P016+34_mosaic-blanked.fits',\n",
       " '/data/astronomy-big-data/bc96e9620e41b9aba98292d37b5eec24/LoTSS_DR2_mosaic/P210+47_mosaic-blanked.fits',\n",
       " '/data/astronomy-big-data/bc96e9620e41b9aba98292d37b5eec24/LoTSS_DR2_mosaic/P209+55_mosaic-blanked.fits',\n",
       " '/data/astronomy-big-data/bc96e9620e41b9aba98292d37b5eec24/LoTSS_DR2_mosaic/P152+47_mosaic-blanked.fits',\n",
       " '/data/astronomy-big-data/bc96e9620e41b9aba98292d37b5eec24/LoTSS_DR2_mosaic/P33Hetdex08_mosaic-blanked.fits',\n",
       " '/data/astronomy-big-data/bc96e9620e41b9aba98292d37b5eec24/LoTSS_DR2_mosaic/P244+48_mosaic-blanked.fits',\n",
       " '/data/astronomy-big-data/bc96e9620e41b9aba98292d37b5eec24/LoTSS_DR2_mosaic/P7Hetdex11_mosaic-blanked.fits',\n",
       " '/data/astronomy-big-data/bc96e9620e41b9aba98292d37b5eec24/LoTSS_DR2_mosaic/P203+57_mosaic-blanked.fits',\n",
       " '/data/astronomy-big-data/bc96e9620e41b9aba98292d37b5eec24/LoTSS_DR2_mosaic/P225+45_mosaic-blanked.fits',\n",
       " '/data/astronomy-big-data/bc96e9620e41b9aba98292d37b5eec24/LoTSS_DR2_mosaic/P160+57_mosaic-blanked.fits',\n",
       " '/data/astronomy-big-data/bc96e9620e41b9aba98292d37b5eec24/LoTSS_DR2_mosaic/P240+48_mosaic-blanked.fits',\n",
       " '/data/astronomy-big-data/bc96e9620e41b9aba98292d37b5eec24/LoTSS_DR2_mosaic/P3Hetdex16_mosaic-blanked.fits',\n",
       " '/data/astronomy-big-data/bc96e9620e41b9aba98292d37b5eec24/LoTSS_DR2_mosaic/P243+50_mosaic-blanked.fits',\n",
       " '/data/astronomy-big-data/bc96e9620e41b9aba98292d37b5eec24/LoTSS_DR2_mosaic/P155+55_mosaic-blanked.fits',\n",
       " '/data/astronomy-big-data/bc96e9620e41b9aba98292d37b5eec24/LoTSS_DR2_mosaic/P158+50_mosaic-blanked.fits',\n",
       " '/data/astronomy-big-data/bc96e9620e41b9aba98292d37b5eec24/LoTSS_DR2_mosaic/P186+60_mosaic-blanked.fits',\n",
       " '/data/astronomy-big-data/bc96e9620e41b9aba98292d37b5eec24/LoTSS_DR2_mosaic/P6_mosaic-blanked.fits',\n",
       " '/data/astronomy-big-data/bc96e9620e41b9aba98292d37b5eec24/LoTSS_DR2_mosaic/P211+50_mosaic-blanked.fits',\n",
       " '/data/astronomy-big-data/bc96e9620e41b9aba98292d37b5eec24/LoTSS_DR2_mosaic/P19Hetdex17_mosaic-blanked.fits',\n",
       " '/data/astronomy-big-data/bc96e9620e41b9aba98292d37b5eec24/LoTSS_DR2_mosaic/P221+45_mosaic-blanked.fits',\n",
       " '/data/astronomy-big-data/bc96e9620e41b9aba98292d37b5eec24/LoTSS_DR2_mosaic/P208+57_mosaic-blanked.fits',\n",
       " '/data/astronomy-big-data/bc96e9620e41b9aba98292d37b5eec24/LoTSS_DR2_mosaic/P191+42_mosaic-blanked.fits',\n",
       " '/data/astronomy-big-data/bc96e9620e41b9aba98292d37b5eec24/LoTSS_DR2_mosaic/P149+42_mosaic-blanked.fits',\n",
       " '/data/astronomy-big-data/bc96e9620e41b9aba98292d37b5eec24/LoTSS_DR2_mosaic/P239+50_mosaic-blanked.fits',\n",
       " '/data/astronomy-big-data/bc96e9620e41b9aba98292d37b5eec24/LoTSS_DR2_mosaic/P21_mosaic-blanked.fits',\n",
       " '/data/astronomy-big-data/bc96e9620e41b9aba98292d37b5eec24/LoTSS_DR2_mosaic/P034+39_mosaic-blanked.fits',\n",
       " '/data/astronomy-big-data/bc96e9620e41b9aba98292d37b5eec24/LoTSS_DR2_mosaic/P248+60_mosaic-blanked.fits',\n",
       " '/data/astronomy-big-data/bc96e9620e41b9aba98292d37b5eec24/LoTSS_DR2_mosaic/P205+55_mosaic-blanked.fits',\n",
       " '/data/astronomy-big-data/bc96e9620e41b9aba98292d37b5eec24/LoTSS_DR2_mosaic/P206+52_mosaic-blanked.fits',\n",
       " '/data/astronomy-big-data/bc96e9620e41b9aba98292d37b5eec24/LoTSS_DR2_mosaic/P169+57_mosaic-blanked.fits',\n",
       " '/data/astronomy-big-data/bc96e9620e41b9aba98292d37b5eec24/LoTSS_DR2_mosaic/P2Hetdex01_mosaic-blanked.fits',\n",
       " '/data/astronomy-big-data/bc96e9620e41b9aba98292d37b5eec24/LoTSS_DR2_mosaic/P230+42_mosaic-blanked.fits',\n",
       " '/data/astronomy-big-data/bc96e9620e41b9aba98292d37b5eec24/LoTSS_DR2_mosaic/P198+57_mosaic-blanked.fits',\n",
       " '/data/astronomy-big-data/bc96e9620e41b9aba98292d37b5eec24/LoTSS_DR2_mosaic/P222+58_mosaic-blanked.fits',\n",
       " '/data/astronomy-big-data/bc96e9620e41b9aba98292d37b5eec24/LoTSS_DR2_mosaic/P243+60_mosaic-blanked.fits',\n",
       " '/data/astronomy-big-data/bc96e9620e41b9aba98292d37b5eec24/LoTSS_DR2_mosaic/P231+50_mosaic-blanked.fits',\n",
       " '/data/astronomy-big-data/bc96e9620e41b9aba98292d37b5eec24/LoTSS_DR2_mosaic/P347+26_mosaic-blanked.fits',\n",
       " '/data/astronomy-big-data/bc96e9620e41b9aba98292d37b5eec24/LoTSS_DR2_mosaic/P169+55_mosaic-blanked.fits',\n",
       " '/data/astronomy-big-data/bc96e9620e41b9aba98292d37b5eec24/LoTSS_DR2_mosaic/P221+47_mosaic-blanked.fits',\n",
       " '/data/astronomy-big-data/bc96e9620e41b9aba98292d37b5eec24/LoTSS_DR2_mosaic/P5Hetdex41_mosaic-blanked.fits',\n",
       " '/data/astronomy-big-data/bc96e9620e41b9aba98292d37b5eec24/LoTSS_DR2_mosaic/P237+58_mosaic-blanked.fits',\n",
       " '/data/astronomy-big-data/bc96e9620e41b9aba98292d37b5eec24/LoTSS_DR2_mosaic/P1Hetdex15_mosaic-blanked.fits',\n",
       " '/data/astronomy-big-data/bc96e9620e41b9aba98292d37b5eec24/LoTSS_DR2_mosaic/P004+38_mosaic-blanked.fits',\n",
       " '/data/astronomy-big-data/bc96e9620e41b9aba98292d37b5eec24/LoTSS_DR2_mosaic/P146+55_mosaic-blanked.fits',\n",
       " '/data/astronomy-big-data/bc96e9620e41b9aba98292d37b5eec24/LoTSS_DR2_mosaic/P17_mosaic-blanked.fits',\n",
       " '/data/astronomy-big-data/bc96e9620e41b9aba98292d37b5eec24/LoTSS_DR2_mosaic/P037+39_mosaic-blanked.fits',\n",
       " '/data/astronomy-big-data/bc96e9620e41b9aba98292d37b5eec24/LoTSS_DR2_mosaic/P198+42_mosaic-blanked.fits',\n",
       " '/data/astronomy-big-data/bc96e9620e41b9aba98292d37b5eec24/LoTSS_DR2_mosaic/P141+47_mosaic-blanked.fits',\n",
       " '/data/astronomy-big-data/bc96e9620e41b9aba98292d37b5eec24/LoTSS_DR2_mosaic/P024+39_mosaic-blanked.fits',\n",
       " '/data/astronomy-big-data/bc96e9620e41b9aba98292d37b5eec24/LoTSS_DR2_mosaic/P236+55_mosaic-blanked.fits',\n",
       " '/data/astronomy-big-data/bc96e9620e41b9aba98292d37b5eec24/LoTSS_DR2_mosaic/P214+45_mosaic-blanked.fits',\n",
       " '/data/astronomy-big-data/bc96e9620e41b9aba98292d37b5eec24/LoTSS_DR2_mosaic/P227+55_mosaic-blanked.fits',\n",
       " '/data/astronomy-big-data/bc96e9620e41b9aba98292d37b5eec24/LoTSS_DR2_mosaic/P007+39_mosaic-blanked.fits',\n",
       " '/data/astronomy-big-data/bc96e9620e41b9aba98292d37b5eec24/LoTSS_DR2_mosaic/P152+45_mosaic-blanked.fits',\n",
       " '/data/astronomy-big-data/bc96e9620e41b9aba98292d37b5eec24/LoTSS_DR2_mosaic/P214+52_mosaic-blanked.fits',\n",
       " '/data/astronomy-big-data/bc96e9620e41b9aba98292d37b5eec24/LoTSS_DR2_mosaic/P37Hetdex15_mosaic-blanked.fits',\n",
       " '/data/astronomy-big-data/bc96e9620e41b9aba98292d37b5eec24/LoTSS_DR2_mosaic/P223+42_mosaic-blanked.fits',\n",
       " '/data/astronomy-big-data/bc96e9620e41b9aba98292d37b5eec24/LoTSS_DR2_mosaic/P210+52_mosaic-blanked.fits',\n",
       " '/data/astronomy-big-data/bc96e9620e41b9aba98292d37b5eec24/LoTSS_DR2_mosaic/P31Hetdex19_mosaic-blanked.fits',\n",
       " '/data/astronomy-big-data/bc96e9620e41b9aba98292d37b5eec24/LoTSS_DR2_mosaic/P177+42_mosaic-blanked.fits',\n",
       " '/data/astronomy-big-data/bc96e9620e41b9aba98292d37b5eec24/LoTSS_DR2_mosaic/P022+36_mosaic-blanked.fits',\n",
       " '/data/astronomy-big-data/bc96e9620e41b9aba98292d37b5eec24/LoTSS_DR2_mosaic/P212+60_mosaic-blanked.fits',\n",
       " '/data/astronomy-big-data/bc96e9620e41b9aba98292d37b5eec24/LoTSS_DR2_mosaic/P217+57_mosaic-blanked.fits',\n",
       " '/data/astronomy-big-data/bc96e9620e41b9aba98292d37b5eec24/LoTSS_DR2_mosaic/P8Hetdex28_mosaic-blanked.fits',\n",
       " '/data/astronomy-big-data/bc96e9620e41b9aba98292d37b5eec24/LoTSS_DR2_mosaic/P023+29_mosaic-blanked.fits',\n",
       " '/data/astronomy-big-data/bc96e9620e41b9aba98292d37b5eec24/LoTSS_DR2_mosaic/P223+55_mosaic-blanked.fits',\n",
       " '/data/astronomy-big-data/bc96e9620e41b9aba98292d37b5eec24/LoTSS_DR2_mosaic/P160+55_mosaic-blanked.fits',\n",
       " '/data/astronomy-big-data/bc96e9620e41b9aba98292d37b5eec24/LoTSS_DR2_mosaic/P156+47_mosaic-blanked.fits',\n",
       " '/data/astronomy-big-data/bc96e9620e41b9aba98292d37b5eec24/LoTSS_DR2_mosaic/P184+57_mosaic-blanked.fits',\n",
       " '/data/astronomy-big-data/bc96e9620e41b9aba98292d37b5eec24/LoTSS_DR2_mosaic/P20Hetdex17_mosaic-blanked.fits',\n",
       " '/data/astronomy-big-data/bc96e9620e41b9aba98292d37b5eec24/LoTSS_DR2_mosaic/P232+58_mosaic-blanked.fits',\n",
       " '/data/astronomy-big-data/bc96e9620e41b9aba98292d37b5eec24/LoTSS_DR2_mosaic/P145+60_mosaic-blanked.fits',\n",
       " '/data/astronomy-big-data/bc96e9620e41b9aba98292d37b5eec24/LoTSS_DR2_mosaic/P23Hetdex20_mosaic-blanked.fits',\n",
       " '/data/astronomy-big-data/bc96e9620e41b9aba98292d37b5eec24/LoTSS_DR2_mosaic/P27Hetdex09_mosaic-blanked.fits',\n",
       " '/data/astronomy-big-data/bc96e9620e41b9aba98292d37b5eec24/LoTSS_DR2_mosaic/P40Hetdex19_mosaic-blanked.fits',\n",
       " '/data/astronomy-big-data/bc96e9620e41b9aba98292d37b5eec24/LoTSS_DR2_mosaic/P196+55_mosaic-blanked.fits',\n",
       " '/data/astronomy-big-data/bc96e9620e41b9aba98292d37b5eec24/LoTSS_DR2_mosaic/P214+55_mosaic-blanked.fits',\n",
       " '/data/astronomy-big-data/bc96e9620e41b9aba98292d37b5eec24/LoTSS_DR2_mosaic/P9Hetdex01_mosaic-blanked.fits',\n",
       " '/data/astronomy-big-data/bc96e9620e41b9aba98292d37b5eec24/LoTSS_DR2_mosaic/P153+42_mosaic-blanked.fits',\n",
       " '/data/astronomy-big-data/bc96e9620e41b9aba98292d37b5eec24/LoTSS_DR2_mosaic/P200+55_mosaic-blanked.fits',\n",
       " '/data/astronomy-big-data/bc96e9620e41b9aba98292d37b5eec24/LoTSS_DR2_mosaic/P116+34_mosaic-blanked.fits',\n",
       " '/data/astronomy-big-data/bc96e9620e41b9aba98292d37b5eec24/LoTSS_DR2_mosaic/P145+47_mosaic-blanked.fits',\n",
       " '/data/astronomy-big-data/bc96e9620e41b9aba98292d37b5eec24/LoTSS_DR2_mosaic/P150+57_mosaic-blanked.fits',\n",
       " '/data/astronomy-big-data/bc96e9620e41b9aba98292d37b5eec24/LoTSS_DR2_mosaic/P189+57_mosaic-blanked.fits',\n",
       " '/data/astronomy-big-data/bc96e9620e41b9aba98292d37b5eec24/LoTSS_DR2_mosaic/P241+58_mosaic-blanked.fits',\n",
       " '/data/astronomy-big-data/bc96e9620e41b9aba98292d37b5eec24/LoTSS_DR2_mosaic/P232+55_mosaic-blanked.fits',\n",
       " '/data/astronomy-big-data/bc96e9620e41b9aba98292d37b5eec24/LoTSS_DR2_mosaic/P218+45_mosaic-blanked.fits',\n",
       " '/data/astronomy-big-data/bc96e9620e41b9aba98292d37b5eec24/LoTSS_DR2_mosaic/P182+55_mosaic-blanked.fits',\n",
       " '/data/astronomy-big-data/bc96e9620e41b9aba98292d37b5eec24/LoTSS_DR2_mosaic/P142+42_mosaic-blanked.fits',\n",
       " '/data/astronomy-big-data/bc96e9620e41b9aba98292d37b5eec24/LoTSS_DR2_mosaic/P142+50_mosaic-blanked.fits',\n",
       " '/data/astronomy-big-data/bc96e9620e41b9aba98292d37b5eec24/LoTSS_DR2_mosaic/P146+50_mosaic-blanked.fits',\n",
       " '/data/astronomy-big-data/bc96e9620e41b9aba98292d37b5eec24/LoTSS_DR2_mosaic/P233+48_mosaic-blanked.fits',\n",
       " '/data/astronomy-big-data/bc96e9620e41b9aba98292d37b5eec24/LoTSS_DR2_mosaic/P147+52_mosaic-blanked.fits',\n",
       " '/data/astronomy-big-data/bc96e9620e41b9aba98292d37b5eec24/LoTSS_DR2_mosaic/P150+60_mosaic-blanked.fits',\n",
       " '/data/astronomy-big-data/bc96e9620e41b9aba98292d37b5eec24/LoTSS_DR2_mosaic/P140+60_mosaic-blanked.fits',\n",
       " '/data/astronomy-big-data/bc96e9620e41b9aba98292d37b5eec24/LoTSS_DR2_mosaic/P225+47_mosaic-blanked.fits',\n",
       " '/data/astronomy-big-data/bc96e9620e41b9aba98292d37b5eec24/LoTSS_DR2_mosaic/P167+42_mosaic-blanked.fits',\n",
       " '/data/astronomy-big-data/bc96e9620e41b9aba98292d37b5eec24/LoTSS_DR2_mosaic/P159+52_mosaic-blanked.fits',\n",
       " '/data/astronomy-big-data/bc96e9620e41b9aba98292d37b5eec24/LoTSS_DR2_mosaic/P244+53_mosaic-blanked.fits',\n",
       " '/data/astronomy-big-data/bc96e9620e41b9aba98292d37b5eec24/LoTSS_DR2_mosaic/P217+60_mosaic-blanked.fits',\n",
       " '/data/astronomy-big-data/bc96e9620e41b9aba98292d37b5eec24/LoTSS_DR2_mosaic/P174+42_mosaic-blanked.fits',\n",
       " '/data/astronomy-big-data/bc96e9620e41b9aba98292d37b5eec24/LoTSS_DR2_mosaic/P246+58_mosaic-blanked.fits',\n",
       " '/data/astronomy-big-data/bc96e9620e41b9aba98292d37b5eec24/LoTSS_DR2_mosaic/P160+42_mosaic-blanked.fits',\n",
       " '/data/astronomy-big-data/bc96e9620e41b9aba98292d37b5eec24/LoTSS_DR2_mosaic/P237+43_mosaic-blanked.fits',\n",
       " '/data/astronomy-big-data/bc96e9620e41b9aba98292d37b5eec24/LoTSS_DR2_mosaic/P187+55_mosaic-blanked.fits',\n",
       " '/data/astronomy-big-data/bc96e9620e41b9aba98292d37b5eec24/LoTSS_DR2_mosaic/P24Hetdex20_mosaic-blanked.fits',\n",
       " '/data/astronomy-big-data/bc96e9620e41b9aba98292d37b5eec24/LoTSS_DR2_mosaic/P30Hetdex06_mosaic-blanked.fits',\n",
       " '/data/astronomy-big-data/bc96e9620e41b9aba98292d37b5eec24/LoTSS_DR2_mosaic/P42Hetdex07_mosaic-blanked.fits',\n",
       " '/data/astronomy-big-data/bc96e9620e41b9aba98292d37b5eec24/LoTSS_DR2_mosaic/P006+36_mosaic-blanked.fits',\n",
       " '/data/astronomy-big-data/bc96e9620e41b9aba98292d37b5eec24/LoTSS_DR2_mosaic/P154+50_mosaic-blanked.fits',\n",
       " '/data/astronomy-big-data/bc96e9620e41b9aba98292d37b5eec24/LoTSS_DR2_mosaic/P232+45_mosaic-blanked.fits',\n",
       " '/data/astronomy-big-data/bc96e9620e41b9aba98292d37b5eec24/LoTSS_DR2_mosaic/P240+53_mosaic-blanked.fits',\n",
       " '/data/astronomy-big-data/bc96e9620e41b9aba98292d37b5eec24/LoTSS_DR2_mosaic/P195+42_mosaic-blanked.fits',\n",
       " '/data/astronomy-big-data/bc96e9620e41b9aba98292d37b5eec24/LoTSS_DR2_mosaic/P227+53_mosaic-blanked.fits',\n",
       " '/data/astronomy-big-data/bc96e9620e41b9aba98292d37b5eec24/LoTSS_DR2_mosaic/P184+42_mosaic-blanked.fits',\n",
       " '/data/astronomy-big-data/bc96e9620e41b9aba98292d37b5eec24/LoTSS_DR2_mosaic/P156+45_mosaic-blanked.fits',\n",
       " '/data/astronomy-big-data/bc96e9620e41b9aba98292d37b5eec24/LoTSS_DR2_mosaic/P231+53_mosaic-blanked.fits',\n",
       " '/data/astronomy-big-data/bc96e9620e41b9aba98292d37b5eec24/LoTSS_DR2_mosaic/P243+45_mosaic-blanked.fits',\n",
       " '/data/astronomy-big-data/bc96e9620e41b9aba98292d37b5eec24/LoTSS_DR2_mosaic/P165+57_mosaic-blanked.fits',\n",
       " '/data/astronomy-big-data/bc96e9620e41b9aba98292d37b5eec24/LoTSS_DR2_mosaic/P197+60_mosaic-blanked.fits',\n",
       " '/data/astronomy-big-data/bc96e9620e41b9aba98292d37b5eec24/LoTSS_DR2_mosaic/P22Hetdex04_mosaic-blanked.fits']"
      ]
     },
     "execution_count": 7,
     "metadata": {},
     "output_type": "execute_result"
    }
   ],
   "source": [
    "fits_files = [mosaic_path + f for f in os.listdir(mosaic_path)]\n",
    "random.shuffle(fits_files)\n",
    "file_paths = sc.parallelize(fits_files, 8) # , len(fits_files)\n",
    "file_paths.collect()"
   ]
  },
  {
   "cell_type": "code",
   "execution_count": 8,
   "metadata": {},
   "outputs": [],
   "source": [
    "test = file_paths.map(lambda fits: (mosaic(fits)))\n",
    "info = test.collect()"
   ]
  },
  {
   "cell_type": "code",
   "execution_count": 9,
   "metadata": {},
   "outputs": [
    {
     "data": {
      "text/plain": [
       "array([  8.57999485, 223.43031569,  52.49101666])"
      ]
     },
     "execution_count": 9,
     "metadata": {},
     "output_type": "execute_result"
    }
   ],
   "source": [
    "type(info)\n",
    "info[0]"
   ]
  },
  {
   "cell_type": "code",
   "execution_count": 10,
   "metadata": {},
   "outputs": [],
   "source": [
    "overlap_dict = {k.split('/')[-1]: [] for k in fits_files}\n",
    "\n",
    "for i, f1 in enumerate(fits_files):\n",
    "    f1 = f1.split('/')[-1]\n",
    "    for j, f2 in enumerate(fits_files):\n",
    "        if j > i:\n",
    "            f2 = f2.split('/')[-1]\n",
    "            offset = np.array((info[i][1] - info[j][1], info[i][2] - info[j][2]))\n",
    "            distance = np.sqrt(np.sum(np.power(offset, 2)))\n",
    "            radius = info[i][0] + info[j][0]\n",
    "            if distance <= radius:\n",
    "                overlap_dict[f1].append(f2)\n",
    "                overlap_dict[f2].append(f1)"
   ]
  },
  {
   "cell_type": "code",
   "execution_count": 15,
   "metadata": {},
   "outputs": [],
   "source": [
    "with open(os.path.join('overlap_dict.csv'), 'w') as outfile:\n",
    "    outfile.write('fitsfile,center_ra,center_dec,radius,overlaps')\n",
    "    for i, fi in enumerate(fits_files):\n",
    "        outfile.write('\\n{},{},{},{},{}'.format(fi.split('/')[-1], info[i][1], info[i][2], info[i][0], ';'.join(overlap_dict[f1])))\n",
    "\n",
    "with open(os.path.join('overlap_dict_header.csv'), 'w') as outfile:\n",
    "    outfile.write('fitsfile,center_ra,center_dec,radius,overlaps')"
   ]
  },
  {
   "cell_type": "code",
   "execution_count": 12,
   "metadata": {
    "scrolled": true
   },
   "outputs": [
    {
     "data": {
      "text/plain": [
       "[<matplotlib.lines.Line2D at 0x7f05efac7a58>]"
      ]
     },
     "execution_count": 12,
     "metadata": {},
     "output_type": "execute_result"
    },
    {
     "data": {
      "image/png": "[encoded data removed]",
      "text/plain": [
       "<Figure size 1080x360 with 1 Axes>"
      ]
     },
     "metadata": {
      "needs_background": "light"
     },
     "output_type": "display_data"
    }
   ],
   "source": [
    "import matplotlib.pyplot as plt\n",
    "\n",
    "x = range(len(fits_files))\n",
    "y = [len(overlap_dict[i]) for i in overlap_dict.keys()]\n",
    "\n",
    "labels = [fits_files[X].split('/')[-1] for Y, X in sorted(zip(y,x), key=lambda pair: pair[0])]\n",
    "\n",
    "#print(labels)\n",
    "\n",
    "fig = plt.figure(figsize=(15,5))\n",
    "plt.xticks(range(len(labels)), rotation=90)\n",
    "plt.plot(x, sorted(y))"
   ]
  },
  {
   "cell_type": "code",
   "execution_count": 121,
   "metadata": {},
   "outputs": [
    {
     "data": {
      "text/plain": [
       "['P206+50_mosaic-blanked.fits',\n",
       " 'P155+55_mosaic-blanked.fits',\n",
       " 'P160+55_mosaic-blanked.fits',\n",
       " 'P154+50_mosaic-blanked.fits',\n",
       " 'P219+52_mosaic-blanked.fits',\n",
       " 'P221+47_mosaic-blanked.fits',\n",
       " 'P227+55_mosaic-blanked.fits',\n",
       " 'P214+52_mosaic-blanked.fits',\n",
       " 'P210+52_mosaic-blanked.fits',\n",
       " 'P9Hetdex01_mosaic-blanked.fits',\n",
       " 'P159+52_mosaic-blanked.fits',\n",
       " 'P231+53_mosaic-blanked.fits',\n",
       " 'P223+52_mosaic-blanked.fits',\n",
       " 'P155+52_mosaic-blanked.fits',\n",
       " 'P13Hetdex12_mosaic-blanked.fits',\n",
       " 'P227+53_mosaic-blanked.fits',\n",
       " 'P215+50_mosaic-blanked.fits',\n",
       " 'P225+47_mosaic-blanked.fits',\n",
       " 'P219+50_mosaic-blanked.fits',\n",
       " 'P211+50_mosaic-blanked.fits']"
      ]
     },
     "execution_count": 121,
     "metadata": {},
     "output_type": "execute_result"
    }
   ],
   "source": [
    "labels[-20:]"
   ]
  },
  {
   "cell_type": "code",
   "execution_count": 122,
   "metadata": {},
   "outputs": [
    {
     "data": {
      "text/plain": [
       "['P121+32_mosaic-blanked.fits',\n",
       " 'P345+33_mosaic-blanked.fits',\n",
       " 'P112+37_mosaic-blanked.fits',\n",
       " 'P335+26_mosaic-blanked.fits',\n",
       " 'P347+26_mosaic-blanked.fits',\n",
       " 'P116+34_mosaic-blanked.fits',\n",
       " 'P000+38_mosaic-blanked.fits',\n",
       " 'P004+38_mosaic-blanked.fits',\n",
       " 'P036+31_mosaic-blanked.fits',\n",
       " 'P037+39_mosaic-blanked.fits',\n",
       " 'P006+36_mosaic-blanked.fits',\n",
       " 'P013+26_mosaic-blanked.fits',\n",
       " 'P007+39_mosaic-blanked.fits',\n",
       " 'P034+39_mosaic-blanked.fits',\n",
       " 'P035+34_mosaic-blanked.fits',\n",
       " 'P030+39_mosaic-blanked.fits',\n",
       " 'P022+34_mosaic-blanked.fits',\n",
       " 'P027+31_mosaic-blanked.fits',\n",
       " 'P012+36_mosaic-blanked.fits',\n",
       " 'P016+34_mosaic-blanked.fits']"
      ]
     },
     "execution_count": 122,
     "metadata": {},
     "output_type": "execute_result"
    }
   ],
   "source": [
    "labels[:20]"
   ]
  },
  {
   "cell_type": "code",
   "execution_count": null,
   "metadata": {},
   "outputs": [],
   "source": []
  }
 ],
 "metadata": {
  "kernelspec": {
   "display_name": "Python 3",
   "language": "python",
   "name": "python3"
  },
  "language_info": {
   "codemirror_mode": {
    "name": "ipython",
    "version": 3
   },
   "file_extension": ".py",
   "mimetype": "text/x-python",
   "name": "python",
   "nbconvert_exporter": "python",
   "pygments_lexer": "ipython3",
   "version": "3.6.10"
  }
 },
 "nbformat": 4,
 "nbformat_minor": 4
}
