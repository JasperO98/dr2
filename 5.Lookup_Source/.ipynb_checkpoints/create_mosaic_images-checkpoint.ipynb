{
 "cells": [
  {
   "cell_type": "code",
   "execution_count": 1,
   "metadata": {},
   "outputs": [
    {
     "name": "stderr",
     "output_type": "stream",
     "text": [
      "WARNING: leap-second auto-update failed due to the following exception: RuntimeError('Cache is locked after 5.03 s. This may indicate an astropy bug or that kill -9 was used. If you want to unlock the cache remove the directory /home/s2494876/.astropy/cache/download/py3/lock. Lock claims to be held by process 70973.',) [astropy.time.core]\n"
     ]
    }
   ],
   "source": [
    "import pandas as pd\n",
    "import numpy as np\n",
    "import os\n",
    "from PIL import Image, ImageDraw\n",
    "from matplotlib import pyplot as plt\n",
    "\n",
    "from astropy.io import fits\n",
    "from astropy.wcs import WCS\n",
    "from photutils import detect_threshold\n",
    "from astropy.stats import gaussian_fwhm_to_sigma\n",
    "from photutils import detect_sources\n",
    "from astropy.convolution import Gaussian2DKernel\n",
    "\n",
    "from pyspark import SparkContext\n",
    "from pyspark.sql import SparkSession\n",
    "\n",
    "import os, fnmatch\n",
    "import warnings\n",
    "import shutil"
   ]
  },
  {
   "cell_type": "code",
   "execution_count": 2,
   "metadata": {},
   "outputs": [],
   "source": [
    "try:\n",
    "    sc = SparkContext(appName=\"SDDM\") #, master='spark://fs.dslc.liacs.nl:7078')\n",
    "except ValueError:\n",
    "    warnings.warn(\"SparkContext already exists in this scope\")\n",
    "    "
   ]
  },
  {
   "cell_type": "code",
   "execution_count": 3,
   "metadata": {},
   "outputs": [],
   "source": [
    "IMAGE_PATH = '/data/astronomy-big-data/bc96e9620e41b9aba98292d37b5eec24/LoTSS_DR2_mosaic/' # './images_upper'\n",
    "WRITE_PATH = './mosaic_images'"
   ]
  },
  {
   "cell_type": "code",
   "execution_count": 5,
   "metadata": {},
   "outputs": [],
   "source": [
    "# Take two fits files\n",
    "fits_files = [IMAGE_PATH + f for f in os.listdir(IMAGE_PATH) if not os.path.isfile(os.path.join(WRITE_PATH, f.split('_')[0]) + '.png')]"
   ]
  },
  {
   "cell_type": "code",
   "execution_count": 10,
   "metadata": {},
   "outputs": [
    {
     "name": "stdout",
     "output_type": "stream",
     "text": [
      "54\n"
     ]
    }
   ],
   "source": [
    "# Put the paths in an RDD and determine number of partitions\n",
    "# More partitions == more cpu and faster (can crash when partitions are too high)\n",
    "file_paths = sc.parallelize(fits_files, 64) # , len(fits_files)\n",
    "print(len(file_paths.collect()))"
   ]
  },
  {
   "cell_type": "code",
   "execution_count": 11,
   "metadata": {},
   "outputs": [
    {
     "data": {
      "text/plain": [
       "64"
      ]
     },
     "execution_count": 11,
     "metadata": {},
     "output_type": "execute_result"
    }
   ],
   "source": [
    "# Map the RDD with paths to the fits.open() function to get the content in the .fits\n",
    "fits_content = file_paths.map(lambda file: fits.open(file)[0], 64)\n",
    "fits_content.getNumPartitions()"
   ]
  },
  {
   "cell_type": "code",
   "execution_count": 12,
   "metadata": {},
   "outputs": [],
   "source": [
    "# Save pair of fits content: threshold matrix in a RDD.\n",
    "fits_thresh = fits_content.map(lambda content: (content, detect_threshold(content.data , nsigma=3.)))"
   ]
  },
  {
   "cell_type": "code",
   "execution_count": 13,
   "metadata": {},
   "outputs": [
    {
     "data": {
      "text/plain": [
       "64"
      ]
     },
     "execution_count": 13,
     "metadata": {},
     "output_type": "execute_result"
    }
   ],
   "source": [
    "sigma = 3.0 * gaussian_fwhm_to_sigma  # FWHM = 3.\n",
    "\n",
    "kernel = Gaussian2DKernel(sigma, x_size=3, y_size=3)\n",
    "kernel.normalize()\n",
    "\n",
    "# sources = object with label of sources for each pixel in the fits file\n",
    "# Save pair of fits content: source matrix in a RDD.\n",
    "fits_sources = fits_thresh.map(lambda ft: (ft[0].header,\n",
    "                                           detect_sources(ft[0].data, ft[1], npixels=16, filter_kernel=kernel),\n",
    "                                           )\n",
    "                                     )\n",
    "fits_sources.getNumPartitions()"
   ]
  },
  {
   "cell_type": "code",
   "execution_count": 14,
   "metadata": {},
   "outputs": [],
   "source": [
    "def getImage(header, sources):    \n",
    "    cmap = sources.make_cmap(random_state=12345)\n",
    "    x = header['NAXIS1']\n",
    "    y = header['NAXIS2']\n",
    "\n",
    "    fig = plt.figure(frameon=False)\n",
    "    fig.set_size_inches(x/1000,y/1000)\n",
    "    ax = plt.Axes(fig, [0., 0., 1., 1.])\n",
    "    ax.set_axis_off()\n",
    "    fig.add_axes(ax)\n",
    "    ax.imshow(sources, origin='upper', cmap=cmap)\n",
    "    fig.savefig('%s/%s.png'%(WRITE_PATH,header[\"OBJECT\"]), dpi=1000)\n",
    "    return (header[\"OBJECT\"], True)"
   ]
  },
  {
   "cell_type": "code",
   "execution_count": 15,
   "metadata": {},
   "outputs": [],
   "source": [
    "images = fits_sources.map(lambda x: getImage(x[0], x[1])).collect()"
   ]
  },
  {
   "cell_type": "code",
   "execution_count": null,
   "metadata": {},
   "outputs": [],
   "source": []
  }
 ],
 "metadata": {
  "kernelspec": {
   "display_name": "Python 3",
   "language": "python",
   "name": "python3"
  },
  "language_info": {
   "codemirror_mode": {
    "name": "ipython",
    "version": 3
   },
   "file_extension": ".py",
   "mimetype": "text/x-python",
   "name": "python",
   "nbconvert_exporter": "python",
   "pygments_lexer": "ipython3",
   "version": "3.6.10"
  }
 },
 "nbformat": 4,
 "nbformat_minor": 4
}
